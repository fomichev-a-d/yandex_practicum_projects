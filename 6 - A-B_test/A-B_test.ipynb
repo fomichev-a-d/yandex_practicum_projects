{
 "cells": [
  {
   "cell_type": "markdown",
   "id": "b5395e1b",
   "metadata": {
    "toc": true
   },
   "source": [
    "<h1>Table of Contents<span class=\"tocSkip\"></span></h1>\n",
    "<div class=\"toc\"><ul class=\"toc-item\"><li><span><a href=\"#Приоритизация-гипотез-для-A/B-тестирования\" data-toc-modified-id=\"Приоритизация-гипотез-для-A/B-тестирования-1\"><span class=\"toc-item-num\">1&nbsp;&nbsp;</span>Приоритизация гипотез для A/B тестирования</a></span><ul class=\"toc-item\"><li><span><a href=\"#Обзор-данных\" data-toc-modified-id=\"Обзор-данных-1.1\"><span class=\"toc-item-num\">1.1&nbsp;&nbsp;</span>Обзор данных</a></span></li><li><span><a href=\"#Расчет-ICE-score\" data-toc-modified-id=\"Расчет-ICE-score-1.2\"><span class=\"toc-item-num\">1.2&nbsp;&nbsp;</span>Расчет ICE score</a></span></li><li><span><a href=\"#Расчет-RICE-score\" data-toc-modified-id=\"Расчет-RICE-score-1.3\"><span class=\"toc-item-num\">1.3&nbsp;&nbsp;</span>Расчет RICE score</a></span></li><li><span><a href=\"#Выбор-приоритетной-гипотезы\" data-toc-modified-id=\"Выбор-приоритетной-гипотезы-1.4\"><span class=\"toc-item-num\">1.4&nbsp;&nbsp;</span>Выбор приоритетной гипотезы</a></span></li></ul></li><li><span><a href=\"#Проведение-A/B-тестирования,-сбор-данных\" data-toc-modified-id=\"Проведение-A/B-тестирования,-сбор-данных-2\"><span class=\"toc-item-num\">2&nbsp;&nbsp;</span>Проведение A/B тестирования, сбор данных</a></span></li><li><span><a href=\"#Анализ-результатов-A/B-тестирования\" data-toc-modified-id=\"Анализ-результатов-A/B-тестирования-3\"><span class=\"toc-item-num\">3&nbsp;&nbsp;</span>Анализ результатов A/B тестирования</a></span><ul class=\"toc-item\"><li><span><a href=\"#Обзор-данных\" data-toc-modified-id=\"Обзор-данных-3.1\"><span class=\"toc-item-num\">3.1&nbsp;&nbsp;</span>Обзор данных</a></span></li><li><span><a href=\"#Предобработка-данных\" data-toc-modified-id=\"Предобработка-данных-3.2\"><span class=\"toc-item-num\">3.2&nbsp;&nbsp;</span>Предобработка данных</a></span></li><li><span><a href=\"#Анализ-выручки-и-среднего-чека\" data-toc-modified-id=\"Анализ-выручки-и-среднего-чека-3.3\"><span class=\"toc-item-num\">3.3&nbsp;&nbsp;</span>Анализ выручки и среднего чека</a></span><ul class=\"toc-item\"><li><span><a href=\"#График-кумулятивной-выручки\" data-toc-modified-id=\"График-кумулятивной-выручки-3.3.1\"><span class=\"toc-item-num\">3.3.1&nbsp;&nbsp;</span>График кумулятивной выручки</a></span></li><li><span><a href=\"#График-кумулятивного-среднего-чека\" data-toc-modified-id=\"График-кумулятивного-среднего-чека-3.3.2\"><span class=\"toc-item-num\">3.3.2&nbsp;&nbsp;</span>График кумулятивного среднего чека</a></span></li><li><span><a href=\"#График-относительного-изменения-кумулятивного-среднего-чека\" data-toc-modified-id=\"График-относительного-изменения-кумулятивного-среднего-чека-3.3.3\"><span class=\"toc-item-num\">3.3.3&nbsp;&nbsp;</span>График относительного изменения кумулятивного среднего чека</a></span></li></ul></li><li><span><a href=\"#Анализ-конверсии\" data-toc-modified-id=\"Анализ-конверсии-3.4\"><span class=\"toc-item-num\">3.4&nbsp;&nbsp;</span>Анализ конверсии</a></span></li><li><span><a href=\"#Анализ-аномальных-значений\" data-toc-modified-id=\"Анализ-аномальных-значений-3.5\"><span class=\"toc-item-num\">3.5&nbsp;&nbsp;</span>Анализ аномальных значений</a></span><ul class=\"toc-item\"><li><span><a href=\"#Количество-заказов-одного-пользователя\" data-toc-modified-id=\"Количество-заказов-одного-пользователя-3.5.1\"><span class=\"toc-item-num\">3.5.1&nbsp;&nbsp;</span>Количество заказов одного пользователя</a></span></li><li><span><a href=\"#Выручка-одного-заказа\" data-toc-modified-id=\"Выручка-одного-заказа-3.5.2\"><span class=\"toc-item-num\">3.5.2&nbsp;&nbsp;</span>Выручка одного заказа</a></span></li></ul></li><li><span><a href=\"#Оценка-статистической-значимости\" data-toc-modified-id=\"Оценка-статистической-значимости-3.6\"><span class=\"toc-item-num\">3.6&nbsp;&nbsp;</span>Оценка статистической значимости</a></span><ul class=\"toc-item\"><li><span><a href=\"#Подготовка-данных-для-оценки-статистической-значимости\" data-toc-modified-id=\"Подготовка-данных-для-оценки-статистической-значимости-3.6.1\"><span class=\"toc-item-num\">3.6.1&nbsp;&nbsp;</span>Подготовка данных для оценки статистической значимости</a></span></li><li><span><a href=\"#Конверсия,-&quot;сырые&quot;-данные\" data-toc-modified-id=\"Конверсия,-&quot;сырые&quot;-данные-3.6.2\"><span class=\"toc-item-num\">3.6.2&nbsp;&nbsp;</span>Конверсия, \"сырые\" данные</a></span></li><li><span><a href=\"#Средний-чек,-&quot;сырые&quot;-данные\" data-toc-modified-id=\"Средний-чек,-&quot;сырые&quot;-данные-3.6.3\"><span class=\"toc-item-num\">3.6.3&nbsp;&nbsp;</span>Средний чек, \"сырые\" данные</a></span></li><li><span><a href=\"#Удаление-аномальных-значений\" data-toc-modified-id=\"Удаление-аномальных-значений-3.6.4\"><span class=\"toc-item-num\">3.6.4&nbsp;&nbsp;</span>Удаление аномальных значений</a></span></li><li><span><a href=\"#Конверсия,-&quot;очищенные&quot;-данные\" data-toc-modified-id=\"Конверсия,-&quot;очищенные&quot;-данные-3.6.5\"><span class=\"toc-item-num\">3.6.5&nbsp;&nbsp;</span>Конверсия, \"очищенные\" данные</a></span></li><li><span><a href=\"#Средний-чек,-&quot;очищенные&quot;-данные\" data-toc-modified-id=\"Средний-чек,-&quot;очищенные&quot;-данные-3.6.6\"><span class=\"toc-item-num\">3.6.6&nbsp;&nbsp;</span>Средний чек, \"очищенные\" данные</a></span></li></ul></li></ul></li><li><span><a href=\"#Выводы\" data-toc-modified-id=\"Выводы-4\"><span class=\"toc-item-num\">4&nbsp;&nbsp;</span>Выводы</a></span></li></ul></div>"
   ]
  },
  {
   "cell_type": "markdown",
   "id": "77e4d2e9",
   "metadata": {},
   "source": [
    "# Проведение A/B тестирования"
   ]
  },
  {
   "cell_type": "markdown",
   "id": "1d24c3e2",
   "metadata": {},
   "source": [
    "**Проверка гипотезы с целью повышения ключевых метрик**\n",
    "\n",
    "На основании перечня гипотез от маркетингового отдела по повышению ключевых метрик необходимо выбрать наиболее приоритетную, а также провести сравнительный анализ и принять решение о внедрении изменений или отказе от работы с гипотезой."
   ]
  },
  {
   "cell_type": "markdown",
   "id": "3dbd88a5",
   "metadata": {},
   "source": [
    "**План работы**\n",
    "\n",
    "1. Выбор наиболее приоритетной гипотезы\n",
    "2. Проведение тестирования\n",
    "3. Подготовка данных для анализа\n",
    "4. Анализ ключевых метрик\n",
    "5. Проверка на наличие аномалий\n",
    "6. Оценка статистической значимости\n",
    "7. Принятие решения о дальнейшей работе с гипотезой"
   ]
  },
  {
   "cell_type": "code",
   "execution_count": 1,
   "id": "05463243",
   "metadata": {},
   "outputs": [],
   "source": [
    "import pandas as pd\n",
    "import numpy as np\n",
    "import scipy.stats as stats\n",
    "import matplotlib.pyplot as plt\n",
    "import datetime as dt"
   ]
  },
  {
   "cell_type": "code",
   "execution_count": 2,
   "id": "2c7cbacd",
   "metadata": {},
   "outputs": [],
   "source": [
    "pd.set_option('display.max_colwidth', 400)"
   ]
  },
  {
   "cell_type": "markdown",
   "id": "e567aff8",
   "metadata": {},
   "source": [
    "## Приоритизация гипотез для A/B тестирования"
   ]
  },
  {
   "cell_type": "markdown",
   "id": "3b791d4c",
   "metadata": {},
   "source": [
    "Для выбора гипотезы для исследования необходимо провести оценку их приоритетности и потенциальной эффективности."
   ]
  },
  {
   "cell_type": "markdown",
   "id": "2b825335",
   "metadata": {},
   "source": [
    "### Обзор данных"
   ]
  },
  {
   "cell_type": "code",
   "execution_count": 3,
   "id": "66351cfc",
   "metadata": {},
   "outputs": [],
   "source": [
    "try:\n",
    "    hypothesis = pd.read_csv('Datasets/hypothesis.csv')\n",
    "except:\n",
    "    hypothesis = pd.read_csv('https://code.s3.yandex.net/datasets/hypothesis.csv')"
   ]
  },
  {
   "cell_type": "code",
   "execution_count": 4,
   "id": "abab66ca",
   "metadata": {
    "scrolled": true
   },
   "outputs": [
    {
     "data": {
      "text/html": [
       "<div>\n",
       "<style scoped>\n",
       "    .dataframe tbody tr th:only-of-type {\n",
       "        vertical-align: middle;\n",
       "    }\n",
       "\n",
       "    .dataframe tbody tr th {\n",
       "        vertical-align: top;\n",
       "    }\n",
       "\n",
       "    .dataframe thead th {\n",
       "        text-align: right;\n",
       "    }\n",
       "</style>\n",
       "<table border=\"1\" class=\"dataframe\">\n",
       "  <thead>\n",
       "    <tr style=\"text-align: right;\">\n",
       "      <th></th>\n",
       "      <th>Hypothesis</th>\n",
       "      <th>Reach</th>\n",
       "      <th>Impact</th>\n",
       "      <th>Confidence</th>\n",
       "      <th>Efforts</th>\n",
       "    </tr>\n",
       "  </thead>\n",
       "  <tbody>\n",
       "    <tr>\n",
       "      <th>0</th>\n",
       "      <td>Добавить два новых канала привлечения трафика, что позволит привлекать на 30% больше пользователей</td>\n",
       "      <td>3</td>\n",
       "      <td>10</td>\n",
       "      <td>8</td>\n",
       "      <td>6</td>\n",
       "    </tr>\n",
       "    <tr>\n",
       "      <th>1</th>\n",
       "      <td>Запустить собственную службу доставки, что сократит срок доставки заказов</td>\n",
       "      <td>2</td>\n",
       "      <td>5</td>\n",
       "      <td>4</td>\n",
       "      <td>10</td>\n",
       "    </tr>\n",
       "    <tr>\n",
       "      <th>2</th>\n",
       "      <td>Добавить блоки рекомендаций товаров на сайт интернет магазина, чтобы повысить конверсию и средний чек заказа</td>\n",
       "      <td>8</td>\n",
       "      <td>3</td>\n",
       "      <td>7</td>\n",
       "      <td>3</td>\n",
       "    </tr>\n",
       "    <tr>\n",
       "      <th>3</th>\n",
       "      <td>Изменить структура категорий, что увеличит конверсию, т.к. пользователи быстрее найдут нужный товар</td>\n",
       "      <td>8</td>\n",
       "      <td>3</td>\n",
       "      <td>3</td>\n",
       "      <td>8</td>\n",
       "    </tr>\n",
       "    <tr>\n",
       "      <th>4</th>\n",
       "      <td>Изменить цвет фона главной страницы, чтобы увеличить вовлеченность пользователей</td>\n",
       "      <td>3</td>\n",
       "      <td>1</td>\n",
       "      <td>1</td>\n",
       "      <td>1</td>\n",
       "    </tr>\n",
       "    <tr>\n",
       "      <th>5</th>\n",
       "      <td>Добавить страницу отзывов клиентов о магазине, что позволит увеличить количество заказов</td>\n",
       "      <td>3</td>\n",
       "      <td>2</td>\n",
       "      <td>2</td>\n",
       "      <td>3</td>\n",
       "    </tr>\n",
       "    <tr>\n",
       "      <th>6</th>\n",
       "      <td>Показать на главной странице баннеры с актуальными акциями и распродажами, чтобы увеличить конверсию</td>\n",
       "      <td>5</td>\n",
       "      <td>3</td>\n",
       "      <td>8</td>\n",
       "      <td>3</td>\n",
       "    </tr>\n",
       "    <tr>\n",
       "      <th>7</th>\n",
       "      <td>Добавить форму подписки на все основные страницы, чтобы собрать базу клиентов для email-рассылок</td>\n",
       "      <td>10</td>\n",
       "      <td>7</td>\n",
       "      <td>8</td>\n",
       "      <td>5</td>\n",
       "    </tr>\n",
       "    <tr>\n",
       "      <th>8</th>\n",
       "      <td>Запустить акцию, дающую скидку на товар в день рождения</td>\n",
       "      <td>1</td>\n",
       "      <td>9</td>\n",
       "      <td>9</td>\n",
       "      <td>5</td>\n",
       "    </tr>\n",
       "  </tbody>\n",
       "</table>\n",
       "</div>"
      ],
      "text/plain": [
       "                                                                                                     Hypothesis  \\\n",
       "0            Добавить два новых канала привлечения трафика, что позволит привлекать на 30% больше пользователей   \n",
       "1                                     Запустить собственную службу доставки, что сократит срок доставки заказов   \n",
       "2  Добавить блоки рекомендаций товаров на сайт интернет магазина, чтобы повысить конверсию и средний чек заказа   \n",
       "3           Изменить структура категорий, что увеличит конверсию, т.к. пользователи быстрее найдут нужный товар   \n",
       "4                              Изменить цвет фона главной страницы, чтобы увеличить вовлеченность пользователей   \n",
       "5                      Добавить страницу отзывов клиентов о магазине, что позволит увеличить количество заказов   \n",
       "6          Показать на главной странице баннеры с актуальными акциями и распродажами, чтобы увеличить конверсию   \n",
       "7              Добавить форму подписки на все основные страницы, чтобы собрать базу клиентов для email-рассылок   \n",
       "8                                                       Запустить акцию, дающую скидку на товар в день рождения   \n",
       "\n",
       "   Reach  Impact  Confidence  Efforts  \n",
       "0      3      10           8        6  \n",
       "1      2       5           4       10  \n",
       "2      8       3           7        3  \n",
       "3      8       3           3        8  \n",
       "4      3       1           1        1  \n",
       "5      3       2           2        3  \n",
       "6      5       3           8        3  \n",
       "7     10       7           8        5  \n",
       "8      1       9           9        5  "
      ]
     },
     "execution_count": 4,
     "metadata": {},
     "output_type": "execute_result"
    }
   ],
   "source": [
    "hypothesis"
   ]
  },
  {
   "cell_type": "markdown",
   "id": "d146fc05",
   "metadata": {},
   "source": [
    "Данные заполнены корректно  \n",
    "Наименования гипотез, а также показатели `Reach`, `Impact`, `Confidence` и `Efforts` не содержат пропусков и приведены к верному формату."
   ]
  },
  {
   "cell_type": "markdown",
   "id": "91d203e8",
   "metadata": {},
   "source": [
    "### Расчет ICE score"
   ]
  },
  {
   "cell_type": "markdown",
   "id": "d0d5eeb4",
   "metadata": {},
   "source": [
    "Выбор наиболее приоритетной гипотезы по методу ICE:"
   ]
  },
  {
   "cell_type": "markdown",
   "id": "ecbb5a07",
   "metadata": {},
   "source": [
    "ICE score = (Impact x Confidence) / Efforts"
   ]
  },
  {
   "cell_type": "code",
   "execution_count": 5,
   "id": "3c41a8c0",
   "metadata": {},
   "outputs": [],
   "source": [
    "hypothesis['ICE_score'] = round(hypothesis['Impact'] * hypothesis['Confidence'] / hypothesis['Efforts'], 1)\n",
    "hypothesis = hypothesis.sort_values(by='ICE_score', ascending = False).reset_index(drop=True)"
   ]
  },
  {
   "cell_type": "code",
   "execution_count": 6,
   "id": "5d684398",
   "metadata": {
    "scrolled": false
   },
   "outputs": [
    {
     "data": {
      "text/html": [
       "<div>\n",
       "<style scoped>\n",
       "    .dataframe tbody tr th:only-of-type {\n",
       "        vertical-align: middle;\n",
       "    }\n",
       "\n",
       "    .dataframe tbody tr th {\n",
       "        vertical-align: top;\n",
       "    }\n",
       "\n",
       "    .dataframe thead th {\n",
       "        text-align: right;\n",
       "    }\n",
       "</style>\n",
       "<table border=\"1\" class=\"dataframe\">\n",
       "  <thead>\n",
       "    <tr style=\"text-align: right;\">\n",
       "      <th></th>\n",
       "      <th>Hypothesis</th>\n",
       "      <th>Reach</th>\n",
       "      <th>Impact</th>\n",
       "      <th>Confidence</th>\n",
       "      <th>Efforts</th>\n",
       "      <th>ICE_score</th>\n",
       "    </tr>\n",
       "  </thead>\n",
       "  <tbody>\n",
       "    <tr>\n",
       "      <th>0</th>\n",
       "      <td>Запустить акцию, дающую скидку на товар в день рождения</td>\n",
       "      <td>1</td>\n",
       "      <td>9</td>\n",
       "      <td>9</td>\n",
       "      <td>5</td>\n",
       "      <td>16.2</td>\n",
       "    </tr>\n",
       "    <tr>\n",
       "      <th>1</th>\n",
       "      <td>Добавить два новых канала привлечения трафика, что позволит привлекать на 30% больше пользователей</td>\n",
       "      <td>3</td>\n",
       "      <td>10</td>\n",
       "      <td>8</td>\n",
       "      <td>6</td>\n",
       "      <td>13.3</td>\n",
       "    </tr>\n",
       "    <tr>\n",
       "      <th>2</th>\n",
       "      <td>Добавить форму подписки на все основные страницы, чтобы собрать базу клиентов для email-рассылок</td>\n",
       "      <td>10</td>\n",
       "      <td>7</td>\n",
       "      <td>8</td>\n",
       "      <td>5</td>\n",
       "      <td>11.2</td>\n",
       "    </tr>\n",
       "    <tr>\n",
       "      <th>3</th>\n",
       "      <td>Показать на главной странице баннеры с актуальными акциями и распродажами, чтобы увеличить конверсию</td>\n",
       "      <td>5</td>\n",
       "      <td>3</td>\n",
       "      <td>8</td>\n",
       "      <td>3</td>\n",
       "      <td>8.0</td>\n",
       "    </tr>\n",
       "    <tr>\n",
       "      <th>4</th>\n",
       "      <td>Добавить блоки рекомендаций товаров на сайт интернет магазина, чтобы повысить конверсию и средний чек заказа</td>\n",
       "      <td>8</td>\n",
       "      <td>3</td>\n",
       "      <td>7</td>\n",
       "      <td>3</td>\n",
       "      <td>7.0</td>\n",
       "    </tr>\n",
       "    <tr>\n",
       "      <th>5</th>\n",
       "      <td>Запустить собственную службу доставки, что сократит срок доставки заказов</td>\n",
       "      <td>2</td>\n",
       "      <td>5</td>\n",
       "      <td>4</td>\n",
       "      <td>10</td>\n",
       "      <td>2.0</td>\n",
       "    </tr>\n",
       "    <tr>\n",
       "      <th>6</th>\n",
       "      <td>Добавить страницу отзывов клиентов о магазине, что позволит увеличить количество заказов</td>\n",
       "      <td>3</td>\n",
       "      <td>2</td>\n",
       "      <td>2</td>\n",
       "      <td>3</td>\n",
       "      <td>1.3</td>\n",
       "    </tr>\n",
       "    <tr>\n",
       "      <th>7</th>\n",
       "      <td>Изменить структура категорий, что увеличит конверсию, т.к. пользователи быстрее найдут нужный товар</td>\n",
       "      <td>8</td>\n",
       "      <td>3</td>\n",
       "      <td>3</td>\n",
       "      <td>8</td>\n",
       "      <td>1.1</td>\n",
       "    </tr>\n",
       "    <tr>\n",
       "      <th>8</th>\n",
       "      <td>Изменить цвет фона главной страницы, чтобы увеличить вовлеченность пользователей</td>\n",
       "      <td>3</td>\n",
       "      <td>1</td>\n",
       "      <td>1</td>\n",
       "      <td>1</td>\n",
       "      <td>1.0</td>\n",
       "    </tr>\n",
       "  </tbody>\n",
       "</table>\n",
       "</div>"
      ],
      "text/plain": [
       "                                                                                                     Hypothesis  \\\n",
       "0                                                       Запустить акцию, дающую скидку на товар в день рождения   \n",
       "1            Добавить два новых канала привлечения трафика, что позволит привлекать на 30% больше пользователей   \n",
       "2              Добавить форму подписки на все основные страницы, чтобы собрать базу клиентов для email-рассылок   \n",
       "3          Показать на главной странице баннеры с актуальными акциями и распродажами, чтобы увеличить конверсию   \n",
       "4  Добавить блоки рекомендаций товаров на сайт интернет магазина, чтобы повысить конверсию и средний чек заказа   \n",
       "5                                     Запустить собственную службу доставки, что сократит срок доставки заказов   \n",
       "6                      Добавить страницу отзывов клиентов о магазине, что позволит увеличить количество заказов   \n",
       "7           Изменить структура категорий, что увеличит конверсию, т.к. пользователи быстрее найдут нужный товар   \n",
       "8                              Изменить цвет фона главной страницы, чтобы увеличить вовлеченность пользователей   \n",
       "\n",
       "   Reach  Impact  Confidence  Efforts  ICE_score  \n",
       "0      1       9           9        5       16.2  \n",
       "1      3      10           8        6       13.3  \n",
       "2     10       7           8        5       11.2  \n",
       "3      5       3           8        3        8.0  \n",
       "4      8       3           7        3        7.0  \n",
       "5      2       5           4       10        2.0  \n",
       "6      3       2           2        3        1.3  \n",
       "7      8       3           3        8        1.1  \n",
       "8      3       1           1        1        1.0  "
      ]
     },
     "execution_count": 6,
     "metadata": {},
     "output_type": "execute_result"
    }
   ],
   "source": [
    "hypothesis"
   ]
  },
  {
   "cell_type": "code",
   "execution_count": 7,
   "id": "41b68f07",
   "metadata": {},
   "outputs": [
    {
     "name": "stdout",
     "output_type": "stream",
     "text": [
      "Наиболее приоритетной по методу ICE является гипотеза: \n",
      "`Запустить акцию, дающую скидку на товар в день рождения`\n"
     ]
    }
   ],
   "source": [
    "print(f'''Наиболее приоритетной по методу ICE является гипотеза: \n",
    "`{hypothesis[\"Hypothesis\"][0]}`''')"
   ]
  },
  {
   "cell_type": "markdown",
   "id": "78ec7d91",
   "metadata": {},
   "source": [
    "### Расчет RICE score"
   ]
  },
  {
   "cell_type": "markdown",
   "id": "b193491a",
   "metadata": {},
   "source": [
    "Необходимо также проверить выбор гиподез, используя метод RICE:"
   ]
  },
  {
   "cell_type": "markdown",
   "id": "3b73180b",
   "metadata": {},
   "source": [
    "RICE score = (Reach x Impact x Confidence) / Efforts"
   ]
  },
  {
   "cell_type": "code",
   "execution_count": 8,
   "id": "7d55766f",
   "metadata": {},
   "outputs": [
    {
     "data": {
      "text/html": [
       "<div>\n",
       "<style scoped>\n",
       "    .dataframe tbody tr th:only-of-type {\n",
       "        vertical-align: middle;\n",
       "    }\n",
       "\n",
       "    .dataframe tbody tr th {\n",
       "        vertical-align: top;\n",
       "    }\n",
       "\n",
       "    .dataframe thead th {\n",
       "        text-align: right;\n",
       "    }\n",
       "</style>\n",
       "<table border=\"1\" class=\"dataframe\">\n",
       "  <thead>\n",
       "    <tr style=\"text-align: right;\">\n",
       "      <th></th>\n",
       "      <th>Hypothesis</th>\n",
       "      <th>Reach</th>\n",
       "      <th>Impact</th>\n",
       "      <th>Confidence</th>\n",
       "      <th>Efforts</th>\n",
       "      <th>ICE_score</th>\n",
       "      <th>RICE_score</th>\n",
       "    </tr>\n",
       "  </thead>\n",
       "  <tbody>\n",
       "    <tr>\n",
       "      <th>0</th>\n",
       "      <td>Добавить форму подписки на все основные страницы, чтобы собрать базу клиентов для email-рассылок</td>\n",
       "      <td>10</td>\n",
       "      <td>7</td>\n",
       "      <td>8</td>\n",
       "      <td>5</td>\n",
       "      <td>11.2</td>\n",
       "      <td>112.0</td>\n",
       "    </tr>\n",
       "    <tr>\n",
       "      <th>1</th>\n",
       "      <td>Добавить блоки рекомендаций товаров на сайт интернет магазина, чтобы повысить конверсию и средний чек заказа</td>\n",
       "      <td>8</td>\n",
       "      <td>3</td>\n",
       "      <td>7</td>\n",
       "      <td>3</td>\n",
       "      <td>7.0</td>\n",
       "      <td>56.0</td>\n",
       "    </tr>\n",
       "    <tr>\n",
       "      <th>2</th>\n",
       "      <td>Добавить два новых канала привлечения трафика, что позволит привлекать на 30% больше пользователей</td>\n",
       "      <td>3</td>\n",
       "      <td>10</td>\n",
       "      <td>8</td>\n",
       "      <td>6</td>\n",
       "      <td>13.3</td>\n",
       "      <td>40.0</td>\n",
       "    </tr>\n",
       "    <tr>\n",
       "      <th>3</th>\n",
       "      <td>Показать на главной странице баннеры с актуальными акциями и распродажами, чтобы увеличить конверсию</td>\n",
       "      <td>5</td>\n",
       "      <td>3</td>\n",
       "      <td>8</td>\n",
       "      <td>3</td>\n",
       "      <td>8.0</td>\n",
       "      <td>40.0</td>\n",
       "    </tr>\n",
       "    <tr>\n",
       "      <th>4</th>\n",
       "      <td>Запустить акцию, дающую скидку на товар в день рождения</td>\n",
       "      <td>1</td>\n",
       "      <td>9</td>\n",
       "      <td>9</td>\n",
       "      <td>5</td>\n",
       "      <td>16.2</td>\n",
       "      <td>16.2</td>\n",
       "    </tr>\n",
       "    <tr>\n",
       "      <th>5</th>\n",
       "      <td>Изменить структура категорий, что увеличит конверсию, т.к. пользователи быстрее найдут нужный товар</td>\n",
       "      <td>8</td>\n",
       "      <td>3</td>\n",
       "      <td>3</td>\n",
       "      <td>8</td>\n",
       "      <td>1.1</td>\n",
       "      <td>9.0</td>\n",
       "    </tr>\n",
       "    <tr>\n",
       "      <th>6</th>\n",
       "      <td>Запустить собственную службу доставки, что сократит срок доставки заказов</td>\n",
       "      <td>2</td>\n",
       "      <td>5</td>\n",
       "      <td>4</td>\n",
       "      <td>10</td>\n",
       "      <td>2.0</td>\n",
       "      <td>4.0</td>\n",
       "    </tr>\n",
       "    <tr>\n",
       "      <th>7</th>\n",
       "      <td>Добавить страницу отзывов клиентов о магазине, что позволит увеличить количество заказов</td>\n",
       "      <td>3</td>\n",
       "      <td>2</td>\n",
       "      <td>2</td>\n",
       "      <td>3</td>\n",
       "      <td>1.3</td>\n",
       "      <td>4.0</td>\n",
       "    </tr>\n",
       "    <tr>\n",
       "      <th>8</th>\n",
       "      <td>Изменить цвет фона главной страницы, чтобы увеличить вовлеченность пользователей</td>\n",
       "      <td>3</td>\n",
       "      <td>1</td>\n",
       "      <td>1</td>\n",
       "      <td>1</td>\n",
       "      <td>1.0</td>\n",
       "      <td>3.0</td>\n",
       "    </tr>\n",
       "  </tbody>\n",
       "</table>\n",
       "</div>"
      ],
      "text/plain": [
       "                                                                                                     Hypothesis  \\\n",
       "0              Добавить форму подписки на все основные страницы, чтобы собрать базу клиентов для email-рассылок   \n",
       "1  Добавить блоки рекомендаций товаров на сайт интернет магазина, чтобы повысить конверсию и средний чек заказа   \n",
       "2            Добавить два новых канала привлечения трафика, что позволит привлекать на 30% больше пользователей   \n",
       "3          Показать на главной странице баннеры с актуальными акциями и распродажами, чтобы увеличить конверсию   \n",
       "4                                                       Запустить акцию, дающую скидку на товар в день рождения   \n",
       "5           Изменить структура категорий, что увеличит конверсию, т.к. пользователи быстрее найдут нужный товар   \n",
       "6                                     Запустить собственную службу доставки, что сократит срок доставки заказов   \n",
       "7                      Добавить страницу отзывов клиентов о магазине, что позволит увеличить количество заказов   \n",
       "8                              Изменить цвет фона главной страницы, чтобы увеличить вовлеченность пользователей   \n",
       "\n",
       "   Reach  Impact  Confidence  Efforts  ICE_score  RICE_score  \n",
       "0     10       7           8        5       11.2       112.0  \n",
       "1      8       3           7        3        7.0        56.0  \n",
       "2      3      10           8        6       13.3        40.0  \n",
       "3      5       3           8        3        8.0        40.0  \n",
       "4      1       9           9        5       16.2        16.2  \n",
       "5      8       3           3        8        1.1         9.0  \n",
       "6      2       5           4       10        2.0         4.0  \n",
       "7      3       2           2        3        1.3         4.0  \n",
       "8      3       1           1        1        1.0         3.0  "
      ]
     },
     "execution_count": 8,
     "metadata": {},
     "output_type": "execute_result"
    }
   ],
   "source": [
    "hypothesis['RICE_score'] = round(hypothesis['Reach'] * hypothesis['Impact'] * hypothesis['Confidence'] \\\n",
    "                                 / hypothesis['Efforts'], 1)\n",
    "hypothesis = hypothesis.sort_values(by='RICE_score', ascending = False).reset_index(drop=True)\n",
    "\n",
    "hypothesis"
   ]
  },
  {
   "cell_type": "code",
   "execution_count": 9,
   "id": "d1533429",
   "metadata": {
    "scrolled": true
   },
   "outputs": [
    {
     "name": "stdout",
     "output_type": "stream",
     "text": [
      "Наиболее приоритетной по методу RICE является гипотеза: \n",
      "`Добавить форму подписки на все основные страницы, чтобы собрать базу клиентов для email-рассылок`\n"
     ]
    }
   ],
   "source": [
    "print(f'''Наиболее приоритетной по методу RICE является гипотеза: \n",
    "`{hypothesis[\"Hypothesis\"][0]}`''')"
   ]
  },
  {
   "cell_type": "markdown",
   "id": "d8da53d9",
   "metadata": {},
   "source": [
    "### Выбор приоритетной гипотезы"
   ]
  },
  {
   "cell_type": "markdown",
   "id": "0bdc88b8",
   "metadata": {},
   "source": [
    "Поскольку наиболее актуальные гипотезы для проверки отличаются в зависимости от способа оценки, проранжируем их по значимости для обеих медодик и выберем гипотезу, имеющую наибольший ранг."
   ]
  },
  {
   "cell_type": "code",
   "execution_count": 10,
   "id": "0f68d0c4",
   "metadata": {},
   "outputs": [],
   "source": [
    "hypothesis = hypothesis.sort_values(by='ICE_score', ascending = False)\n",
    "hypothesis['ICE_rank'] = range(len(hypothesis), 0, -1)"
   ]
  },
  {
   "cell_type": "code",
   "execution_count": 11,
   "id": "ee8c4f7b",
   "metadata": {},
   "outputs": [],
   "source": [
    "hypothesis = hypothesis.sort_values(by='RICE_score', ascending = False)\n",
    "hypothesis['RICE_rank'] = range(len(hypothesis), 0, -1)"
   ]
  },
  {
   "cell_type": "code",
   "execution_count": 12,
   "id": "f06c63ea",
   "metadata": {
    "scrolled": false
   },
   "outputs": [],
   "source": [
    "hypothesis['total_rank'] = hypothesis['ICE_rank'] + hypothesis['RICE_rank']\n",
    "hypothesis = hypothesis.sort_values(by='total_rank', ascending = False).reset_index(drop=True)"
   ]
  },
  {
   "cell_type": "code",
   "execution_count": 13,
   "id": "7bbfe1b9",
   "metadata": {},
   "outputs": [],
   "source": [
    "def make_pretty(styler):\n",
    "    styler.background_gradient(axis=None, vmin=1, vmax=18, cmap=\"YlGn\")\n",
    "    return styler"
   ]
  },
  {
   "cell_type": "code",
   "execution_count": 14,
   "id": "8ff465b1",
   "metadata": {},
   "outputs": [
    {
     "data": {
      "text/html": [
       "<style type=\"text/css\">\n",
       "#T_5be7b_row0_col1, #T_5be7b_row1_col2, #T_5be7b_row5_col3 {\n",
       "  background-color: #b5e092;\n",
       "  color: #000000;\n",
       "}\n",
       "#T_5be7b_row0_col2, #T_5be7b_row2_col1 {\n",
       "  background-color: #84cb7e;\n",
       "  color: #000000;\n",
       "}\n",
       "#T_5be7b_row0_col3 {\n",
       "  background-color: #006636;\n",
       "  color: #f1f1f1;\n",
       "}\n",
       "#T_5be7b_row1_col1, #T_5be7b_row3_col2 {\n",
       "  background-color: #9dd688;\n",
       "  color: #000000;\n",
       "}\n",
       "#T_5be7b_row1_col3 {\n",
       "  background-color: #0e743c;\n",
       "  color: #f1f1f1;\n",
       "}\n",
       "#T_5be7b_row2_col2, #T_5be7b_row3_col1, #T_5be7b_row7_col3 {\n",
       "  background-color: #ddf1a6;\n",
       "  color: #000000;\n",
       "}\n",
       "#T_5be7b_row2_col3 {\n",
       "  background-color: #1f8142;\n",
       "  color: #f1f1f1;\n",
       "}\n",
       "#T_5be7b_row3_col3 {\n",
       "  background-color: #2e924c;\n",
       "  color: #f1f1f1;\n",
       "}\n",
       "#T_5be7b_row4_col1, #T_5be7b_row4_col2, #T_5be7b_row6_col3 {\n",
       "  background-color: #c9e99c;\n",
       "  color: #000000;\n",
       "}\n",
       "#T_5be7b_row4_col3 {\n",
       "  background-color: #3ca458;\n",
       "  color: #f1f1f1;\n",
       "}\n",
       "#T_5be7b_row5_col1, #T_5be7b_row6_col2 {\n",
       "  background-color: #ebf7b0;\n",
       "  color: #000000;\n",
       "}\n",
       "#T_5be7b_row5_col2, #T_5be7b_row7_col1 {\n",
       "  background-color: #f7fcbc;\n",
       "  color: #000000;\n",
       "}\n",
       "#T_5be7b_row6_col1, #T_5be7b_row7_col2, #T_5be7b_row8_col3 {\n",
       "  background-color: #fbfed0;\n",
       "  color: #000000;\n",
       "}\n",
       "#T_5be7b_row8_col1, #T_5be7b_row8_col2 {\n",
       "  background-color: #ffffe5;\n",
       "  color: #000000;\n",
       "}\n",
       "</style>\n",
       "<table id=\"T_5be7b\">\n",
       "  <thead>\n",
       "    <tr>\n",
       "      <th class=\"blank level0\" >&nbsp;</th>\n",
       "      <th id=\"T_5be7b_level0_col0\" class=\"col_heading level0 col0\" >Hypothesis</th>\n",
       "      <th id=\"T_5be7b_level0_col1\" class=\"col_heading level0 col1\" >ICE_rank</th>\n",
       "      <th id=\"T_5be7b_level0_col2\" class=\"col_heading level0 col2\" >RICE_rank</th>\n",
       "      <th id=\"T_5be7b_level0_col3\" class=\"col_heading level0 col3\" >total_rank</th>\n",
       "    </tr>\n",
       "  </thead>\n",
       "  <tbody>\n",
       "    <tr>\n",
       "      <th id=\"T_5be7b_level0_row0\" class=\"row_heading level0 row0\" >0</th>\n",
       "      <td id=\"T_5be7b_row0_col0\" class=\"data row0 col0\" >Добавить форму подписки на все основные страницы, чтобы собрать базу клиентов для email-рассылок</td>\n",
       "      <td id=\"T_5be7b_row0_col1\" class=\"data row0 col1\" >7</td>\n",
       "      <td id=\"T_5be7b_row0_col2\" class=\"data row0 col2\" >9</td>\n",
       "      <td id=\"T_5be7b_row0_col3\" class=\"data row0 col3\" >16</td>\n",
       "    </tr>\n",
       "    <tr>\n",
       "      <th id=\"T_5be7b_level0_row1\" class=\"row_heading level0 row1\" >1</th>\n",
       "      <td id=\"T_5be7b_row1_col0\" class=\"data row1 col0\" >Добавить два новых канала привлечения трафика, что позволит привлекать на 30% больше пользователей</td>\n",
       "      <td id=\"T_5be7b_row1_col1\" class=\"data row1 col1\" >8</td>\n",
       "      <td id=\"T_5be7b_row1_col2\" class=\"data row1 col2\" >7</td>\n",
       "      <td id=\"T_5be7b_row1_col3\" class=\"data row1 col3\" >15</td>\n",
       "    </tr>\n",
       "    <tr>\n",
       "      <th id=\"T_5be7b_level0_row2\" class=\"row_heading level0 row2\" >2</th>\n",
       "      <td id=\"T_5be7b_row2_col0\" class=\"data row2 col0\" >Запустить акцию, дающую скидку на товар в день рождения</td>\n",
       "      <td id=\"T_5be7b_row2_col1\" class=\"data row2 col1\" >9</td>\n",
       "      <td id=\"T_5be7b_row2_col2\" class=\"data row2 col2\" >5</td>\n",
       "      <td id=\"T_5be7b_row2_col3\" class=\"data row2 col3\" >14</td>\n",
       "    </tr>\n",
       "    <tr>\n",
       "      <th id=\"T_5be7b_level0_row3\" class=\"row_heading level0 row3\" >3</th>\n",
       "      <td id=\"T_5be7b_row3_col0\" class=\"data row3 col0\" >Добавить блоки рекомендаций товаров на сайт интернет магазина, чтобы повысить конверсию и средний чек заказа</td>\n",
       "      <td id=\"T_5be7b_row3_col1\" class=\"data row3 col1\" >5</td>\n",
       "      <td id=\"T_5be7b_row3_col2\" class=\"data row3 col2\" >8</td>\n",
       "      <td id=\"T_5be7b_row3_col3\" class=\"data row3 col3\" >13</td>\n",
       "    </tr>\n",
       "    <tr>\n",
       "      <th id=\"T_5be7b_level0_row4\" class=\"row_heading level0 row4\" >4</th>\n",
       "      <td id=\"T_5be7b_row4_col0\" class=\"data row4 col0\" >Показать на главной странице баннеры с актуальными акциями и распродажами, чтобы увеличить конверсию</td>\n",
       "      <td id=\"T_5be7b_row4_col1\" class=\"data row4 col1\" >6</td>\n",
       "      <td id=\"T_5be7b_row4_col2\" class=\"data row4 col2\" >6</td>\n",
       "      <td id=\"T_5be7b_row4_col3\" class=\"data row4 col3\" >12</td>\n",
       "    </tr>\n",
       "    <tr>\n",
       "      <th id=\"T_5be7b_level0_row5\" class=\"row_heading level0 row5\" >5</th>\n",
       "      <td id=\"T_5be7b_row5_col0\" class=\"data row5 col0\" >Запустить собственную службу доставки, что сократит срок доставки заказов</td>\n",
       "      <td id=\"T_5be7b_row5_col1\" class=\"data row5 col1\" >4</td>\n",
       "      <td id=\"T_5be7b_row5_col2\" class=\"data row5 col2\" >3</td>\n",
       "      <td id=\"T_5be7b_row5_col3\" class=\"data row5 col3\" >7</td>\n",
       "    </tr>\n",
       "    <tr>\n",
       "      <th id=\"T_5be7b_level0_row6\" class=\"row_heading level0 row6\" >6</th>\n",
       "      <td id=\"T_5be7b_row6_col0\" class=\"data row6 col0\" >Изменить структура категорий, что увеличит конверсию, т.к. пользователи быстрее найдут нужный товар</td>\n",
       "      <td id=\"T_5be7b_row6_col1\" class=\"data row6 col1\" >2</td>\n",
       "      <td id=\"T_5be7b_row6_col2\" class=\"data row6 col2\" >4</td>\n",
       "      <td id=\"T_5be7b_row6_col3\" class=\"data row6 col3\" >6</td>\n",
       "    </tr>\n",
       "    <tr>\n",
       "      <th id=\"T_5be7b_level0_row7\" class=\"row_heading level0 row7\" >7</th>\n",
       "      <td id=\"T_5be7b_row7_col0\" class=\"data row7 col0\" >Добавить страницу отзывов клиентов о магазине, что позволит увеличить количество заказов</td>\n",
       "      <td id=\"T_5be7b_row7_col1\" class=\"data row7 col1\" >3</td>\n",
       "      <td id=\"T_5be7b_row7_col2\" class=\"data row7 col2\" >2</td>\n",
       "      <td id=\"T_5be7b_row7_col3\" class=\"data row7 col3\" >5</td>\n",
       "    </tr>\n",
       "    <tr>\n",
       "      <th id=\"T_5be7b_level0_row8\" class=\"row_heading level0 row8\" >8</th>\n",
       "      <td id=\"T_5be7b_row8_col0\" class=\"data row8 col0\" >Изменить цвет фона главной страницы, чтобы увеличить вовлеченность пользователей</td>\n",
       "      <td id=\"T_5be7b_row8_col1\" class=\"data row8 col1\" >1</td>\n",
       "      <td id=\"T_5be7b_row8_col2\" class=\"data row8 col2\" >1</td>\n",
       "      <td id=\"T_5be7b_row8_col3\" class=\"data row8 col3\" >2</td>\n",
       "    </tr>\n",
       "  </tbody>\n",
       "</table>\n"
      ],
      "text/plain": [
       "<pandas.io.formats.style.Styler at 0x22579e28dc0>"
      ]
     },
     "execution_count": 14,
     "metadata": {},
     "output_type": "execute_result"
    }
   ],
   "source": [
    "hypothesis[['Hypothesis', 'ICE_rank', 'RICE_rank', 'total_rank']].style.pipe(make_pretty)"
   ]
  },
  {
   "cell_type": "code",
   "execution_count": 15,
   "id": "bdd82a23",
   "metadata": {},
   "outputs": [
    {
     "name": "stdout",
     "output_type": "stream",
     "text": [
      "Наибольший ранг по сумме обоих методов оценки получила гипотеза: \n",
      "`Добавить форму подписки на все основные страницы, чтобы собрать базу клиентов для email-рассылок`\n"
     ]
    }
   ],
   "source": [
    "print(f'''Наибольший ранг по сумме обоих методов оценки получила гипотеза: \n",
    "`{hypothesis[\"Hypothesis\"][0]}`''')"
   ]
  },
  {
   "cell_type": "markdown",
   "id": "8e641c0a",
   "metadata": {},
   "source": [
    "Данная гипотеза требует средних трудозатрат, при этом показатели охвата, вовлеченности и уверенности в результате высокие."
   ]
  },
  {
   "cell_type": "markdown",
   "id": "375a554e",
   "metadata": {},
   "source": [
    "## Проведение A/B тестирования, сбор данных"
   ]
  },
  {
   "cell_type": "markdown",
   "id": "801c9c85",
   "metadata": {},
   "source": [
    "## Анализ результатов A/B тестирования"
   ]
  },
  {
   "cell_type": "markdown",
   "id": "6fcac8c2",
   "metadata": {},
   "source": [
    "Для анализа получены данные о посетителях сайта, а также о заказахб совершенных в течение исследуемого периода  \n",
    "\n",
    "Исследуемые метрики:\n",
    "1. Выручка\n",
    "2. Конверсия\n",
    "3. Средняя стоимость заказа"
   ]
  },
  {
   "cell_type": "markdown",
   "id": "45e0d54b",
   "metadata": {},
   "source": [
    "### Обзор данных"
   ]
  },
  {
   "cell_type": "code",
   "execution_count": 16,
   "id": "fca66541",
   "metadata": {},
   "outputs": [],
   "source": [
    "try:\n",
    "    orders = pd.read_csv('/datasets/orders.csv')\n",
    "except:\n",
    "    orders = pd.read_csv('https://code.s3.yandex.net/datasets/orders.csv')\n",
    "    \n",
    "try:\n",
    "    visitors = pd.read_csv('/datasets/visitors.csv')\n",
    "except:\n",
    "    visitors = pd.read_csv('https://code.s3.yandex.net/datasets/visitors.csv')"
   ]
  },
  {
   "cell_type": "code",
   "execution_count": 17,
   "id": "c07afce4",
   "metadata": {},
   "outputs": [
    {
     "data": {
      "text/html": [
       "<div>\n",
       "<style scoped>\n",
       "    .dataframe tbody tr th:only-of-type {\n",
       "        vertical-align: middle;\n",
       "    }\n",
       "\n",
       "    .dataframe tbody tr th {\n",
       "        vertical-align: top;\n",
       "    }\n",
       "\n",
       "    .dataframe thead th {\n",
       "        text-align: right;\n",
       "    }\n",
       "</style>\n",
       "<table border=\"1\" class=\"dataframe\">\n",
       "  <thead>\n",
       "    <tr style=\"text-align: right;\">\n",
       "      <th></th>\n",
       "      <th>transactionId</th>\n",
       "      <th>visitorId</th>\n",
       "      <th>date</th>\n",
       "      <th>revenue</th>\n",
       "      <th>group</th>\n",
       "    </tr>\n",
       "  </thead>\n",
       "  <tbody>\n",
       "    <tr>\n",
       "      <th>0</th>\n",
       "      <td>3667963787</td>\n",
       "      <td>3312258926</td>\n",
       "      <td>2019-08-15</td>\n",
       "      <td>1650</td>\n",
       "      <td>B</td>\n",
       "    </tr>\n",
       "    <tr>\n",
       "      <th>1</th>\n",
       "      <td>2804400009</td>\n",
       "      <td>3642806036</td>\n",
       "      <td>2019-08-15</td>\n",
       "      <td>730</td>\n",
       "      <td>B</td>\n",
       "    </tr>\n",
       "    <tr>\n",
       "      <th>2</th>\n",
       "      <td>2961555356</td>\n",
       "      <td>4069496402</td>\n",
       "      <td>2019-08-15</td>\n",
       "      <td>400</td>\n",
       "      <td>A</td>\n",
       "    </tr>\n",
       "    <tr>\n",
       "      <th>3</th>\n",
       "      <td>3797467345</td>\n",
       "      <td>1196621759</td>\n",
       "      <td>2019-08-15</td>\n",
       "      <td>9759</td>\n",
       "      <td>B</td>\n",
       "    </tr>\n",
       "    <tr>\n",
       "      <th>4</th>\n",
       "      <td>2282983706</td>\n",
       "      <td>2322279887</td>\n",
       "      <td>2019-08-15</td>\n",
       "      <td>2308</td>\n",
       "      <td>B</td>\n",
       "    </tr>\n",
       "  </tbody>\n",
       "</table>\n",
       "</div>"
      ],
      "text/plain": [
       "   transactionId   visitorId        date  revenue group\n",
       "0     3667963787  3312258926  2019-08-15     1650     B\n",
       "1     2804400009  3642806036  2019-08-15      730     B\n",
       "2     2961555356  4069496402  2019-08-15      400     A\n",
       "3     3797467345  1196621759  2019-08-15     9759     B\n",
       "4     2282983706  2322279887  2019-08-15     2308     B"
      ]
     },
     "execution_count": 17,
     "metadata": {},
     "output_type": "execute_result"
    }
   ],
   "source": [
    "orders.head()"
   ]
  },
  {
   "cell_type": "markdown",
   "id": "5c9612d3",
   "metadata": {},
   "source": [
    "Таблица `orders` содержит следующие данные:\n",
    "\n",
    "`transactionId` — идентификатор заказа;  \n",
    "`visitorId` — идентификатор пользователя, совершившего заказ;  \n",
    "`date` — дата, когда был совершён заказ;  \n",
    "`revenue` — выручка заказа;  \n",
    "`group` — группа A/B-теста, в которую попал заказ."
   ]
  },
  {
   "cell_type": "code",
   "execution_count": 18,
   "id": "ef47a052",
   "metadata": {},
   "outputs": [
    {
     "name": "stdout",
     "output_type": "stream",
     "text": [
      "<class 'pandas.core.frame.DataFrame'>\n",
      "RangeIndex: 1197 entries, 0 to 1196\n",
      "Data columns (total 5 columns):\n",
      " #   Column         Non-Null Count  Dtype \n",
      "---  ------         --------------  ----- \n",
      " 0   transactionId  1197 non-null   int64 \n",
      " 1   visitorId      1197 non-null   int64 \n",
      " 2   date           1197 non-null   object\n",
      " 3   revenue        1197 non-null   int64 \n",
      " 4   group          1197 non-null   object\n",
      "dtypes: int64(3), object(2)\n",
      "memory usage: 46.9+ KB\n"
     ]
    }
   ],
   "source": [
    "orders.info()"
   ]
  },
  {
   "cell_type": "markdown",
   "id": "0d4c32a7",
   "metadata": {},
   "source": [
    "Пропущенных значений не обнаружено, поле `date` необходимо привести к формату `datetime`"
   ]
  },
  {
   "cell_type": "code",
   "execution_count": 19,
   "id": "52de225e",
   "metadata": {},
   "outputs": [],
   "source": [
    "orders['date'] = orders['date'].map(\n",
    "    lambda x: dt.datetime.strptime(x, '%Y-%m-%d')\n",
    ")"
   ]
  },
  {
   "cell_type": "code",
   "execution_count": 20,
   "id": "ee74189a",
   "metadata": {},
   "outputs": [
    {
     "name": "stdout",
     "output_type": "stream",
     "text": [
      "<class 'pandas.core.frame.DataFrame'>\n",
      "RangeIndex: 1197 entries, 0 to 1196\n",
      "Data columns (total 5 columns):\n",
      " #   Column         Non-Null Count  Dtype         \n",
      "---  ------         --------------  -----         \n",
      " 0   transactionId  1197 non-null   int64         \n",
      " 1   visitorId      1197 non-null   int64         \n",
      " 2   date           1197 non-null   datetime64[ns]\n",
      " 3   revenue        1197 non-null   int64         \n",
      " 4   group          1197 non-null   object        \n",
      "dtypes: datetime64[ns](1), int64(3), object(1)\n",
      "memory usage: 46.9+ KB\n"
     ]
    }
   ],
   "source": [
    "orders.info()"
   ]
  },
  {
   "cell_type": "markdown",
   "id": "af3cd242",
   "metadata": {},
   "source": [
    "Данные приведены к нужному формату."
   ]
  },
  {
   "cell_type": "code",
   "execution_count": 21,
   "id": "5d62b131",
   "metadata": {},
   "outputs": [
    {
     "data": {
      "text/html": [
       "<div>\n",
       "<style scoped>\n",
       "    .dataframe tbody tr th:only-of-type {\n",
       "        vertical-align: middle;\n",
       "    }\n",
       "\n",
       "    .dataframe tbody tr th {\n",
       "        vertical-align: top;\n",
       "    }\n",
       "\n",
       "    .dataframe thead th {\n",
       "        text-align: right;\n",
       "    }\n",
       "</style>\n",
       "<table border=\"1\" class=\"dataframe\">\n",
       "  <thead>\n",
       "    <tr style=\"text-align: right;\">\n",
       "      <th></th>\n",
       "      <th>date</th>\n",
       "      <th>group</th>\n",
       "      <th>visitors</th>\n",
       "    </tr>\n",
       "  </thead>\n",
       "  <tbody>\n",
       "    <tr>\n",
       "      <th>0</th>\n",
       "      <td>2019-08-01</td>\n",
       "      <td>A</td>\n",
       "      <td>719</td>\n",
       "    </tr>\n",
       "    <tr>\n",
       "      <th>1</th>\n",
       "      <td>2019-08-02</td>\n",
       "      <td>A</td>\n",
       "      <td>619</td>\n",
       "    </tr>\n",
       "    <tr>\n",
       "      <th>2</th>\n",
       "      <td>2019-08-03</td>\n",
       "      <td>A</td>\n",
       "      <td>507</td>\n",
       "    </tr>\n",
       "    <tr>\n",
       "      <th>3</th>\n",
       "      <td>2019-08-04</td>\n",
       "      <td>A</td>\n",
       "      <td>717</td>\n",
       "    </tr>\n",
       "    <tr>\n",
       "      <th>4</th>\n",
       "      <td>2019-08-05</td>\n",
       "      <td>A</td>\n",
       "      <td>756</td>\n",
       "    </tr>\n",
       "  </tbody>\n",
       "</table>\n",
       "</div>"
      ],
      "text/plain": [
       "         date group  visitors\n",
       "0  2019-08-01     A       719\n",
       "1  2019-08-02     A       619\n",
       "2  2019-08-03     A       507\n",
       "3  2019-08-04     A       717\n",
       "4  2019-08-05     A       756"
      ]
     },
     "execution_count": 21,
     "metadata": {},
     "output_type": "execute_result"
    }
   ],
   "source": [
    "visitors.head()"
   ]
  },
  {
   "cell_type": "markdown",
   "id": "c4f383bc",
   "metadata": {},
   "source": [
    "Таблица `visitors` содержит следующие данные:\n",
    "\n",
    "`date` — дата;  \n",
    "`group` — группа A/B-теста;  \n",
    "`visitors` — количество пользователей в указанную дату в указанной группе A/B-теста."
   ]
  },
  {
   "cell_type": "code",
   "execution_count": 22,
   "id": "9722d9be",
   "metadata": {},
   "outputs": [
    {
     "name": "stdout",
     "output_type": "stream",
     "text": [
      "<class 'pandas.core.frame.DataFrame'>\n",
      "RangeIndex: 62 entries, 0 to 61\n",
      "Data columns (total 3 columns):\n",
      " #   Column    Non-Null Count  Dtype \n",
      "---  ------    --------------  ----- \n",
      " 0   date      62 non-null     object\n",
      " 1   group     62 non-null     object\n",
      " 2   visitors  62 non-null     int64 \n",
      "dtypes: int64(1), object(2)\n",
      "memory usage: 1.6+ KB\n"
     ]
    }
   ],
   "source": [
    "visitors.info()"
   ]
  },
  {
   "cell_type": "markdown",
   "id": "98625e0a",
   "metadata": {},
   "source": [
    "Пропущенных значений не обнаружено, поле `date` необходимо привести к формату `datetime`"
   ]
  },
  {
   "cell_type": "code",
   "execution_count": 23,
   "id": "b565bd51",
   "metadata": {},
   "outputs": [],
   "source": [
    "visitors['date'] = visitors['date'].map(\n",
    "    lambda x: dt.datetime.strptime(x, '%Y-%m-%d')\n",
    ")"
   ]
  },
  {
   "cell_type": "code",
   "execution_count": 24,
   "id": "48a40819",
   "metadata": {},
   "outputs": [
    {
     "name": "stdout",
     "output_type": "stream",
     "text": [
      "<class 'pandas.core.frame.DataFrame'>\n",
      "RangeIndex: 62 entries, 0 to 61\n",
      "Data columns (total 3 columns):\n",
      " #   Column    Non-Null Count  Dtype         \n",
      "---  ------    --------------  -----         \n",
      " 0   date      62 non-null     datetime64[ns]\n",
      " 1   group     62 non-null     object        \n",
      " 2   visitors  62 non-null     int64         \n",
      "dtypes: datetime64[ns](1), int64(1), object(1)\n",
      "memory usage: 1.6+ KB\n"
     ]
    }
   ],
   "source": [
    "visitors.info()"
   ]
  },
  {
   "cell_type": "markdown",
   "id": "cbff0ea1",
   "metadata": {},
   "source": [
    "Данные приведены к нужному формату."
   ]
  },
  {
   "cell_type": "markdown",
   "id": "fe8e439c",
   "metadata": {},
   "source": [
    "### Предобработка данных"
   ]
  },
  {
   "cell_type": "markdown",
   "id": "350122f3",
   "metadata": {},
   "source": [
    "Данные проверяются на наличие дублирующих значений, а также на наличие пользователей, находящихся сразу в двух группах."
   ]
  },
  {
   "cell_type": "code",
   "execution_count": 25,
   "id": "478d9744",
   "metadata": {},
   "outputs": [
    {
     "data": {
      "text/plain": [
       "0"
      ]
     },
     "execution_count": 25,
     "metadata": {},
     "output_type": "execute_result"
    }
   ],
   "source": [
    "sum(visitors.duplicated())"
   ]
  },
  {
   "cell_type": "code",
   "execution_count": 26,
   "id": "23688a31",
   "metadata": {},
   "outputs": [
    {
     "data": {
      "text/plain": [
       "0"
      ]
     },
     "execution_count": 26,
     "metadata": {},
     "output_type": "execute_result"
    }
   ],
   "source": [
    "sum(orders.duplicated())"
   ]
  },
  {
   "cell_type": "markdown",
   "id": "1d293036",
   "metadata": {},
   "source": [
    "Дубликатов не обнаружено."
   ]
  },
  {
   "cell_type": "code",
   "execution_count": 27,
   "id": "d0f539f9",
   "metadata": {},
   "outputs": [],
   "source": [
    "usersA = orders[orders['group']=='A']\n",
    "usersB = orders[orders['group']=='B']"
   ]
  },
  {
   "cell_type": "code",
   "execution_count": 28,
   "id": "82d096c3",
   "metadata": {},
   "outputs": [],
   "source": [
    "usersAB = usersA.merge(usersB, on='visitorId', how='inner')\n",
    "double_users = list(usersAB[\"visitorId\"].unique())"
   ]
  },
  {
   "cell_type": "code",
   "execution_count": 29,
   "id": "f910aa43",
   "metadata": {
    "scrolled": true
   },
   "outputs": [
    {
     "name": "stdout",
     "output_type": "stream",
     "text": [
      "Пользователей в двух группах сразу: 58 из 1031 (5.63%)\n"
     ]
    }
   ],
   "source": [
    "print(f'Пользователей в двух группах сразу: \\\n",
    "{len(double_users)} из {orders[\"visitorId\"].nunique()} \\\n",
    "({len(double_users)/orders[\"visitorId\"].nunique():.2%})')"
   ]
  },
  {
   "cell_type": "code",
   "execution_count": 30,
   "id": "78bd175f",
   "metadata": {},
   "outputs": [],
   "source": [
    "double_orders = orders.query('visitorId in @double_users')"
   ]
  },
  {
   "cell_type": "code",
   "execution_count": 31,
   "id": "91b0b3ef",
   "metadata": {},
   "outputs": [
    {
     "name": "stdout",
     "output_type": "stream",
     "text": [
      "Заказов от пользователей обеих груп: 181 из 1197 (15.12%)\n"
     ]
    }
   ],
   "source": [
    "print(f'Заказов от пользователей обеих груп: \\\n",
    "{len(double_orders)} из {len(orders)} \\\n",
    "({(len(double_orders))/len(orders):.2%})')"
   ]
  },
  {
   "cell_type": "code",
   "execution_count": 32,
   "id": "366514c2",
   "metadata": {},
   "outputs": [],
   "source": [
    "orders = orders.query('visitorId not in @double_users').reset_index(drop=True)"
   ]
  },
  {
   "cell_type": "markdown",
   "id": "8cab3f62",
   "metadata": {},
   "source": [
    "Данные заказов от пользователей, находящихся в обеих группах удалены."
   ]
  },
  {
   "cell_type": "markdown",
   "id": "0215c2ab",
   "metadata": {},
   "source": [
    "### Анализ выручки и среднего чека"
   ]
  },
  {
   "cell_type": "markdown",
   "id": "bce82c2f",
   "metadata": {},
   "source": [
    "Для анализа данных показателей необходимо построить таблицу с накопительными значениями выручки для каждой группы."
   ]
  },
  {
   "cell_type": "code",
   "execution_count": 33,
   "id": "1bfd91d6",
   "metadata": {},
   "outputs": [],
   "source": [
    "datesGroups = orders[['date','group']].drop_duplicates() "
   ]
  },
  {
   "cell_type": "code",
   "execution_count": 34,
   "id": "b5cf0a6c",
   "metadata": {},
   "outputs": [],
   "source": [
    "visitorsAggregated = datesGroups.apply(\n",
    "    lambda x: visitors[np.logical_and(visitors['date'] <= x['date'], \n",
    "                                      visitors['group'] == x['group'])].agg(\n",
    "        {'date' : 'max', \n",
    "         'group' : 'max', \n",
    "         'visitors' : 'sum'}), \n",
    "    axis=1).sort_values(\n",
    "    by=['date',\n",
    "        'group']\n",
    ")"
   ]
  },
  {
   "cell_type": "code",
   "execution_count": 35,
   "id": "e3766fc4",
   "metadata": {},
   "outputs": [],
   "source": [
    "ordersAggregated = datesGroups.apply(\n",
    "    lambda x: orders[np.logical_and(orders['date'] <= x['date'], \n",
    "                                    orders['group'] == x['group'])].agg(\n",
    "        {'date' : 'max', \n",
    "         'group' : 'max', \n",
    "         'transactionId' : 'nunique', \n",
    "         'visitorId' : 'nunique', \n",
    "         'revenue' : 'sum'}), axis=1).sort_values(\n",
    "    by=['date',\n",
    "        'group']\n",
    ")"
   ]
  },
  {
   "cell_type": "code",
   "execution_count": 36,
   "id": "faf75273",
   "metadata": {},
   "outputs": [],
   "source": [
    "cumulativeData = ordersAggregated.merge(\n",
    "    visitorsAggregated, \n",
    "    left_on=['date', 'group'], \n",
    "    right_on=['date', 'group']\n",
    ")\n",
    "cumulativeData.columns = ['date', \n",
    "                          'group', \n",
    "                          'orders', \n",
    "                          'buyers', \n",
    "                          'revenue', \n",
    "                          'visitors']"
   ]
  },
  {
   "cell_type": "code",
   "execution_count": 37,
   "id": "1e4616cc",
   "metadata": {},
   "outputs": [
    {
     "data": {
      "text/html": [
       "<div>\n",
       "<style scoped>\n",
       "    .dataframe tbody tr th:only-of-type {\n",
       "        vertical-align: middle;\n",
       "    }\n",
       "\n",
       "    .dataframe tbody tr th {\n",
       "        vertical-align: top;\n",
       "    }\n",
       "\n",
       "    .dataframe thead th {\n",
       "        text-align: right;\n",
       "    }\n",
       "</style>\n",
       "<table border=\"1\" class=\"dataframe\">\n",
       "  <thead>\n",
       "    <tr style=\"text-align: right;\">\n",
       "      <th></th>\n",
       "      <th>date</th>\n",
       "      <th>group</th>\n",
       "      <th>orders</th>\n",
       "      <th>buyers</th>\n",
       "      <th>revenue</th>\n",
       "      <th>visitors</th>\n",
       "    </tr>\n",
       "  </thead>\n",
       "  <tbody>\n",
       "    <tr>\n",
       "      <th>0</th>\n",
       "      <td>2019-08-01</td>\n",
       "      <td>A</td>\n",
       "      <td>23</td>\n",
       "      <td>19</td>\n",
       "      <td>142779</td>\n",
       "      <td>719</td>\n",
       "    </tr>\n",
       "    <tr>\n",
       "      <th>1</th>\n",
       "      <td>2019-08-01</td>\n",
       "      <td>B</td>\n",
       "      <td>17</td>\n",
       "      <td>17</td>\n",
       "      <td>59758</td>\n",
       "      <td>713</td>\n",
       "    </tr>\n",
       "    <tr>\n",
       "      <th>2</th>\n",
       "      <td>2019-08-02</td>\n",
       "      <td>A</td>\n",
       "      <td>42</td>\n",
       "      <td>36</td>\n",
       "      <td>234381</td>\n",
       "      <td>1338</td>\n",
       "    </tr>\n",
       "    <tr>\n",
       "      <th>3</th>\n",
       "      <td>2019-08-02</td>\n",
       "      <td>B</td>\n",
       "      <td>40</td>\n",
       "      <td>39</td>\n",
       "      <td>221801</td>\n",
       "      <td>1294</td>\n",
       "    </tr>\n",
       "    <tr>\n",
       "      <th>4</th>\n",
       "      <td>2019-08-03</td>\n",
       "      <td>A</td>\n",
       "      <td>66</td>\n",
       "      <td>60</td>\n",
       "      <td>346854</td>\n",
       "      <td>1845</td>\n",
       "    </tr>\n",
       "    <tr>\n",
       "      <th>5</th>\n",
       "      <td>2019-08-03</td>\n",
       "      <td>B</td>\n",
       "      <td>54</td>\n",
       "      <td>53</td>\n",
       "      <td>288850</td>\n",
       "      <td>1803</td>\n",
       "    </tr>\n",
       "    <tr>\n",
       "      <th>6</th>\n",
       "      <td>2019-08-04</td>\n",
       "      <td>A</td>\n",
       "      <td>77</td>\n",
       "      <td>71</td>\n",
       "      <td>388030</td>\n",
       "      <td>2562</td>\n",
       "    </tr>\n",
       "    <tr>\n",
       "      <th>7</th>\n",
       "      <td>2019-08-04</td>\n",
       "      <td>B</td>\n",
       "      <td>68</td>\n",
       "      <td>66</td>\n",
       "      <td>385740</td>\n",
       "      <td>2573</td>\n",
       "    </tr>\n",
       "    <tr>\n",
       "      <th>8</th>\n",
       "      <td>2019-08-05</td>\n",
       "      <td>A</td>\n",
       "      <td>99</td>\n",
       "      <td>92</td>\n",
       "      <td>474413</td>\n",
       "      <td>3318</td>\n",
       "    </tr>\n",
       "    <tr>\n",
       "      <th>9</th>\n",
       "      <td>2019-08-05</td>\n",
       "      <td>B</td>\n",
       "      <td>89</td>\n",
       "      <td>87</td>\n",
       "      <td>475648</td>\n",
       "      <td>3280</td>\n",
       "    </tr>\n",
       "  </tbody>\n",
       "</table>\n",
       "</div>"
      ],
      "text/plain": [
       "        date group  orders  buyers  revenue  visitors\n",
       "0 2019-08-01     A      23      19   142779       719\n",
       "1 2019-08-01     B      17      17    59758       713\n",
       "2 2019-08-02     A      42      36   234381      1338\n",
       "3 2019-08-02     B      40      39   221801      1294\n",
       "4 2019-08-03     A      66      60   346854      1845\n",
       "5 2019-08-03     B      54      53   288850      1803\n",
       "6 2019-08-04     A      77      71   388030      2562\n",
       "7 2019-08-04     B      68      66   385740      2573\n",
       "8 2019-08-05     A      99      92   474413      3318\n",
       "9 2019-08-05     B      89      87   475648      3280"
      ]
     },
     "execution_count": 37,
     "metadata": {},
     "output_type": "execute_result"
    }
   ],
   "source": [
    "cumulativeData.head(10)"
   ]
  },
  {
   "cell_type": "markdown",
   "id": "28835991",
   "metadata": {},
   "source": [
    "Полученный датафрейм `cumulativeData` содержит следующие данные: \n",
    "\n",
    "`date` — дата;  \n",
    "`group` — группа A/B-теста (A или B);  \n",
    "`orders` — кумулятивное количество заказов на указанную дату в указанной группе;  \n",
    "`buyers` — кумулятивное количество пользователей, совершивших хотя бы один заказ, на указанную дату в указанной группе;  \n",
    "`revenue` — кумулятивная выручка на указанную дату в указанной группе (средний чек);  \n",
    "`visitors` — кумулятивное количество посетителей интернет-магазина на указанную дату в определённой группе."
   ]
  },
  {
   "cell_type": "markdown",
   "id": "2060689b",
   "metadata": {},
   "source": [
    "#### График кумулятивной выручки"
   ]
  },
  {
   "cell_type": "code",
   "execution_count": 38,
   "id": "79f50e54",
   "metadata": {},
   "outputs": [
    {
     "data": {
      "image/png": "[encoded data removed]",
      "text/plain": [
       "<Figure size 432x288 with 1 Axes>"
      ]
     },
     "metadata": {
      "needs_background": "light"
     },
     "output_type": "display_data"
    }
   ],
   "source": [
    "# датафрейм с кумулятивным количеством заказов и кумулятивной выручкой по дням в группе A\n",
    "cumulativeRevenueA = cumulativeData[cumulativeData['group']=='A'][['date','revenue', 'orders']]\n",
    "\n",
    "# датафрейм с кумулятивным количеством заказов и кумулятивной выручкой по дням в группе B\n",
    "cumulativeRevenueB = cumulativeData[cumulativeData['group']=='B'][['date','revenue', 'orders']]\n",
    "\n",
    "# Строим график выручки группы А\n",
    "x = list(range(len(cumulativeRevenueA['date'])))\n",
    "xi = cumulativeRevenueA['date']\n",
    "plt.xticks(xi, x)\n",
    "plt.xlabel('Дата')\n",
    "plt.ylabel('Выручка, р.')\n",
    "plt.title('Суммарная выручка, р.')\n",
    "\n",
    "plt.plot(cumulativeRevenueA['date'], cumulativeRevenueA['revenue'], label='A')\n",
    "\n",
    "# Строим график выручки группы B\n",
    "plt.plot(cumulativeRevenueB['date'], cumulativeRevenueB['revenue'], label='B')\n",
    "\n",
    "plt.legend() \n",
    "\n",
    "plt.show()"
   ]
  },
  {
   "cell_type": "markdown",
   "id": "41db94b3",
   "metadata": {},
   "source": [
    "Группа `A` показывает равномерный рост.  \n",
    "В группе `B` заметен резкий скачок выручке в середине месяца. Вероятно, был сделан крупный заказ."
   ]
  },
  {
   "cell_type": "markdown",
   "id": "f27c7300",
   "metadata": {},
   "source": [
    "#### График кумулятивного среднего чека"
   ]
  },
  {
   "cell_type": "code",
   "execution_count": 39,
   "id": "0b5f91f0",
   "metadata": {},
   "outputs": [
    {
     "data": {
      "image/png": "[encoded data removed]",
      "text/plain": [
       "<Figure size 432x288 with 1 Axes>"
      ]
     },
     "metadata": {
      "needs_background": "light"
     },
     "output_type": "display_data"
    }
   ],
   "source": [
    "x = list(range(len(cumulativeRevenueA['date'])))\n",
    "xi = cumulativeRevenueA['date']\n",
    "plt.xticks(xi, x)\n",
    "plt.xlabel('Дата')\n",
    "plt.ylabel('Средний чек, р.')\n",
    "plt.title('Кумулятивная средняя стоимость заказа, р.')\n",
    "\n",
    "plt.plot(cumulativeRevenueA['date'], cumulativeRevenueA['revenue']/cumulativeRevenueA['orders'], label='A')\n",
    "plt.plot(cumulativeRevenueB['date'], cumulativeRevenueB['revenue']/cumulativeRevenueB['orders'], label='B')\n",
    "plt.legend() \n",
    "plt.show()"
   ]
  },
  {
   "cell_type": "markdown",
   "id": "96c5f5b7",
   "metadata": {},
   "source": [
    "Средний чек группы `A` стабилизировался на отметке около 7000р.  \n",
    "Резкое увеличение среднего чека группы `B` также свидетельствует о наличии крупного заказа в середине месяца.  \n",
    "В связи с этим средний чек группы `B` еще неизвестен. Вероятнее всего, его значение находится в диапазоне 7000 - 9000 р."
   ]
  },
  {
   "cell_type": "markdown",
   "id": "f8dd00cf",
   "metadata": {},
   "source": [
    "#### График относительного изменения кумулятивного среднего чека"
   ]
  },
  {
   "cell_type": "code",
   "execution_count": 40,
   "id": "86e89f67",
   "metadata": {},
   "outputs": [
    {
     "data": {
      "image/png": "[encoded data removed]",
      "text/plain": [
       "<Figure size 432x288 with 1 Axes>"
      ]
     },
     "metadata": {
      "needs_background": "light"
     },
     "output_type": "display_data"
    }
   ],
   "source": [
    "x = list(range(len(cumulativeRevenueA['date'])))\n",
    "xi = cumulativeRevenueA['date']\n",
    "\n",
    "plt.xticks(xi, x)\n",
    "plt.xlabel('Дата')\n",
    "plt.ylabel('Относительное изменение (B / A), %')\n",
    "plt.title('Отношение среднего чека между группами')\n",
    "\n",
    "\n",
    "# собираем данные в одном датафрейме\n",
    "mergedCumulativeRevenue = cumulativeRevenueA.merge(cumulativeRevenueB, \n",
    "                                                   left_on='date', \n",
    "                                                   right_on='date', \n",
    "                                                   how='left', \n",
    "                                                   suffixes=['A', 'B'])\n",
    "\n",
    "# cтроим отношение средних чеков\n",
    "plt.plot(mergedCumulativeRevenue['date'], \n",
    "         ((mergedCumulativeRevenue['revenueB']/mergedCumulativeRevenue['ordersB'])/\\\n",
    "         (mergedCumulativeRevenue['revenueA']/mergedCumulativeRevenue['ordersA'])-1)*100)\n",
    "\n",
    "# добавляем ось X\n",
    "plt.axhline(y=0, color='black', linestyle='--')\n",
    "\n",
    "plt.show()"
   ]
  },
  {
   "cell_type": "markdown",
   "id": "c72f4c06",
   "metadata": {},
   "source": [
    "Относительное изменение среднего чека группы `B` к `A` также не стабилизировано из-за наличия выбросов."
   ]
  },
  {
   "cell_type": "markdown",
   "id": "53db3e0b",
   "metadata": {},
   "source": [
    "### Анализ конверсии"
   ]
  },
  {
   "cell_type": "code",
   "execution_count": 41,
   "id": "d1853583",
   "metadata": {},
   "outputs": [
    {
     "data": {
      "image/png": "[encoded data removed]",
      "text/plain": [
       "<Figure size 432x288 with 1 Axes>"
      ]
     },
     "metadata": {
      "needs_background": "light"
     },
     "output_type": "display_data"
    }
   ],
   "source": [
    "x = list(range(len(cumulativeRevenueA['date'])))\n",
    "xi = cumulativeRevenueA['date']\n",
    "\n",
    "plt.xticks(xi, x)\n",
    "plt.xlabel('Дата')\n",
    "plt.ylabel('Конверсия, %')\n",
    "plt.title('Количество заказов на одного пользователя')\n",
    "\n",
    "# считаем кумулятивную конверсию\n",
    "cumulativeData['conversion'] = cumulativeData['orders']/cumulativeData['visitors']*100\n",
    "\n",
    "# отделяем данные по группе A\n",
    "cumulativeDataA = cumulativeData[cumulativeData['group']=='A']\n",
    "\n",
    "# отделяем данные по группе B\n",
    "cumulativeDataB = cumulativeData[cumulativeData['group']=='B']\n",
    "\n",
    "# строим графики\n",
    "plt.plot(cumulativeDataA['date'], cumulativeDataA['conversion'], label='A')\n",
    "plt.plot(cumulativeDataB['date'], cumulativeDataB['conversion'], label='B')\n",
    "plt.legend()\n",
    "\n",
    "plt.show()"
   ]
  },
  {
   "cell_type": "markdown",
   "id": "1beeae61",
   "metadata": {},
   "source": [
    "Конверсия обеих групп стабилизировалась. Для группы `B` значения заметно выше."
   ]
  },
  {
   "cell_type": "code",
   "execution_count": 42,
   "id": "5e7feada",
   "metadata": {},
   "outputs": [
    {
     "data": {
      "image/png": "[encoded data removed]",
      "text/plain": [
       "<Figure size 432x288 with 1 Axes>"
      ]
     },
     "metadata": {
      "needs_background": "light"
     },
     "output_type": "display_data"
    }
   ],
   "source": [
    "x = list(range(len(cumulativeRevenueA['date'])))\n",
    "xi = cumulativeRevenueA['date']\n",
    "\n",
    "plt.xticks(xi, x)\n",
    "plt.xlabel('Дата')\n",
    "plt.ylabel('Относительное изменение (B/A), %')\n",
    "plt.title('Отношение конверсий группы B к A')\n",
    "\n",
    "mergedCumulativeConversions = cumulativeDataA[['date','conversion']].merge(\n",
    "    cumulativeDataB[['date','conversion']], \n",
    "    left_on='date', right_on='date', \n",
    "    how='left', \n",
    "    suffixes=['A', 'B']\n",
    ")\n",
    "\n",
    "plt.plot(mergedCumulativeConversions['date'], \n",
    "         (mergedCumulativeConversions['conversionB']/mergedCumulativeConversions['conversionA']-1)*100, \n",
    "         label=\"Относительный (B/A)\")\n",
    "plt.legend()\n",
    "\n",
    "plt.axhline(y=0, color='black', linestyle='--')\n",
    "\n",
    "plt.show()"
   ]
  },
  {
   "cell_type": "markdown",
   "id": "75155af4",
   "metadata": {},
   "source": [
    "Конверсия группы `B` на 10-15% выше."
   ]
  },
  {
   "cell_type": "markdown",
   "id": "02dbfb97",
   "metadata": {},
   "source": [
    "### Анализ аномальных значений"
   ]
  },
  {
   "cell_type": "markdown",
   "id": "bcc4b1d6",
   "metadata": {},
   "source": [
    "#### Количество заказов одного пользователя"
   ]
  },
  {
   "cell_type": "code",
   "execution_count": 43,
   "id": "9ad7a804",
   "metadata": {},
   "outputs": [],
   "source": [
    "ordersByUsers = (\n",
    "    orders.groupby('visitorId', as_index=False)\n",
    "    .agg({'transactionId': 'nunique'})\n",
    ")\n",
    "\n",
    "ordersByUsers.columns = ['userId', 'orders']"
   ]
  },
  {
   "cell_type": "code",
   "execution_count": 44,
   "id": "b1100eb0",
   "metadata": {
    "scrolled": true
   },
   "outputs": [
    {
     "data": {
      "image/png": "[encoded data removed]",
      "text/plain": [
       "<Figure size 432x288 with 1 Axes>"
      ]
     },
     "metadata": {
      "needs_background": "light"
     },
     "output_type": "display_data"
    }
   ],
   "source": [
    "plt.xlabel('')\n",
    "plt.ylabel('Количество заказов')\n",
    "plt.title('Количество заказов одного пользователя')\n",
    "\n",
    "x_values = pd.Series(range(0,len(ordersByUsers)))\n",
    "\n",
    "plt.scatter(x_values, ordersByUsers['orders'], alpha=0.5)\n",
    "\n",
    "plt.show()"
   ]
  },
  {
   "cell_type": "markdown",
   "id": "80b55f97",
   "metadata": {},
   "source": [
    "Большинство пользователей совершили 1 заказ."
   ]
  },
  {
   "cell_type": "code",
   "execution_count": 45,
   "id": "45b4b5a3",
   "metadata": {},
   "outputs": [
    {
     "name": "stdout",
     "output_type": "stream",
     "text": [
      "[1. 1. 2.]\n"
     ]
    }
   ],
   "source": [
    "print(np.percentile(ordersByUsers['orders'], [90, 95, 99])) "
   ]
  },
  {
   "cell_type": "markdown",
   "id": "8e513548",
   "metadata": {},
   "source": [
    "Менее 5% пользователей более одного заказа.  \n",
    "Эти данные можно считать выбросами."
   ]
  },
  {
   "cell_type": "markdown",
   "id": "44724067",
   "metadata": {},
   "source": [
    "#### Выручка одного заказа"
   ]
  },
  {
   "cell_type": "code",
   "execution_count": 46,
   "id": "a8790d17",
   "metadata": {
    "scrolled": true
   },
   "outputs": [
    {
     "data": {
      "image/png": "[encoded data removed]",
      "text/plain": [
       "<Figure size 432x288 with 1 Axes>"
      ]
     },
     "metadata": {
      "needs_background": "light"
     },
     "output_type": "display_data"
    }
   ],
   "source": [
    "plt.xlabel('')\n",
    "plt.ylabel('Стоимость заказа, р.')\n",
    "plt.title('Стоимость заказов')\n",
    "\n",
    "x_values = pd.Series(range(0,len(orders['revenue'])))\n",
    "plt.scatter(x_values, orders['revenue'], alpha=0.5) \n",
    "plt.show()"
   ]
  },
  {
   "cell_type": "code",
   "execution_count": 47,
   "id": "a288e840",
   "metadata": {},
   "outputs": [
    {
     "name": "stdout",
     "output_type": "stream",
     "text": [
      "[17990. 26785. 53904.]\n"
     ]
    }
   ],
   "source": [
    "print(np.percentile(orders['revenue'], [90, 95, 99])) "
   ]
  },
  {
   "cell_type": "markdown",
   "id": "16241d59",
   "metadata": {},
   "source": [
    "Менее 5% заказов были на сумму более 27000 р.  \n",
    "Эти данные можно считать выбросами."
   ]
  },
  {
   "cell_type": "markdown",
   "id": "142ffe12",
   "metadata": {},
   "source": [
    "### Оценка статистической значимости"
   ]
  },
  {
   "cell_type": "markdown",
   "id": "a5bc7af6",
   "metadata": {},
   "source": [
    "#### Подготовка данных для оценки статистической значимости"
   ]
  },
  {
   "cell_type": "markdown",
   "id": "93068af5",
   "metadata": {},
   "source": [
    "Для каждой группы создаются таблицы с данными о пользователях:"
   ]
  },
  {
   "cell_type": "markdown",
   "id": "fba1bf8a",
   "metadata": {},
   "source": [
    "`visitorsA/BDaily` - количество посетителей в каждой группе в выбранную дату"
   ]
  },
  {
   "cell_type": "code",
   "execution_count": 66,
   "id": "5471d13b",
   "metadata": {},
   "outputs": [
    {
     "data": {
      "text/html": [
       "<div>\n",
       "<style scoped>\n",
       "    .dataframe tbody tr th:only-of-type {\n",
       "        vertical-align: middle;\n",
       "    }\n",
       "\n",
       "    .dataframe tbody tr th {\n",
       "        vertical-align: top;\n",
       "    }\n",
       "\n",
       "    .dataframe thead th {\n",
       "        text-align: right;\n",
       "    }\n",
       "</style>\n",
       "<table border=\"1\" class=\"dataframe\">\n",
       "  <thead>\n",
       "    <tr style=\"text-align: right;\">\n",
       "      <th></th>\n",
       "      <th>date</th>\n",
       "      <th>visitorsPerDateA</th>\n",
       "    </tr>\n",
       "  </thead>\n",
       "  <tbody>\n",
       "    <tr>\n",
       "      <th>0</th>\n",
       "      <td>2019-08-01</td>\n",
       "      <td>719</td>\n",
       "    </tr>\n",
       "    <tr>\n",
       "      <th>1</th>\n",
       "      <td>2019-08-02</td>\n",
       "      <td>619</td>\n",
       "    </tr>\n",
       "    <tr>\n",
       "      <th>2</th>\n",
       "      <td>2019-08-03</td>\n",
       "      <td>507</td>\n",
       "    </tr>\n",
       "    <tr>\n",
       "      <th>3</th>\n",
       "      <td>2019-08-04</td>\n",
       "      <td>717</td>\n",
       "    </tr>\n",
       "    <tr>\n",
       "      <th>4</th>\n",
       "      <td>2019-08-05</td>\n",
       "      <td>756</td>\n",
       "    </tr>\n",
       "    <tr>\n",
       "      <th>5</th>\n",
       "      <td>2019-08-06</td>\n",
       "      <td>667</td>\n",
       "    </tr>\n",
       "    <tr>\n",
       "      <th>6</th>\n",
       "      <td>2019-08-07</td>\n",
       "      <td>644</td>\n",
       "    </tr>\n",
       "    <tr>\n",
       "      <th>7</th>\n",
       "      <td>2019-08-08</td>\n",
       "      <td>610</td>\n",
       "    </tr>\n",
       "    <tr>\n",
       "      <th>8</th>\n",
       "      <td>2019-08-09</td>\n",
       "      <td>617</td>\n",
       "    </tr>\n",
       "    <tr>\n",
       "      <th>9</th>\n",
       "      <td>2019-08-10</td>\n",
       "      <td>406</td>\n",
       "    </tr>\n",
       "    <tr>\n",
       "      <th>10</th>\n",
       "      <td>2019-08-11</td>\n",
       "      <td>718</td>\n",
       "    </tr>\n",
       "    <tr>\n",
       "      <th>11</th>\n",
       "      <td>2019-08-12</td>\n",
       "      <td>595</td>\n",
       "    </tr>\n",
       "    <tr>\n",
       "      <th>12</th>\n",
       "      <td>2019-08-13</td>\n",
       "      <td>748</td>\n",
       "    </tr>\n",
       "    <tr>\n",
       "      <th>13</th>\n",
       "      <td>2019-08-14</td>\n",
       "      <td>735</td>\n",
       "    </tr>\n",
       "    <tr>\n",
       "      <th>14</th>\n",
       "      <td>2019-08-15</td>\n",
       "      <td>628</td>\n",
       "    </tr>\n",
       "    <tr>\n",
       "      <th>15</th>\n",
       "      <td>2019-08-16</td>\n",
       "      <td>361</td>\n",
       "    </tr>\n",
       "    <tr>\n",
       "      <th>16</th>\n",
       "      <td>2019-08-17</td>\n",
       "      <td>412</td>\n",
       "    </tr>\n",
       "    <tr>\n",
       "      <th>17</th>\n",
       "      <td>2019-08-18</td>\n",
       "      <td>668</td>\n",
       "    </tr>\n",
       "    <tr>\n",
       "      <th>18</th>\n",
       "      <td>2019-08-19</td>\n",
       "      <td>502</td>\n",
       "    </tr>\n",
       "    <tr>\n",
       "      <th>19</th>\n",
       "      <td>2019-08-20</td>\n",
       "      <td>575</td>\n",
       "    </tr>\n",
       "    <tr>\n",
       "      <th>20</th>\n",
       "      <td>2019-08-21</td>\n",
       "      <td>646</td>\n",
       "    </tr>\n",
       "    <tr>\n",
       "      <th>21</th>\n",
       "      <td>2019-08-22</td>\n",
       "      <td>609</td>\n",
       "    </tr>\n",
       "    <tr>\n",
       "      <th>22</th>\n",
       "      <td>2019-08-23</td>\n",
       "      <td>468</td>\n",
       "    </tr>\n",
       "    <tr>\n",
       "      <th>23</th>\n",
       "      <td>2019-08-24</td>\n",
       "      <td>395</td>\n",
       "    </tr>\n",
       "    <tr>\n",
       "      <th>24</th>\n",
       "      <td>2019-08-25</td>\n",
       "      <td>621</td>\n",
       "    </tr>\n",
       "    <tr>\n",
       "      <th>25</th>\n",
       "      <td>2019-08-26</td>\n",
       "      <td>722</td>\n",
       "    </tr>\n",
       "    <tr>\n",
       "      <th>26</th>\n",
       "      <td>2019-08-27</td>\n",
       "      <td>711</td>\n",
       "    </tr>\n",
       "    <tr>\n",
       "      <th>27</th>\n",
       "      <td>2019-08-28</td>\n",
       "      <td>594</td>\n",
       "    </tr>\n",
       "    <tr>\n",
       "      <th>28</th>\n",
       "      <td>2019-08-29</td>\n",
       "      <td>577</td>\n",
       "    </tr>\n",
       "    <tr>\n",
       "      <th>29</th>\n",
       "      <td>2019-08-30</td>\n",
       "      <td>490</td>\n",
       "    </tr>\n",
       "    <tr>\n",
       "      <th>30</th>\n",
       "      <td>2019-08-31</td>\n",
       "      <td>699</td>\n",
       "    </tr>\n",
       "  </tbody>\n",
       "</table>\n",
       "</div>"
      ],
      "text/plain": [
       "         date  visitorsPerDateA\n",
       "0  2019-08-01               719\n",
       "1  2019-08-02               619\n",
       "2  2019-08-03               507\n",
       "3  2019-08-04               717\n",
       "4  2019-08-05               756\n",
       "5  2019-08-06               667\n",
       "6  2019-08-07               644\n",
       "7  2019-08-08               610\n",
       "8  2019-08-09               617\n",
       "9  2019-08-10               406\n",
       "10 2019-08-11               718\n",
       "11 2019-08-12               595\n",
       "12 2019-08-13               748\n",
       "13 2019-08-14               735\n",
       "14 2019-08-15               628\n",
       "15 2019-08-16               361\n",
       "16 2019-08-17               412\n",
       "17 2019-08-18               668\n",
       "18 2019-08-19               502\n",
       "19 2019-08-20               575\n",
       "20 2019-08-21               646\n",
       "21 2019-08-22               609\n",
       "22 2019-08-23               468\n",
       "23 2019-08-24               395\n",
       "24 2019-08-25               621\n",
       "25 2019-08-26               722\n",
       "26 2019-08-27               711\n",
       "27 2019-08-28               594\n",
       "28 2019-08-29               577\n",
       "29 2019-08-30               490\n",
       "30 2019-08-31               699"
      ]
     },
     "execution_count": 66,
     "metadata": {},
     "output_type": "execute_result"
    }
   ],
   "source": [
    "visitorsADaily"
   ]
  },
  {
   "cell_type": "code",
   "execution_count": 48,
   "id": "fbbdb8dd",
   "metadata": {},
   "outputs": [],
   "source": [
    "visitorsADaily = visitors[visitors['group'] == 'A'][['date', 'visitors']]\n",
    "visitorsADaily.columns = ['date', 'visitorsPerDateA']"
   ]
  },
  {
   "cell_type": "code",
   "execution_count": 49,
   "id": "1bfc4e57",
   "metadata": {},
   "outputs": [],
   "source": [
    "visitorsBDaily = visitors[visitors['group'] == 'B'][['date', 'visitors']]\n",
    "visitorsBDaily.columns = ['date', 'visitorsPerDateB']"
   ]
  },
  {
   "cell_type": "markdown",
   "id": "6ed1f43a",
   "metadata": {},
   "source": [
    "`visitorsA/BCummulative` - кумулятивное количество посетителей в каждой группе в выбранную дату"
   ]
  },
  {
   "cell_type": "code",
   "execution_count": 50,
   "id": "5119e7e6",
   "metadata": {},
   "outputs": [],
   "source": [
    "visitorsACummulative = visitorsADaily.apply(\n",
    "    lambda x: visitorsADaily[visitorsADaily['date'] <= x['date']].agg(\n",
    "        {'date': 'max', 'visitorsPerDateA': 'sum'}\n",
    "    ),\n",
    "    axis=1,\n",
    ")\n",
    "visitorsACummulative.columns = ['date', 'visitorsCummulativeA']"
   ]
  },
  {
   "cell_type": "code",
   "execution_count": 51,
   "id": "72a6d8c7",
   "metadata": {},
   "outputs": [],
   "source": [
    "visitorsBCummulative = visitorsBDaily.apply(\n",
    "    lambda x: visitorsBDaily[visitorsBDaily['date'] <= x['date']].agg(\n",
    "        {'date': 'max', 'visitorsPerDateB': 'sum'}\n",
    "    ),\n",
    "    axis=1,\n",
    ")\n",
    "visitorsBCummulative.columns = ['date', 'visitorsCummulativeB']"
   ]
  },
  {
   "cell_type": "markdown",
   "id": "57033f9e",
   "metadata": {},
   "source": [
    "`ordersA/BDaily` - количество заказов и выручка в каждой группе в выбранную дату"
   ]
  },
  {
   "cell_type": "code",
   "execution_count": 52,
   "id": "8686c5cd",
   "metadata": {},
   "outputs": [],
   "source": [
    "ordersADaily = (\n",
    "    orders[orders['group'] == 'A'][['date', 'transactionId', 'visitorId', 'revenue']]\n",
    "    .groupby('date', as_index=False)\n",
    "    .agg({'transactionId': pd.Series.nunique, 'revenue': 'sum'})\n",
    ")\n",
    "ordersADaily.columns = ['date', 'ordersPerDateA', 'revenuePerDateA']"
   ]
  },
  {
   "cell_type": "code",
   "execution_count": 53,
   "id": "5fc3f781",
   "metadata": {},
   "outputs": [],
   "source": [
    "ordersBDaily = (\n",
    "    orders[orders['group'] == 'B'][['date', 'transactionId', 'visitorId', 'revenue']]\n",
    "    .groupby('date', as_index=False)\n",
    "    .agg({'transactionId': pd.Series.nunique, 'revenue': 'sum'})\n",
    ")\n",
    "ordersBDaily.columns = ['date', 'ordersPerDateB', 'revenuePerDateB']"
   ]
  },
  {
   "cell_type": "markdown",
   "id": "e90294b6",
   "metadata": {},
   "source": [
    "`ordersA/BCummulative` - кумулятивное количество заказов и выручка в каждой группе в выбранную дату"
   ]
  },
  {
   "cell_type": "code",
   "execution_count": 54,
   "id": "f946d5b5",
   "metadata": {},
   "outputs": [],
   "source": [
    "ordersACummulative = ordersADaily.apply(\n",
    "    lambda x: ordersADaily[ordersADaily['date'] <= x['date']].agg(\n",
    "        {'date': 'max', 'ordersPerDateA': 'sum', 'revenuePerDateA': 'sum'}\n",
    "    ),\n",
    "    axis=1,\n",
    ").sort_values(by=['date'])\n",
    "ordersACummulative.columns = [\n",
    "    'date',\n",
    "    'ordersCummulativeA',\n",
    "    'revenueCummulativeA',\n",
    "]"
   ]
  },
  {
   "cell_type": "code",
   "execution_count": 55,
   "id": "370256f4",
   "metadata": {},
   "outputs": [],
   "source": [
    "ordersBCummulative = ordersBDaily.apply(\n",
    "    lambda x: ordersBDaily[ordersBDaily['date'] <= x['date']].agg(\n",
    "        {'date': 'max', 'ordersPerDateB': 'sum', 'revenuePerDateB': 'sum'}\n",
    "    ),\n",
    "    axis=1,\n",
    ").sort_values(by=['date'])\n",
    "ordersBCummulative.columns = [\n",
    "    'date',\n",
    "    'ordersCummulativeB',\n",
    "    'revenueCummulativeB',\n",
    "]"
   ]
  },
  {
   "cell_type": "markdown",
   "id": "e60bdfbd",
   "metadata": {},
   "source": [
    "Все полученные данные объединены в датафрейме `data`"
   ]
  },
  {
   "cell_type": "code",
   "execution_count": 56,
   "id": "a985a389",
   "metadata": {},
   "outputs": [],
   "source": [
    "data = (\n",
    "    ordersADaily.merge(\n",
    "        ordersBDaily, left_on='date', right_on='date', how='left'\n",
    "    )\n",
    "    .merge(ordersACummulative, left_on='date', right_on='date', how='left')\n",
    "    .merge(ordersBCummulative, left_on='date', right_on='date', how='left')\n",
    "    .merge(visitorsADaily, left_on='date', right_on='date', how='left')\n",
    "    .merge(visitorsBDaily, left_on='date', right_on='date', how='left')\n",
    "    .merge(visitorsACummulative, left_on='date', right_on='date', how='left')\n",
    "    .merge(visitorsBCummulative, left_on='date', right_on='date', how='left')\n",
    ")"
   ]
  },
  {
   "cell_type": "code",
   "execution_count": 57,
   "id": "ebfb77ec",
   "metadata": {},
   "outputs": [
    {
     "data": {
      "text/html": [
       "<div>\n",
       "<style scoped>\n",
       "    .dataframe tbody tr th:only-of-type {\n",
       "        vertical-align: middle;\n",
       "    }\n",
       "\n",
       "    .dataframe tbody tr th {\n",
       "        vertical-align: top;\n",
       "    }\n",
       "\n",
       "    .dataframe thead th {\n",
       "        text-align: right;\n",
       "    }\n",
       "</style>\n",
       "<table border=\"1\" class=\"dataframe\">\n",
       "  <thead>\n",
       "    <tr style=\"text-align: right;\">\n",
       "      <th></th>\n",
       "      <th>date</th>\n",
       "      <th>ordersPerDateA</th>\n",
       "      <th>revenuePerDateA</th>\n",
       "      <th>ordersPerDateB</th>\n",
       "      <th>revenuePerDateB</th>\n",
       "      <th>ordersCummulativeA</th>\n",
       "      <th>revenueCummulativeA</th>\n",
       "      <th>ordersCummulativeB</th>\n",
       "      <th>revenueCummulativeB</th>\n",
       "      <th>visitorsPerDateA</th>\n",
       "      <th>visitorsPerDateB</th>\n",
       "      <th>visitorsCummulativeA</th>\n",
       "      <th>visitorsCummulativeB</th>\n",
       "    </tr>\n",
       "  </thead>\n",
       "  <tbody>\n",
       "    <tr>\n",
       "      <th>0</th>\n",
       "      <td>2019-08-01</td>\n",
       "      <td>23</td>\n",
       "      <td>142779</td>\n",
       "      <td>17</td>\n",
       "      <td>59758</td>\n",
       "      <td>23</td>\n",
       "      <td>142779</td>\n",
       "      <td>17</td>\n",
       "      <td>59758</td>\n",
       "      <td>719</td>\n",
       "      <td>713</td>\n",
       "      <td>719</td>\n",
       "      <td>713</td>\n",
       "    </tr>\n",
       "    <tr>\n",
       "      <th>1</th>\n",
       "      <td>2019-08-02</td>\n",
       "      <td>19</td>\n",
       "      <td>91602</td>\n",
       "      <td>23</td>\n",
       "      <td>162043</td>\n",
       "      <td>42</td>\n",
       "      <td>234381</td>\n",
       "      <td>40</td>\n",
       "      <td>221801</td>\n",
       "      <td>619</td>\n",
       "      <td>581</td>\n",
       "      <td>1338</td>\n",
       "      <td>1294</td>\n",
       "    </tr>\n",
       "    <tr>\n",
       "      <th>2</th>\n",
       "      <td>2019-08-03</td>\n",
       "      <td>24</td>\n",
       "      <td>112473</td>\n",
       "      <td>14</td>\n",
       "      <td>67049</td>\n",
       "      <td>66</td>\n",
       "      <td>346854</td>\n",
       "      <td>54</td>\n",
       "      <td>288850</td>\n",
       "      <td>507</td>\n",
       "      <td>509</td>\n",
       "      <td>1845</td>\n",
       "      <td>1803</td>\n",
       "    </tr>\n",
       "    <tr>\n",
       "      <th>3</th>\n",
       "      <td>2019-08-04</td>\n",
       "      <td>11</td>\n",
       "      <td>41176</td>\n",
       "      <td>14</td>\n",
       "      <td>96890</td>\n",
       "      <td>77</td>\n",
       "      <td>388030</td>\n",
       "      <td>68</td>\n",
       "      <td>385740</td>\n",
       "      <td>717</td>\n",
       "      <td>770</td>\n",
       "      <td>2562</td>\n",
       "      <td>2573</td>\n",
       "    </tr>\n",
       "    <tr>\n",
       "      <th>4</th>\n",
       "      <td>2019-08-05</td>\n",
       "      <td>22</td>\n",
       "      <td>86383</td>\n",
       "      <td>21</td>\n",
       "      <td>89908</td>\n",
       "      <td>99</td>\n",
       "      <td>474413</td>\n",
       "      <td>89</td>\n",
       "      <td>475648</td>\n",
       "      <td>756</td>\n",
       "      <td>707</td>\n",
       "      <td>3318</td>\n",
       "      <td>3280</td>\n",
       "    </tr>\n",
       "  </tbody>\n",
       "</table>\n",
       "</div>"
      ],
      "text/plain": [
       "        date  ordersPerDateA  revenuePerDateA  ordersPerDateB  \\\n",
       "0 2019-08-01              23           142779              17   \n",
       "1 2019-08-02              19            91602              23   \n",
       "2 2019-08-03              24           112473              14   \n",
       "3 2019-08-04              11            41176              14   \n",
       "4 2019-08-05              22            86383              21   \n",
       "\n",
       "   revenuePerDateB  ordersCummulativeA  revenueCummulativeA  \\\n",
       "0            59758                  23               142779   \n",
       "1           162043                  42               234381   \n",
       "2            67049                  66               346854   \n",
       "3            96890                  77               388030   \n",
       "4            89908                  99               474413   \n",
       "\n",
       "   ordersCummulativeB  revenueCummulativeB  visitorsPerDateA  \\\n",
       "0                  17                59758               719   \n",
       "1                  40               221801               619   \n",
       "2                  54               288850               507   \n",
       "3                  68               385740               717   \n",
       "4                  89               475648               756   \n",
       "\n",
       "   visitorsPerDateB  visitorsCummulativeA  visitorsCummulativeB  \n",
       "0               713                   719                   713  \n",
       "1               581                  1338                  1294  \n",
       "2               509                  1845                  1803  \n",
       "3               770                  2562                  2573  \n",
       "4               707                  3318                  3280  "
      ]
     },
     "execution_count": 57,
     "metadata": {},
     "output_type": "execute_result"
    }
   ],
   "source": [
    "data.head()"
   ]
  },
  {
   "cell_type": "markdown",
   "id": "ececd0fb",
   "metadata": {},
   "source": [
    "`date` — дата;  \n",
    "`ordersPerDateA` — количество заказов в выбранную дату в группе A;  \n",
    "`revenuePerDateA` — суммарная выручка в выбранную дату в группе A;  \n",
    "`ordersPerDateB` — количество заказов в выбранную дату в группе B;  \n",
    "`revenuePerDateB` — суммарная выручка в выбранную дату в группе B;  \n",
    "`ordersCummulativeA` — суммарное число заказов до выбранной даты включительно в группе A;  \n",
    "`revenueCummulativeA` — суммарная выручка до выбранной даты включительно в группе A;  \n",
    "`ordersCummulativeB` — суммарное количество заказов до выбранной даты включительно в группе B;  \n",
    "`revenueCummulativeB` — суммарная выручка до выбранной даты включительно в группе B;  \n",
    "`visitorsPerDateA` — количество пользователей в выбранную дату в группе A;  \n",
    "`visitorsPerDateB` — количество пользователей в выбранную дату в группе B;  \n",
    "`visitorsCummulativeA`  — количество пользователей до выбранной даты включительно в группе A;  \n",
    "`visitorsCummulativeB` — количество пользователей до выбранной даты включительно в группе B."
   ]
  },
  {
   "cell_type": "markdown",
   "id": "a6b9bdc3",
   "metadata": {},
   "source": [
    "#### Конверсия, \"сырые\" данные"
   ]
  },
  {
   "cell_type": "markdown",
   "id": "0dd6f1bc",
   "metadata": {},
   "source": [
    "**H0:** различий в среднем количестве заказов между группами нет.  \n",
    "**H1:** различия в среднем между группами есть."
   ]
  },
  {
   "cell_type": "markdown",
   "id": "ae1ec7f1",
   "metadata": {},
   "source": [
    "Для пользователей, которые заказывали хотя бы 1 раз, укажем число совершённых заказов"
   ]
  },
  {
   "cell_type": "code",
   "execution_count": 58,
   "id": "041e3b73",
   "metadata": {},
   "outputs": [],
   "source": [
    "ordersByUsersA = (\n",
    "    orders[orders['group'] == 'A']\n",
    "    .groupby('visitorId', as_index=False)\n",
    "    .agg({'transactionId': pd.Series.nunique})\n",
    ")\n",
    "ordersByUsersA.columns = ['visitorId', 'orders']\n",
    "\n",
    "ordersByUsersB = (\n",
    "    orders[orders['group'] == 'B']\n",
    "    .groupby('visitorId', as_index=False)\n",
    "    .agg({'transactionId': pd.Series.nunique})\n",
    ")\n",
    "ordersByUsersB.columns = ['visitorId', 'orders'] "
   ]
  },
  {
   "cell_type": "markdown",
   "id": "3a8907e1",
   "metadata": {},
   "source": [
    "Переменные `sampleA` и `sampleB` содержат количество заказов пользователей из разных групп. "
   ]
  },
  {
   "cell_type": "code",
   "execution_count": 59,
   "id": "e7cdcdb0",
   "metadata": {},
   "outputs": [],
   "source": [
    "sampleA = pd.concat([ordersByUsersA['orders'], \n",
    "                     pd.Series(0, \n",
    "                               index=np.arange(data['visitorsPerDateA'].sum() \\\n",
    "                                                  - len(ordersByUsersA['orders'])), \n",
    "                               name='orders')],axis=0)\n",
    "\n",
    "sampleB = pd.concat([ordersByUsersB['orders'], \n",
    "                     pd.Series(0, \n",
    "                               index=np.arange(data['visitorsPerDateB'].sum() \\\n",
    "                                                  - len(ordersByUsersB['orders'])), \n",
    "                               name='orders')],axis=0)"
   ]
  },
  {
   "cell_type": "code",
   "execution_count": 60,
   "id": "54a34021",
   "metadata": {},
   "outputs": [
    {
     "name": "stdout",
     "output_type": "stream",
     "text": [
      "p-value = 0.011\n",
      "Относительный прирост конверсии группы B: 15.98%\n"
     ]
    }
   ],
   "source": [
    "print(\"p-value = {0:.3f}\".format(stats.mannwhitneyu(sampleA, sampleB)[1]))\n",
    "\n",
    "print(\"Относительный прирост конверсии группы B: {0:.2%}\".format(sampleB.mean() / sampleA.mean() - 1))"
   ]
  },
  {
   "cell_type": "markdown",
   "id": "6875eab6",
   "metadata": {},
   "source": [
    "**Вывод**  \n",
    "\n",
    "p-value меньше 0.05.  \n",
    "Следовательно, нулевую гипотезу отвергаем, различия конверсии между группами присутствуют. "
   ]
  },
  {
   "cell_type": "markdown",
   "id": "e6dae22f",
   "metadata": {},
   "source": [
    "#### Средний чек, \"сырые\" данные"
   ]
  },
  {
   "cell_type": "markdown",
   "id": "229029cc",
   "metadata": {},
   "source": [
    "**H0:** различий в средней стоимости заказа между группами нет.  \n",
    "**H1:** различия в среднем между группами есть."
   ]
  },
  {
   "cell_type": "code",
   "execution_count": 61,
   "id": "dc881871",
   "metadata": {},
   "outputs": [
    {
     "name": "stdout",
     "output_type": "stream",
     "text": [
      "p-value = 0.829\n",
      "Относительный прирост средней стоимости заказа группы B: 28.66%\n"
     ]
    }
   ],
   "source": [
    "print('p-value = {0:.3f}'.format(stats.mannwhitneyu(orders[orders['group']=='A']['revenue'], \n",
    "                                                    orders[orders['group']=='B']['revenue'])[1]))\n",
    "\n",
    "print('Относительный прирост средней стоимости заказа группы B: {0:.2%}'.format(\n",
    "    orders[orders['group']=='B']['revenue'].mean()/\\\n",
    "    orders[orders['group']=='A']['revenue'].mean()-1)\n",
    "     )"
   ]
  },
  {
   "cell_type": "markdown",
   "id": "104bcd87",
   "metadata": {},
   "source": [
    "**Вывод**  \n",
    "\n",
    "p-value значительно больше 0.05.  \n",
    "Следовательно, нулевую гипотезу не отвергаем, относительный прирост средней стоимости заказа группы B не является статистически значимым. Возможно, он вызван наличием крупных заказов.  \n",
    "\n",
    "Для проверки необходимо провести фильтрацию данных."
   ]
  },
  {
   "cell_type": "markdown",
   "id": "089a5b3b",
   "metadata": {},
   "source": [
    "#### Удаление аномальных значений"
   ]
  },
  {
   "cell_type": "markdown",
   "id": "31d10451",
   "metadata": {},
   "source": [
    "Из датафрейма удаляются данные о пользователях, совершивших более 3 заказов или заказ на сумму более 28000р."
   ]
  },
  {
   "cell_type": "code",
   "execution_count": 62,
   "id": "02eece40",
   "metadata": {},
   "outputs": [
    {
     "name": "stdout",
     "output_type": "stream",
     "text": [
      "Всего аномальных пользователей: 86\n"
     ]
    }
   ],
   "source": [
    "orders_lim = np.percentile(ordersByUsers['orders'], 95)\n",
    "\n",
    "usersWithManyOrders = pd.concat(\n",
    "    [\n",
    "        ordersByUsersA[ordersByUsersA['orders'] > orders_lim]['visitorId'],\n",
    "        ordersByUsersB[ordersByUsersB['orders'] > orders_lim]['visitorId'],\n",
    "    ],\n",
    "    axis=0,\n",
    ")\n",
    "\n",
    "revenue_lim = np.percentile(orders['revenue'], 95)\n",
    "\n",
    "usersWithExpensiveOrders = orders[orders['revenue'] > revenue_lim]['visitorId']\n",
    "\n",
    "abnormalUsers = (\n",
    "    pd.concat([usersWithManyOrders, usersWithExpensiveOrders], axis=0)\n",
    "    .drop_duplicates()\n",
    "    .sort_values()\n",
    ")\n",
    "\n",
    "print(f'Всего аномальных пользователей: {abnormalUsers.shape[0]}') "
   ]
  },
  {
   "cell_type": "markdown",
   "id": "aa6007f4",
   "metadata": {},
   "source": [
    "#### Конверсия, \"очищенные\" данные"
   ]
  },
  {
   "cell_type": "markdown",
   "id": "8922abbd",
   "metadata": {},
   "source": [
    "**H0:** различий в среднем количестве заказов между группами нет.  \n",
    "**H1:** различия в среднем между группами есть."
   ]
  },
  {
   "cell_type": "code",
   "execution_count": 63,
   "id": "e287c491",
   "metadata": {},
   "outputs": [],
   "source": [
    "sampleAFiltered = pd.concat(\n",
    "    [\n",
    "        ordersByUsersA[\n",
    "            np.logical_not(ordersByUsersA['visitorId'].isin(abnormalUsers))\n",
    "        ]['orders'],\n",
    "        pd.Series(\n",
    "            0,\n",
    "            index=np.arange(\n",
    "                data['visitorsPerDateA'].sum() - len(ordersByUsersA['orders'])\n",
    "            ),\n",
    "            name='orders',\n",
    "        ),\n",
    "    ],\n",
    "    axis=0,\n",
    ")\n",
    "\n",
    "sampleBFiltered = pd.concat(\n",
    "    [\n",
    "        ordersByUsersB[\n",
    "            np.logical_not(ordersByUsersB['visitorId'].isin(abnormalUsers))\n",
    "        ]['orders'],\n",
    "        pd.Series(\n",
    "            0,\n",
    "            index=np.arange(\n",
    "                data['visitorsPerDateB'].sum() - len(ordersByUsersB['orders'])\n",
    "            ),\n",
    "            name='orders',\n",
    "        ),\n",
    "    ],\n",
    "    axis=0,\n",
    ") "
   ]
  },
  {
   "cell_type": "code",
   "execution_count": 64,
   "id": "6eb62cee",
   "metadata": {},
   "outputs": [
    {
     "name": "stdout",
     "output_type": "stream",
     "text": [
      "p-value = 0.016\n",
      "Относительный прирост конверсии группы B: 17.39%\n"
     ]
    }
   ],
   "source": [
    "print('p-value = {0:.3f}'.format(stats.mannwhitneyu(sampleAFiltered, sampleBFiltered)[1]))\n",
    "\n",
    "print('Относительный прирост конверсии группы B: {0:.2%}'.format(sampleBFiltered.mean()/sampleAFiltered.mean()-1))"
   ]
  },
  {
   "cell_type": "markdown",
   "id": "f55853a8",
   "metadata": {},
   "source": [
    "**Вывод**  \n",
    "\n",
    "p-value также меньше 0.05.  \n",
    "Нулевую гипотезу отвергаем, различия конверсии между группами присутствуют, конверсия группы `B` выше. "
   ]
  },
  {
   "cell_type": "markdown",
   "id": "77140179",
   "metadata": {},
   "source": [
    "#### Средний чек, \"очищенные\" данные"
   ]
  },
  {
   "cell_type": "markdown",
   "id": "855afb3a",
   "metadata": {},
   "source": [
    "**H0:** различий в средней стоимости заказа между группами нет.  \n",
    "**H1:** различия в среднем между группами есть."
   ]
  },
  {
   "cell_type": "code",
   "execution_count": 65,
   "id": "fc21c92c",
   "metadata": {},
   "outputs": [
    {
     "name": "stdout",
     "output_type": "stream",
     "text": [
      "p-value = 0.727\n",
      "Относительный прирост средней стоимости заказа группы B: -0.034\n"
     ]
    }
   ],
   "source": [
    "print(\n",
    "    'p-value = {0:.3f}'.format(\n",
    "        stats.mannwhitneyu(\n",
    "            orders[\n",
    "                np.logical_and(\n",
    "                    orders['group'] == 'A',\n",
    "                    np.logical_not(orders['visitorId'].isin(abnormalUsers)),\n",
    "                )\n",
    "            ]['revenue'],\n",
    "            orders[\n",
    "                np.logical_and(\n",
    "                    orders['group'] == 'B',\n",
    "                    np.logical_not(orders['visitorId'].isin(abnormalUsers)),\n",
    "                )\n",
    "            ]['revenue'],\n",
    "        )[1]\n",
    "    )\n",
    ")\n",
    "\n",
    "print(\n",
    "    \"Относительный прирост средней стоимости заказа группы B: {0:.3f}\".format(\n",
    "        orders[\n",
    "            np.logical_and(\n",
    "                orders['group'] == 'B',\n",
    "                np.logical_not(orders['visitorId'].isin(abnormalUsers)),\n",
    "            )\n",
    "        ]['revenue'].mean()\n",
    "        / orders[\n",
    "            np.logical_and(\n",
    "                orders['group'] == 'A',\n",
    "                np.logical_not(orders['visitorId'].isin(abnormalUsers)),\n",
    "            )\n",
    "        ]['revenue'].mean()\n",
    "        - 1\n",
    "    )\n",
    ")"
   ]
  },
  {
   "cell_type": "markdown",
   "id": "fab44b83",
   "metadata": {},
   "source": [
    "**Вывод**  \n",
    "\n",
    "p-value также больше 0.05.  \n",
    "Нулевую гипотезу не отвергаем, различий между средней стоимостью заказа групп `A` и `B` нет."
   ]
  },
  {
   "cell_type": "markdown",
   "id": "bbacf635",
   "metadata": {},
   "source": [
    "## Выводы"
   ]
  },
  {
   "cell_type": "markdown",
   "id": "611ae5ad",
   "metadata": {},
   "source": [
    "Для проверки была выбрана гипотеза:  \n",
    "`Добавить форму подписки на все основные страницы, чтобы собрать базу клиентов для email-рассылок`\n",
    "\n",
    "По результатам тестирования было обнаружено:  \n",
    "1. Различий между средней стоимостью заказа не обнаружено, данные обеих групп практически идентичны.\n",
    "2. Обнаружено повышение конверсии приблизительно на 15% для группы с обновленным интерфейсом.\n",
    "\n",
    "Можно остановить тестирование и признать гипотезу успешной, поскольку улучшение одной из исследуемых метрик без снижения других показателей является положительным результатом."
   ]
  }
 ],
 "metadata": {
  "ExecuteTimeLog": [
   {
    "duration": 1068,
    "start_time": "2023-01-11T10:59:20.090Z"
   },
   {
    "duration": 126,
    "start_time": "2023-01-11T10:59:21.160Z"
   },
   {
    "duration": 15,
    "start_time": "2023-01-11T10:59:21.287Z"
   },
   {
    "duration": 6,
    "start_time": "2023-01-11T10:59:21.304Z"
   },
   {
    "duration": 63,
    "start_time": "2023-01-11T10:59:21.312Z"
   },
   {
    "duration": 8,
    "start_time": "2023-01-11T10:59:21.377Z"
   },
   {
    "duration": 26,
    "start_time": "2023-01-11T10:59:21.386Z"
   },
   {
    "duration": 8,
    "start_time": "2023-01-11T10:59:21.414Z"
   },
   {
    "duration": 12,
    "start_time": "2023-01-11T10:59:21.436Z"
   },
   {
    "duration": 14,
    "start_time": "2023-01-11T10:59:21.451Z"
   },
   {
    "duration": 24,
    "start_time": "2023-01-11T10:59:21.467Z"
   },
   {
    "duration": 10,
    "start_time": "2023-01-11T10:59:21.531Z"
   },
   {
    "duration": 101,
    "start_time": "2023-01-11T10:59:21.543Z"
   },
   {
    "duration": 7,
    "start_time": "2023-01-11T10:59:21.646Z"
   },
   {
    "duration": 15,
    "start_time": "2023-01-11T10:59:21.655Z"
   },
   {
    "duration": 54,
    "start_time": "2023-01-11T10:59:21.672Z"
   },
   {
    "duration": 30,
    "start_time": "2023-01-11T10:59:21.730Z"
   },
   {
    "duration": 18,
    "start_time": "2023-01-11T10:59:21.761Z"
   },
   {
    "duration": 55,
    "start_time": "2023-01-11T10:59:21.781Z"
   },
   {
    "duration": 10,
    "start_time": "2023-01-11T10:59:21.841Z"
   },
   {
    "duration": 73,
    "start_time": "2023-01-11T10:59:21.853Z"
   },
   {
    "duration": 46,
    "start_time": "2023-01-11T10:59:21.928Z"
   },
   {
    "duration": 292,
    "start_time": "2023-01-11T10:59:21.976Z"
   },
   {
    "duration": 375,
    "start_time": "2023-01-11T10:59:22.269Z"
   },
   {
    "duration": 7,
    "start_time": "2023-01-11T10:59:22.646Z"
   },
   {
    "duration": 70,
    "start_time": "2023-01-11T10:59:22.654Z"
   },
   {
    "duration": 533,
    "start_time": "2023-01-11T10:59:22.729Z"
   },
   {
    "duration": 281,
    "start_time": "2023-01-11T10:59:23.265Z"
   },
   {
    "duration": 393,
    "start_time": "2023-01-11T10:59:23.548Z"
   },
   {
    "duration": 247,
    "start_time": "2023-01-11T10:59:23.943Z"
   },
   {
    "duration": 370,
    "start_time": "2023-01-11T10:59:24.191Z"
   },
   {
    "duration": 8,
    "start_time": "2023-01-11T10:59:24.563Z"
   },
   {
    "duration": 123,
    "start_time": "2023-01-11T10:59:24.573Z"
   },
   {
    "duration": 3,
    "start_time": "2023-01-11T10:59:24.698Z"
   },
   {
    "duration": 22,
    "start_time": "2023-01-11T10:59:24.703Z"
   },
   {
    "duration": 132,
    "start_time": "2023-01-11T10:59:24.727Z"
   },
   {
    "duration": 4,
    "start_time": "2023-01-11T10:59:24.861Z"
   },
   {
    "duration": 129,
    "start_time": "2023-01-11T10:59:24.867Z"
   },
   {
    "duration": 3,
    "start_time": "2023-01-11T10:59:24.998Z"
   },
   {
    "duration": 19,
    "start_time": "2023-01-11T10:59:25.003Z"
   },
   {
    "duration": 11,
    "start_time": "2023-01-11T10:59:25.024Z"
   },
   {
    "duration": 52,
    "start_time": "2023-01-11T10:59:25.036Z"
   },
   {
    "duration": 55,
    "start_time": "2023-01-11T10:59:25.089Z"
   },
   {
    "duration": 16,
    "start_time": "2023-01-11T10:59:25.146Z"
   },
   {
    "duration": 15,
    "start_time": "2023-01-11T10:59:25.163Z"
   },
   {
    "duration": 64,
    "start_time": "2023-01-11T10:59:25.180Z"
   },
   {
    "duration": 79,
    "start_time": "2023-01-11T10:59:25.250Z"
   },
   {
    "duration": 29,
    "start_time": "2023-01-11T10:59:25.331Z"
   },
   {
    "duration": 56,
    "start_time": "2023-01-11T10:59:25.362Z"
   },
   {
    "duration": 205,
    "start_time": "2023-01-11T10:59:25.419Z"
   },
   {
    "duration": 14,
    "start_time": "2023-01-11T10:59:25.625Z"
   },
   {
    "duration": 38,
    "start_time": "2023-01-11T10:59:25.640Z"
   },
   {
    "duration": 10,
    "start_time": "2023-01-11T10:59:25.679Z"
   },
   {
    "duration": 37,
    "start_time": "2023-01-11T10:59:25.690Z"
   },
   {
    "duration": 23,
    "start_time": "2023-01-11T10:59:25.730Z"
   },
   {
    "duration": 28,
    "start_time": "2023-01-11T10:59:25.754Z"
   },
   {
    "duration": 13,
    "start_time": "2023-01-11T10:59:25.784Z"
   }
  ],
  "kernelspec": {
   "display_name": "Python 3 (ipykernel)",
   "language": "python",
   "name": "python3"
  },
  "language_info": {
   "codemirror_mode": {
    "name": "ipython",
    "version": 3
   },
   "file_extension": ".py",
   "mimetype": "text/x-python",
   "name": "python",
   "nbconvert_exporter": "python",
   "pygments_lexer": "ipython3",
   "version": "3.9.12"
  },
  "toc": {
   "base_numbering": 1,
   "nav_menu": {
    "height": "252px",
    "width": "458px"
   },
   "number_sections": true,
   "sideBar": true,
   "skip_h1_title": true,
   "title_cell": "Table of Contents",
   "title_sidebar": "Contents",
   "toc_cell": true,
   "toc_position": {
    "height": "calc(100% - 180px)",
    "left": "10px",
    "top": "150px",
    "width": "257.2px"
   },
   "toc_section_display": true,
   "toc_window_display": true
  }
 },
 "nbformat": 4,
 "nbformat_minor": 5
}
