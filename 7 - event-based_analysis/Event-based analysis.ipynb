{
 "cells": [
  {
   "cell_type": "markdown",
   "id": "8b4a266c",
   "metadata": {},
   "source": [
    "# Событийная аналитика интернет-магазина"
   ]
  },
  {
   "cell_type": "markdown",
   "id": "a8d3f4a6",
   "metadata": {
    "toc": true
   },
   "source": [
    "<h1>Оглавление<span class=\"tocSkip\"></span></h1>\n",
    "<div class=\"toc\"><ul class=\"toc-item\"><li><span><a href=\"#Постановка-задачи\" data-toc-modified-id=\"Постановка-задачи-1\"><span class=\"toc-item-num\">1&nbsp;&nbsp;</span>Постановка задачи</a></span></li><li><span><a href=\"#Обзор-и-предобработка-данных\" data-toc-modified-id=\"Обзор-и-предобработка-данных-2\"><span class=\"toc-item-num\">2&nbsp;&nbsp;</span>Обзор и предобработка данных</a></span><ul class=\"toc-item\"><li><span><a href=\"#Описание\" data-toc-modified-id=\"Описание-2.1\"><span class=\"toc-item-num\">2.1&nbsp;&nbsp;</span>Описание</a></span></li><li><span><a href=\"#Предобработка\" data-toc-modified-id=\"Предобработка-2.2\"><span class=\"toc-item-num\">2.2&nbsp;&nbsp;</span>Предобработка</a></span></li><li><span><a href=\"#Оценка-распределения\" data-toc-modified-id=\"Оценка-распределения-2.3\"><span class=\"toc-item-num\">2.3&nbsp;&nbsp;</span>Оценка распределения</a></span></li></ul></li><li><span><a href=\"#Создание-воронки-событий\" data-toc-modified-id=\"Создание-воронки-событий-3\"><span class=\"toc-item-num\">3&nbsp;&nbsp;</span>Создание воронки событий</a></span><ul class=\"toc-item\"><li><span><a href=\"#Распределение-событий-по-частоте\" data-toc-modified-id=\"Распределение-событий-по-частоте-3.1\"><span class=\"toc-item-num\">3.1&nbsp;&nbsp;</span>Распределение событий по частоте</a></span></li><li><span><a href=\"#Изучение-конверсии\" data-toc-modified-id=\"Изучение-конверсии-3.2\"><span class=\"toc-item-num\">3.2&nbsp;&nbsp;</span>Изучение конверсии</a></span></li><li><span><a href=\"#Вывод\" data-toc-modified-id=\"Вывод-3.3\"><span class=\"toc-item-num\">3.3&nbsp;&nbsp;</span>Вывод</a></span></li></ul></li><li><span><a href=\"#Изучение-результатов-эксперимента\" data-toc-modified-id=\"Изучение-результатов-эксперимента-4\"><span class=\"toc-item-num\">4&nbsp;&nbsp;</span>Изучение результатов эксперимента</a></span><ul class=\"toc-item\"><li><span><a href=\"#Сравнение-показателей-конверсии-между-группами\" data-toc-modified-id=\"Сравнение-показателей-конверсии-между-группами-4.1\"><span class=\"toc-item-num\">4.1&nbsp;&nbsp;</span>Сравнение показателей конверсии между группами</a></span></li><li><span><a href=\"#Оценка-статистической-значимости\" data-toc-modified-id=\"Оценка-статистической-значимости-4.2\"><span class=\"toc-item-num\">4.2&nbsp;&nbsp;</span>Оценка статистической значимости</a></span><ul class=\"toc-item\"><li><span><a href=\"#Событие-1---Посещение-главной-страницы\" data-toc-modified-id=\"Событие-1---Посещение-главной-страницы-4.2.1\"><span class=\"toc-item-num\">4.2.1&nbsp;&nbsp;</span>Событие 1 - Посещение главной страницы</a></span></li><li><span><a href=\"#Событие-2---Посещение-страницы-товара\" data-toc-modified-id=\"Событие-2---Посещение-страницы-товара-4.2.2\"><span class=\"toc-item-num\">4.2.2&nbsp;&nbsp;</span>Событие 2 - Посещение страницы товара</a></span></li><li><span><a href=\"#Событие-3---Добавление-товара-в-корзину\" data-toc-modified-id=\"Событие-3---Добавление-товара-в-корзину-4.2.3\"><span class=\"toc-item-num\">4.2.3&nbsp;&nbsp;</span>Событие 3 - Добавление товара в корзину</a></span></li><li><span><a href=\"#Событие-4---Успешная-оплата-заказа\" data-toc-modified-id=\"Событие-4---Успешная-оплата-заказа-4.2.4\"><span class=\"toc-item-num\">4.2.4&nbsp;&nbsp;</span>Событие 4 - Успешная оплата заказа</a></span></li></ul></li></ul></li><li><span><a href=\"#Выводы\" data-toc-modified-id=\"Выводы-5\"><span class=\"toc-item-num\">5&nbsp;&nbsp;</span>Выводы</a></span></li></ul></div>"
   ]
  },
  {
   "cell_type": "markdown",
   "id": "e8dc7c38",
   "metadata": {},
   "source": [
    "## Постановка задачи\n",
    "\n",
    "Необходимо проанализировать поведение пользователей, составив воронку продаж.\n",
    "\n",
    "Также по результатам данных A/A/B тестирования необходимо оценить, повлияло ли изменение интерфейса на увеличение количества заказов и конверсии."
   ]
  },
  {
   "cell_type": "markdown",
   "id": "80b36ba0",
   "metadata": {},
   "source": [
    "## Обзор и предобработка данных"
   ]
  },
  {
   "cell_type": "markdown",
   "id": "717628bc",
   "metadata": {},
   "source": [
    "### Описание"
   ]
  },
  {
   "cell_type": "markdown",
   "id": "07c4037a",
   "metadata": {},
   "source": [
    "Имеющиеся лог-файлы содержат информацию о действиях, совершенных пользователями, где: \n",
    "\n",
    "`EventName` — название события;  \n",
    "`DeviceIDHash` — уникальный идентификатор пользователя;  \n",
    "`EventTimestamp` — время события;  \n",
    "`ExpId` — номер эксперимента: 246 и 247 — контрольные группы, а 248 — экспериментальная.  "
   ]
  },
  {
   "cell_type": "code",
   "execution_count": 2,
   "id": "3932ee01",
   "metadata": {},
   "outputs": [],
   "source": [
    "import pandas as pd\n",
    "import matplotlib.pyplot as plt\n",
    "import numpy as np\n",
    "import scipy.stats as stats\n",
    "from scipy import stats as st\n",
    "from datetime import datetime\n",
    "from statsmodels.stats.weightstats import ztest as ztest\n",
    "\n",
    "import warnings\n",
    "warnings.filterwarnings('ignore')"
   ]
  },
  {
   "cell_type": "code",
   "execution_count": 3,
   "id": "12267417",
   "metadata": {},
   "outputs": [],
   "source": [
    "df = pd.read_csv('Datasets/logs_exp.csv', sep='\\t')"
   ]
  },
  {
   "cell_type": "code",
   "execution_count": 4,
   "id": "e70e07d9",
   "metadata": {
    "scrolled": true
   },
   "outputs": [
    {
     "data": {
      "text/html": [
       "<div>\n",
       "<style scoped>\n",
       "    .dataframe tbody tr th:only-of-type {\n",
       "        vertical-align: middle;\n",
       "    }\n",
       "\n",
       "    .dataframe tbody tr th {\n",
       "        vertical-align: top;\n",
       "    }\n",
       "\n",
       "    .dataframe thead th {\n",
       "        text-align: right;\n",
       "    }\n",
       "</style>\n",
       "<table border=\"1\" class=\"dataframe\">\n",
       "  <thead>\n",
       "    <tr style=\"text-align: right;\">\n",
       "      <th></th>\n",
       "      <th>EventName</th>\n",
       "      <th>DeviceIDHash</th>\n",
       "      <th>EventTimestamp</th>\n",
       "      <th>ExpId</th>\n",
       "    </tr>\n",
       "  </thead>\n",
       "  <tbody>\n",
       "    <tr>\n",
       "      <th>0</th>\n",
       "      <td>MainScreenAppear</td>\n",
       "      <td>4575588528974610257</td>\n",
       "      <td>1564029816</td>\n",
       "      <td>246</td>\n",
       "    </tr>\n",
       "    <tr>\n",
       "      <th>1</th>\n",
       "      <td>MainScreenAppear</td>\n",
       "      <td>7416695313311560658</td>\n",
       "      <td>1564053102</td>\n",
       "      <td>246</td>\n",
       "    </tr>\n",
       "    <tr>\n",
       "      <th>2</th>\n",
       "      <td>PaymentScreenSuccessful</td>\n",
       "      <td>3518123091307005509</td>\n",
       "      <td>1564054127</td>\n",
       "      <td>248</td>\n",
       "    </tr>\n",
       "    <tr>\n",
       "      <th>3</th>\n",
       "      <td>CartScreenAppear</td>\n",
       "      <td>3518123091307005509</td>\n",
       "      <td>1564054127</td>\n",
       "      <td>248</td>\n",
       "    </tr>\n",
       "    <tr>\n",
       "      <th>4</th>\n",
       "      <td>PaymentScreenSuccessful</td>\n",
       "      <td>6217807653094995999</td>\n",
       "      <td>1564055322</td>\n",
       "      <td>248</td>\n",
       "    </tr>\n",
       "  </tbody>\n",
       "</table>\n",
       "</div>"
      ],
      "text/plain": [
       "                 EventName         DeviceIDHash  EventTimestamp  ExpId\n",
       "0         MainScreenAppear  4575588528974610257      1564029816    246\n",
       "1         MainScreenAppear  7416695313311560658      1564053102    246\n",
       "2  PaymentScreenSuccessful  3518123091307005509      1564054127    248\n",
       "3         CartScreenAppear  3518123091307005509      1564054127    248\n",
       "4  PaymentScreenSuccessful  6217807653094995999      1564055322    248"
      ]
     },
     "execution_count": 4,
     "metadata": {},
     "output_type": "execute_result"
    }
   ],
   "source": [
    "df.head()"
   ]
  },
  {
   "cell_type": "markdown",
   "id": "ee4f77ca",
   "metadata": {},
   "source": [
    "### Предобработка"
   ]
  },
  {
   "cell_type": "markdown",
   "id": "f9e9806f",
   "metadata": {},
   "source": [
    "Для удобства наименования столбцов заменяются, а также названия групп устанавливаются: `A1`, `A2`, `B`."
   ]
  },
  {
   "cell_type": "code",
   "execution_count": 4,
   "id": "476ddf16",
   "metadata": {},
   "outputs": [],
   "source": [
    "df.columns = ['event_type', 'user_id', 'timestamp', 'group']"
   ]
  },
  {
   "cell_type": "code",
   "execution_count": 5,
   "id": "64466c76",
   "metadata": {},
   "outputs": [],
   "source": [
    "df['group'] = df['group'].replace([246, 247, 248], ['A1', 'A2', 'B'])"
   ]
  },
  {
   "cell_type": "markdown",
   "id": "6be5e08c",
   "metadata": {},
   "source": [
    "Данные приводятся к необходимому формату, а также добавляются столбцы с датой для последующей обработки."
   ]
  },
  {
   "cell_type": "code",
   "execution_count": 6,
   "id": "b5ec5729",
   "metadata": {},
   "outputs": [],
   "source": [
    "df['datetime'] = pd.to_datetime(df['timestamp'], unit='s')\n",
    "df['date'] = pd.to_datetime(df['timestamp'], unit='s').dt.date"
   ]
  },
  {
   "cell_type": "code",
   "execution_count": 7,
   "id": "a9c233d8",
   "metadata": {},
   "outputs": [],
   "source": [
    "df['month'] = df['datetime'].dt.month\n",
    "df['day'] = df['datetime'].dt.day"
   ]
  },
  {
   "cell_type": "code",
   "execution_count": 8,
   "id": "fc41c26e",
   "metadata": {},
   "outputs": [],
   "source": [
    "df = df.drop(columns='timestamp')"
   ]
  },
  {
   "cell_type": "code",
   "execution_count": 9,
   "id": "b8548ab5",
   "metadata": {
    "scrolled": true
   },
   "outputs": [
    {
     "data": {
      "text/html": [
       "<div>\n",
       "<style scoped>\n",
       "    .dataframe tbody tr th:only-of-type {\n",
       "        vertical-align: middle;\n",
       "    }\n",
       "\n",
       "    .dataframe tbody tr th {\n",
       "        vertical-align: top;\n",
       "    }\n",
       "\n",
       "    .dataframe thead th {\n",
       "        text-align: right;\n",
       "    }\n",
       "</style>\n",
       "<table border=\"1\" class=\"dataframe\">\n",
       "  <thead>\n",
       "    <tr style=\"text-align: right;\">\n",
       "      <th></th>\n",
       "      <th>event_type</th>\n",
       "      <th>user_id</th>\n",
       "      <th>group</th>\n",
       "      <th>datetime</th>\n",
       "      <th>date</th>\n",
       "      <th>month</th>\n",
       "      <th>day</th>\n",
       "    </tr>\n",
       "  </thead>\n",
       "  <tbody>\n",
       "    <tr>\n",
       "      <th>0</th>\n",
       "      <td>MainScreenAppear</td>\n",
       "      <td>4575588528974610257</td>\n",
       "      <td>A1</td>\n",
       "      <td>2019-07-25 04:43:36</td>\n",
       "      <td>2019-07-25</td>\n",
       "      <td>7</td>\n",
       "      <td>25</td>\n",
       "    </tr>\n",
       "    <tr>\n",
       "      <th>1</th>\n",
       "      <td>MainScreenAppear</td>\n",
       "      <td>7416695313311560658</td>\n",
       "      <td>A1</td>\n",
       "      <td>2019-07-25 11:11:42</td>\n",
       "      <td>2019-07-25</td>\n",
       "      <td>7</td>\n",
       "      <td>25</td>\n",
       "    </tr>\n",
       "    <tr>\n",
       "      <th>2</th>\n",
       "      <td>PaymentScreenSuccessful</td>\n",
       "      <td>3518123091307005509</td>\n",
       "      <td>B</td>\n",
       "      <td>2019-07-25 11:28:47</td>\n",
       "      <td>2019-07-25</td>\n",
       "      <td>7</td>\n",
       "      <td>25</td>\n",
       "    </tr>\n",
       "    <tr>\n",
       "      <th>3</th>\n",
       "      <td>CartScreenAppear</td>\n",
       "      <td>3518123091307005509</td>\n",
       "      <td>B</td>\n",
       "      <td>2019-07-25 11:28:47</td>\n",
       "      <td>2019-07-25</td>\n",
       "      <td>7</td>\n",
       "      <td>25</td>\n",
       "    </tr>\n",
       "    <tr>\n",
       "      <th>4</th>\n",
       "      <td>PaymentScreenSuccessful</td>\n",
       "      <td>6217807653094995999</td>\n",
       "      <td>B</td>\n",
       "      <td>2019-07-25 11:48:42</td>\n",
       "      <td>2019-07-25</td>\n",
       "      <td>7</td>\n",
       "      <td>25</td>\n",
       "    </tr>\n",
       "  </tbody>\n",
       "</table>\n",
       "</div>"
      ],
      "text/plain": [
       "                event_type              user_id group            datetime  \\\n",
       "0         MainScreenAppear  4575588528974610257    A1 2019-07-25 04:43:36   \n",
       "1         MainScreenAppear  7416695313311560658    A1 2019-07-25 11:11:42   \n",
       "2  PaymentScreenSuccessful  3518123091307005509     B 2019-07-25 11:28:47   \n",
       "3         CartScreenAppear  3518123091307005509     B 2019-07-25 11:28:47   \n",
       "4  PaymentScreenSuccessful  6217807653094995999     B 2019-07-25 11:48:42   \n",
       "\n",
       "         date  month  day  \n",
       "0  2019-07-25      7   25  \n",
       "1  2019-07-25      7   25  \n",
       "2  2019-07-25      7   25  \n",
       "3  2019-07-25      7   25  \n",
       "4  2019-07-25      7   25  "
      ]
     },
     "execution_count": 9,
     "metadata": {},
     "output_type": "execute_result"
    }
   ],
   "source": [
    "df.head()"
   ]
  },
  {
   "cell_type": "code",
   "execution_count": 10,
   "id": "9105f2f7",
   "metadata": {},
   "outputs": [
    {
     "name": "stdout",
     "output_type": "stream",
     "text": [
      "<class 'pandas.core.frame.DataFrame'>\n",
      "RangeIndex: 244126 entries, 0 to 244125\n",
      "Data columns (total 7 columns):\n",
      " #   Column      Non-Null Count   Dtype         \n",
      "---  ------      --------------   -----         \n",
      " 0   event_type  244126 non-null  object        \n",
      " 1   user_id     244126 non-null  int64         \n",
      " 2   group       244126 non-null  object        \n",
      " 3   datetime    244126 non-null  datetime64[ns]\n",
      " 4   date        244126 non-null  object        \n",
      " 5   month       244126 non-null  int64         \n",
      " 6   day         244126 non-null  int64         \n",
      "dtypes: datetime64[ns](1), int64(3), object(3)\n",
      "memory usage: 13.0+ MB\n"
     ]
    }
   ],
   "source": [
    "df.info()"
   ]
  },
  {
   "cell_type": "markdown",
   "id": "c1fff694",
   "metadata": {},
   "source": [
    "Данные записаны без пропусков.  \n",
    "Также необходимо проверить наличие дубликатов и некорректных значений."
   ]
  },
  {
   "cell_type": "code",
   "execution_count": 11,
   "id": "e7773c0f",
   "metadata": {},
   "outputs": [
    {
     "data": {
      "text/plain": [
       "413"
      ]
     },
     "execution_count": 11,
     "metadata": {},
     "output_type": "execute_result"
    }
   ],
   "source": [
    "sum(df.duplicated())"
   ]
  },
  {
   "cell_type": "code",
   "execution_count": 12,
   "id": "69f52f8d",
   "metadata": {},
   "outputs": [],
   "source": [
    "df = df.drop_duplicates()"
   ]
  },
  {
   "cell_type": "code",
   "execution_count": 13,
   "id": "0b4e0d3a",
   "metadata": {},
   "outputs": [
    {
     "data": {
      "text/plain": [
       "array(['MainScreenAppear', 'PaymentScreenSuccessful', 'CartScreenAppear',\n",
       "       'OffersScreenAppear', 'Tutorial'], dtype=object)"
      ]
     },
     "execution_count": 13,
     "metadata": {},
     "output_type": "execute_result"
    }
   ],
   "source": [
    "df['event_type'].unique()"
   ]
  },
  {
   "cell_type": "code",
   "execution_count": 14,
   "id": "b6dd740e",
   "metadata": {},
   "outputs": [],
   "source": [
    "users_a1 = df.query('group == \"A1\"')\n",
    "users_a2 = df.query('group == \"A2\"')\n",
    "users_b = df.query('group == \"B\"')"
   ]
  },
  {
   "cell_type": "code",
   "execution_count": 15,
   "id": "1e454bfd",
   "metadata": {},
   "outputs": [],
   "source": [
    "users_a1_a2 = users_a1.merge(users_a2, on='user_id', how='inner')\n",
    "users_a1_b = users_a1.merge(users_b, on='user_id', how='inner')\n",
    "users_a2_b = users_a2.merge(users_b, on='user_id', how='inner')\n",
    "\n",
    "users_a1_a2 = list(users_a1_a2[\"user_id\"].unique())\n",
    "users_a1_b = list(users_a1_b[\"user_id\"].unique())\n",
    "users_a2_b = list(users_a2_b[\"user_id\"].unique())"
   ]
  },
  {
   "cell_type": "code",
   "execution_count": 16,
   "id": "1219e224",
   "metadata": {},
   "outputs": [
    {
     "name": "stdout",
     "output_type": "stream",
     "text": [
      "[]\n",
      "[]\n",
      "[]\n"
     ]
    }
   ],
   "source": [
    "print(users_a1_a2)\n",
    "print(users_a1_b)\n",
    "print(users_a2_b)"
   ]
  },
  {
   "cell_type": "markdown",
   "id": "82dcc3ae",
   "metadata": {},
   "source": [
    "Полные дубликаты удалены, неявные дубликаты не обнаружены.  \n",
    "  \n",
    "Пользователели распределены корреткно, пересечений между группами не обнаружено."
   ]
  },
  {
   "cell_type": "markdown",
   "id": "95b55f55",
   "metadata": {},
   "source": [
    "### Оценка распределения"
   ]
  },
  {
   "cell_type": "markdown",
   "id": "8831b614",
   "metadata": {},
   "source": [
    "Необходимо провести общий анализ распределения событий по группам, а также по датам проведения теста."
   ]
  },
  {
   "cell_type": "code",
   "execution_count": 17,
   "id": "cdf88bc9",
   "metadata": {},
   "outputs": [
    {
     "name": "stdout",
     "output_type": "stream",
     "text": [
      "Событий в контрольной группе A1: 80181\n",
      "Событий в контрольной группе A2: 77950\n",
      "Разница между контрольными группами: 2.86%\n",
      "\n",
      "Событий в группе B: 85582\n"
     ]
    }
   ],
   "source": [
    "a1 = df.query('group == \"A1\"')\n",
    "a2 = df.query('group == \"A2\"')\n",
    "b = df.query('group == \"B\"')\n",
    "\n",
    "print(f'''Событий в контрольной группе A1: {len(a1)}\n",
    "Событий в контрольной группе A2: {len(a2)}\n",
    "Разница между контрольными группами: {(len(a1) / len(a2))-1 :.2%}\n",
    "\n",
    "Событий в группе B: {len(b)}''')"
   ]
  },
  {
   "cell_type": "code",
   "execution_count": 18,
   "id": "a1c4d803",
   "metadata": {},
   "outputs": [
    {
     "name": "stdout",
     "output_type": "stream",
     "text": [
      "Всего событий: 243713\n",
      "Уникальных пользователей: 7551\n",
      "Событий на 1-го пользователя (в среднем): 32.3\n"
     ]
    }
   ],
   "source": [
    "events_total = len(df)\n",
    "users_total = df[\"user_id\"].nunique()\n",
    "event_per_user = len(df) / df[\"user_id\"].nunique()\n",
    "\n",
    "print(f'''Всего событий: {events_total}\n",
    "Уникальных пользователей: {users_total}\n",
    "Событий на 1-го пользователя (в среднем): {event_per_user:.3}''')"
   ]
  },
  {
   "cell_type": "code",
   "execution_count": 19,
   "id": "f24b3681",
   "metadata": {},
   "outputs": [
    {
     "name": "stdout",
     "output_type": "stream",
     "text": [
      "Уникальных пользователей в группе A1: 2489\n",
      "Уникальных пользователей в группе A2: 2520\n",
      "Разница между контрольными группами: 1.25%\n",
      "\n",
      "Уникальных пользователей в группе B: 2542\n",
      "\n"
     ]
    }
   ],
   "source": [
    "users_a1 = a1[\"user_id\"].nunique()\n",
    "users_a2 = a2[\"user_id\"].nunique()\n",
    "users_b = b[\"user_id\"].nunique()\n",
    "\n",
    "print(f'''Уникальных пользователей в группе A1: {users_a1}\n",
    "Уникальных пользователей в группе A2: {users_a2}\n",
    "Разница между контрольными группами: {(users_a2 / users_a1)-1 :.2%}\n",
    "\n",
    "Уникальных пользователей в группе B: {users_b}\n",
    "''')"
   ]
  },
  {
   "cell_type": "code",
   "execution_count": 20,
   "id": "5d5caeec",
   "metadata": {},
   "outputs": [
    {
     "data": {
      "text/plain": [
       "count         243713\n",
       "unique            14\n",
       "top       2019-08-01\n",
       "freq           36141\n",
       "Name: date, dtype: object"
      ]
     },
     "execution_count": 20,
     "metadata": {},
     "output_type": "execute_result"
    }
   ],
   "source": [
    "df['date'].describe()"
   ]
  },
  {
   "cell_type": "code",
   "execution_count": 21,
   "id": "ab26bfe1",
   "metadata": {},
   "outputs": [
    {
     "data": {
      "text/plain": [
       "datetime.date(2019, 7, 25)"
      ]
     },
     "execution_count": 21,
     "metadata": {},
     "output_type": "execute_result"
    }
   ],
   "source": [
    "df['date'].min()"
   ]
  },
  {
   "cell_type": "code",
   "execution_count": 22,
   "id": "add93348",
   "metadata": {},
   "outputs": [
    {
     "data": {
      "text/plain": [
       "datetime.date(2019, 8, 7)"
      ]
     },
     "execution_count": 22,
     "metadata": {},
     "output_type": "execute_result"
    }
   ],
   "source": [
    "df['date'].max()"
   ]
  },
  {
   "cell_type": "code",
   "execution_count": 23,
   "id": "9b067ac1",
   "metadata": {},
   "outputs": [
    {
     "data": {
      "image/png": "[encoded data removed]",
      "text/plain": [
       "<Figure size 432x288 with 1 Axes>"
      ]
     },
     "metadata": {
      "needs_background": "light"
     },
     "output_type": "display_data"
    }
   ],
   "source": [
    "plt.title('Распределение событий по датам проведения эксперимента')\n",
    "plt.xlabel('Дата')\n",
    "plt.ylabel('Количество событий')\n",
    "\n",
    "df['date'].hist(bins=14, xrot=90, alpha=0.75);"
   ]
  },
  {
   "cell_type": "code",
   "execution_count": 24,
   "id": "4f20871a",
   "metadata": {},
   "outputs": [
    {
     "data": {
      "text/html": [
       "<div>\n",
       "<style scoped>\n",
       "    .dataframe tbody tr th:only-of-type {\n",
       "        vertical-align: middle;\n",
       "    }\n",
       "\n",
       "    .dataframe tbody tr th {\n",
       "        vertical-align: top;\n",
       "    }\n",
       "\n",
       "    .dataframe thead th {\n",
       "        text-align: right;\n",
       "    }\n",
       "</style>\n",
       "<table border=\"1\" class=\"dataframe\">\n",
       "  <thead>\n",
       "    <tr style=\"text-align: right;\">\n",
       "      <th></th>\n",
       "      <th>user_id</th>\n",
       "    </tr>\n",
       "    <tr>\n",
       "      <th>date</th>\n",
       "      <th></th>\n",
       "    </tr>\n",
       "  </thead>\n",
       "  <tbody>\n",
       "    <tr>\n",
       "      <th>2019-07-25</th>\n",
       "      <td>9</td>\n",
       "    </tr>\n",
       "    <tr>\n",
       "      <th>2019-07-26</th>\n",
       "      <td>31</td>\n",
       "    </tr>\n",
       "    <tr>\n",
       "      <th>2019-07-27</th>\n",
       "      <td>55</td>\n",
       "    </tr>\n",
       "    <tr>\n",
       "      <th>2019-07-28</th>\n",
       "      <td>105</td>\n",
       "    </tr>\n",
       "    <tr>\n",
       "      <th>2019-07-29</th>\n",
       "      <td>184</td>\n",
       "    </tr>\n",
       "    <tr>\n",
       "      <th>2019-07-30</th>\n",
       "      <td>412</td>\n",
       "    </tr>\n",
       "    <tr>\n",
       "      <th>2019-07-31</th>\n",
       "      <td>2030</td>\n",
       "    </tr>\n",
       "    <tr>\n",
       "      <th>2019-08-01</th>\n",
       "      <td>36141</td>\n",
       "    </tr>\n",
       "    <tr>\n",
       "      <th>2019-08-02</th>\n",
       "      <td>35554</td>\n",
       "    </tr>\n",
       "    <tr>\n",
       "      <th>2019-08-03</th>\n",
       "      <td>33282</td>\n",
       "    </tr>\n",
       "    <tr>\n",
       "      <th>2019-08-04</th>\n",
       "      <td>32968</td>\n",
       "    </tr>\n",
       "    <tr>\n",
       "      <th>2019-08-05</th>\n",
       "      <td>36058</td>\n",
       "    </tr>\n",
       "    <tr>\n",
       "      <th>2019-08-06</th>\n",
       "      <td>35788</td>\n",
       "    </tr>\n",
       "    <tr>\n",
       "      <th>2019-08-07</th>\n",
       "      <td>31096</td>\n",
       "    </tr>\n",
       "  </tbody>\n",
       "</table>\n",
       "</div>"
      ],
      "text/plain": [
       "            user_id\n",
       "date               \n",
       "2019-07-25        9\n",
       "2019-07-26       31\n",
       "2019-07-27       55\n",
       "2019-07-28      105\n",
       "2019-07-29      184\n",
       "2019-07-30      412\n",
       "2019-07-31     2030\n",
       "2019-08-01    36141\n",
       "2019-08-02    35554\n",
       "2019-08-03    33282\n",
       "2019-08-04    32968\n",
       "2019-08-05    36058\n",
       "2019-08-06    35788\n",
       "2019-08-07    31096"
      ]
     },
     "execution_count": 24,
     "metadata": {},
     "output_type": "execute_result"
    }
   ],
   "source": [
    "df.pivot_table(index='date', values='user_id', aggfunc='count')"
   ]
  },
  {
   "cell_type": "markdown",
   "id": "fa3c0610",
   "metadata": {},
   "source": [
    "Данные получены за период с 25 июля по 7 августа, одназо до 31 августа включительно информации недостаточно.  \n",
    "Эти данные необходимо исключить для корректности обработки."
   ]
  },
  {
   "cell_type": "code",
   "execution_count": 25,
   "id": "d8072558",
   "metadata": {},
   "outputs": [],
   "source": [
    "df = df.query('month == 8')"
   ]
  },
  {
   "cell_type": "code",
   "execution_count": 26,
   "id": "91bd27b1",
   "metadata": {},
   "outputs": [
    {
     "data": {
      "text/plain": [
       "count         240887\n",
       "unique             7\n",
       "top       2019-08-01\n",
       "freq           36141\n",
       "Name: date, dtype: object"
      ]
     },
     "execution_count": 26,
     "metadata": {},
     "output_type": "execute_result"
    }
   ],
   "source": [
    "df['date'].describe()"
   ]
  },
  {
   "cell_type": "code",
   "execution_count": 27,
   "id": "21c61ee1",
   "metadata": {},
   "outputs": [
    {
     "name": "stdout",
     "output_type": "stream",
     "text": [
      "Всего событий: 240887 \n",
      "(Отфильтровано 1.16%)\n",
      "\n",
      "Уникальных пользователей: 7534\n",
      "(Отфильтровано 0.23%)\n",
      "\n",
      "Событий на 1-го пользователя (в среднем): 32.0\n"
     ]
    }
   ],
   "source": [
    "events_total_filtered = len(df)\n",
    "users_total_filtered = df[\"user_id\"].nunique()\n",
    "event_per_user_filtered = len(df) / df[\"user_id\"].nunique()\n",
    "\n",
    "print(f'''Всего событий: {events_total_filtered} \n",
    "(Отфильтровано {(events_total - events_total_filtered) / events_total :.2%})\n",
    "\n",
    "Уникальных пользователей: {users_total_filtered}\n",
    "(Отфильтровано {(users_total - users_total_filtered) / users_total :.2%})\n",
    "\n",
    "Событий на 1-го пользователя (в среднем): {event_per_user_filtered:.3}''')"
   ]
  },
  {
   "cell_type": "code",
   "execution_count": 28,
   "id": "7b7d202c",
   "metadata": {},
   "outputs": [
    {
     "data": {
      "image/png": "[encoded data removed]",
      "text/plain": [
       "<Figure size 432x288 with 1 Axes>"
      ]
     },
     "metadata": {
      "needs_background": "light"
     },
     "output_type": "display_data"
    }
   ],
   "source": [
    "plt.title('Распределение событий по датам проведения эксперимента')\n",
    "plt.xlabel('Дата')\n",
    "plt.ylabel('Количество событий')\n",
    "\n",
    "df['date'].hist(xrot = 90, bins=7, alpha=0.75);"
   ]
  },
  {
   "cell_type": "code",
   "execution_count": 29,
   "id": "d682a8b6",
   "metadata": {},
   "outputs": [
    {
     "name": "stdout",
     "output_type": "stream",
     "text": [
      "Размер контрольной группы A1: 79302\n",
      "(Отфильтровано 1.10%)\n",
      "\n",
      "Размер контрольной группы A2: 77022\n",
      "(Отфильтровано 1.19%)\n",
      "\n",
      "Разница между контрольными группами: 2.96%\n",
      "\n",
      "Размер группы B: 84563\n",
      "(Отфильтровано 1.19%)\n"
     ]
    }
   ],
   "source": [
    "a1_filtered = df.query('group == \"A1\"')\n",
    "a2_filtered = df.query('group == \"A2\"')\n",
    "b_filtered = df.query('group == \"B\"')\n",
    "\n",
    "print(f'''Размер контрольной группы A1: {len(a1_filtered)}\n",
    "(Отфильтровано {(len(a1) - len(a1_filtered)) / len(a1) :.2%})\n",
    "\n",
    "Размер контрольной группы A2: {len(a2_filtered)}\n",
    "(Отфильтровано {(len(a2) - len(a2_filtered)) / len(a2) :.2%})\n",
    "\n",
    "Разница между контрольными группами: {(len(a1_filtered) / len(a2_filtered))-1 :.2%}\n",
    "\n",
    "Размер группы B: {len(b_filtered)}\n",
    "(Отфильтровано {(len(b) - len(b_filtered)) / len(b) :.2%})''')"
   ]
  },
  {
   "cell_type": "code",
   "execution_count": 30,
   "id": "6dbe8831",
   "metadata": {},
   "outputs": [
    {
     "name": "stdout",
     "output_type": "stream",
     "text": [
      "Уникальных пользователей в группе A1: 2484\n",
      "Уникальных пользователей в группе A2: 2513\n",
      "Разница между контрольными группами: 1.17%\n",
      "\n",
      "Уникальных пользователей в группе B: 2537\n",
      "\n"
     ]
    }
   ],
   "source": [
    "users_a1_filtered = a1_filtered[\"user_id\"].nunique()\n",
    "users_a2_filtered = a2_filtered[\"user_id\"].nunique()\n",
    "users_b_filtered = b_filtered[\"user_id\"].nunique()\n",
    "\n",
    "print(f'''Уникальных пользователей в группе A1: {users_a1_filtered}\n",
    "Уникальных пользователей в группе A2: {users_a2_filtered}\n",
    "Разница между контрольными группами: {(users_a2_filtered / users_a1_filtered)-1 :.2%}\n",
    "\n",
    "Уникальных пользователей в группе B: {users_b_filtered}\n",
    "''')"
   ]
  },
  {
   "cell_type": "markdown",
   "id": "b84bde4c",
   "metadata": {},
   "source": [
    "Контрольные группы отличаются более чем на 1%, что может свидетельствовать о недостаточно точном распределении пользователей между группами.  \n",
    "Это может повлиять на точность прогнозов при сравнении группы B с контрольными."
   ]
  },
  {
   "cell_type": "markdown",
   "id": "b366060a",
   "metadata": {},
   "source": [
    "## Создание воронки событий"
   ]
  },
  {
   "cell_type": "markdown",
   "id": "ba961d1e",
   "metadata": {},
   "source": [
    "### Распределение событий по частоте"
   ]
  },
  {
   "cell_type": "markdown",
   "id": "dcf33f4e",
   "metadata": {},
   "source": [
    "Следующим шагом является исследование типов событий, частота совершений их пользователями, а также составление \"Маршрута\" пользователя при совершении заказа."
   ]
  },
  {
   "cell_type": "code",
   "execution_count": 31,
   "id": "32820cb3",
   "metadata": {},
   "outputs": [],
   "source": [
    "pivot_event_type = df.pivot_table(index='event_type', \n",
    "                                  values='user_id', \n",
    "                                  aggfunc='count').sort_values(by='user_id', \n",
    "                                                               ascending=True)"
   ]
  },
  {
   "cell_type": "code",
   "execution_count": 32,
   "id": "acc59c99",
   "metadata": {
    "scrolled": true
   },
   "outputs": [
    {
     "data": {
      "image/png": "[encoded data removed]",
      "text/plain": [
       "<Figure size 720x360 with 1 Axes>"
      ]
     },
     "metadata": {
      "needs_background": "light"
     },
     "output_type": "display_data"
    }
   ],
   "source": [
    "x = pivot_event_type.index\n",
    "y = pivot_event_type['user_id']\n",
    "\n",
    "plt.figure(figsize=(10,5))\n",
    "\n",
    "plt.title('Распределение событий по их типам')\n",
    "plt.xlabel('Количество событий')\n",
    "plt.ylabel('Тип события')\n",
    "\n",
    "colors = plt.cm.YlGn(np.linspace(0, 1, len(x)))\n",
    "\n",
    "plt.barh(x, y, color=colors, edgecolor = \"black\", alpha=0.7)\n",
    "plt.show()"
   ]
  },
  {
   "cell_type": "markdown",
   "id": "74876023",
   "metadata": {},
   "source": [
    "Наиболее частым является событие `MainScreenAppear` (`Главная страница`)    \n",
    "\n",
    "Далее следует `OffersScreenAppear` (`Страница товара`)    \n",
    "\n",
    "Затем `CartScreenAppear` (`Корзина`)    \n",
    "\n",
    "И наконец `PaymentScreenSuccessful` (`Подтверждение оплаты заказа`)   \n",
    "\n",
    "Также имеется событие `Tutorial` (`Обучение`), однако оно не участвует в маршруте пользователя при оформлении заказа."
   ]
  },
  {
   "cell_type": "markdown",
   "id": "0a327fd5",
   "metadata": {},
   "source": [
    "По имеющемуся гграфику можно приблизительно оценить частоту перехода пользователей с предыдущего шага на каждый последующий, однако стоит рассмотреть эти процессы подробнее:"
   ]
  },
  {
   "cell_type": "markdown",
   "id": "3aaf9fe0",
   "metadata": {},
   "source": [
    "### Изучение конверсии"
   ]
  },
  {
   "cell_type": "code",
   "execution_count": 33,
   "id": "370e6fd1",
   "metadata": {},
   "outputs": [],
   "source": [
    "pivot_event_type_users = df.pivot_table(index='event_type', \n",
    "                                  values='user_id', \n",
    "                                  aggfunc='nunique').sort_values(by='user_id', \n",
    "                                                               ascending=True)\n",
    "pivot_event_type_users.columns = ['step_users']"
   ]
  },
  {
   "cell_type": "code",
   "execution_count": 34,
   "id": "8c877f76",
   "metadata": {},
   "outputs": [
    {
     "data": {
      "image/png": "[encoded data removed]",
      "text/plain": [
       "<Figure size 720x360 with 1 Axes>"
      ]
     },
     "metadata": {
      "needs_background": "light"
     },
     "output_type": "display_data"
    }
   ],
   "source": [
    "x = pivot_event_type_users.index\n",
    "y = pivot_event_type_users['step_users']\n",
    "\n",
    "plt.figure(figsize=(10,5))\n",
    "\n",
    "plt.title('Распределение пользователям по совершенным действиям')\n",
    "plt.xlabel('Количество пользователей')\n",
    "plt.ylabel('Тип события')\n",
    "\n",
    "colors = plt.cm.YlGn(np.linspace(0, 1, len(x)))\n",
    "\n",
    "plt.barh(x, y, color=colors, edgecolor = \"black\", alpha=0.7)\n",
    "plt.show()"
   ]
  },
  {
   "cell_type": "markdown",
   "id": "2ee997b5",
   "metadata": {},
   "source": [
    "Заметно, что наименьшая конверсия наблюдается между первым и вторым шагом, то есть при выборе товара на главной странице."
   ]
  },
  {
   "cell_type": "code",
   "execution_count": 35,
   "id": "8c0a3320",
   "metadata": {},
   "outputs": [],
   "source": [
    "pivot_event_type_users = pivot_event_type_users.drop('Tutorial').sort_values(by='step_users', ascending=False)"
   ]
  },
  {
   "cell_type": "code",
   "execution_count": 36,
   "id": "95e8ce4a",
   "metadata": {},
   "outputs": [],
   "source": [
    "pivot_event_type_users.insert(0, 'step_number', range(len(pivot_event_type_users.index)))"
   ]
  },
  {
   "cell_type": "code",
   "execution_count": 37,
   "id": "17f370dd",
   "metadata": {},
   "outputs": [],
   "source": [
    "pivot_event_type_users['prev_step_users'] = pivot_event_type_users['step_users'].shift(1)\n",
    "pivot_event_type_users['prev_step_users'][0] = pivot_event_type_users['step_users'][0]\n",
    "pivot_event_type_users['prev_step_users'] = pivot_event_type_users['prev_step_users'].astype(int)"
   ]
  },
  {
   "cell_type": "code",
   "execution_count": 38,
   "id": "90937a2d",
   "metadata": {},
   "outputs": [],
   "source": [
    "pivot_event_type_users['step_users_percent'] = round(pivot_event_type_users['step_users'] \\\n",
    "                                                / pivot_event_type_users['prev_step_users'] *100 , 2)"
   ]
  },
  {
   "cell_type": "code",
   "execution_count": 39,
   "id": "c45d7a92",
   "metadata": {},
   "outputs": [],
   "source": [
    "pivot_event_type_users['total_users_percent'] = round(pivot_event_type_users['step_users'] \\\n",
    "                                                / pivot_event_type_users['step_users'][0] *100 , 2)"
   ]
  },
  {
   "cell_type": "code",
   "execution_count": 40,
   "id": "6bd655aa",
   "metadata": {},
   "outputs": [
    {
     "data": {
      "text/html": [
       "<div>\n",
       "<style scoped>\n",
       "    .dataframe tbody tr th:only-of-type {\n",
       "        vertical-align: middle;\n",
       "    }\n",
       "\n",
       "    .dataframe tbody tr th {\n",
       "        vertical-align: top;\n",
       "    }\n",
       "\n",
       "    .dataframe thead th {\n",
       "        text-align: right;\n",
       "    }\n",
       "</style>\n",
       "<table border=\"1\" class=\"dataframe\">\n",
       "  <thead>\n",
       "    <tr style=\"text-align: right;\">\n",
       "      <th></th>\n",
       "      <th>step_number</th>\n",
       "      <th>step_users</th>\n",
       "      <th>prev_step_users</th>\n",
       "      <th>step_users_percent</th>\n",
       "      <th>total_users_percent</th>\n",
       "    </tr>\n",
       "    <tr>\n",
       "      <th>event_type</th>\n",
       "      <th></th>\n",
       "      <th></th>\n",
       "      <th></th>\n",
       "      <th></th>\n",
       "      <th></th>\n",
       "    </tr>\n",
       "  </thead>\n",
       "  <tbody>\n",
       "    <tr>\n",
       "      <th>MainScreenAppear</th>\n",
       "      <td>0</td>\n",
       "      <td>7419</td>\n",
       "      <td>7419</td>\n",
       "      <td>100.00</td>\n",
       "      <td>100.00</td>\n",
       "    </tr>\n",
       "    <tr>\n",
       "      <th>OffersScreenAppear</th>\n",
       "      <td>1</td>\n",
       "      <td>4593</td>\n",
       "      <td>7419</td>\n",
       "      <td>61.91</td>\n",
       "      <td>61.91</td>\n",
       "    </tr>\n",
       "    <tr>\n",
       "      <th>CartScreenAppear</th>\n",
       "      <td>2</td>\n",
       "      <td>3734</td>\n",
       "      <td>4593</td>\n",
       "      <td>81.30</td>\n",
       "      <td>50.33</td>\n",
       "    </tr>\n",
       "    <tr>\n",
       "      <th>PaymentScreenSuccessful</th>\n",
       "      <td>3</td>\n",
       "      <td>3539</td>\n",
       "      <td>3734</td>\n",
       "      <td>94.78</td>\n",
       "      <td>47.70</td>\n",
       "    </tr>\n",
       "  </tbody>\n",
       "</table>\n",
       "</div>"
      ],
      "text/plain": [
       "                         step_number  step_users  prev_step_users  \\\n",
       "event_type                                                          \n",
       "MainScreenAppear                   0        7419             7419   \n",
       "OffersScreenAppear                 1        4593             7419   \n",
       "CartScreenAppear                   2        3734             4593   \n",
       "PaymentScreenSuccessful            3        3539             3734   \n",
       "\n",
       "                         step_users_percent  total_users_percent  \n",
       "event_type                                                        \n",
       "MainScreenAppear                     100.00               100.00  \n",
       "OffersScreenAppear                    61.91                61.91  \n",
       "CartScreenAppear                      81.30                50.33  \n",
       "PaymentScreenSuccessful               94.78                47.70  "
      ]
     },
     "execution_count": 40,
     "metadata": {},
     "output_type": "execute_result"
    }
   ],
   "source": [
    "pivot_event_type_users"
   ]
  },
  {
   "cell_type": "markdown",
   "id": "43add759",
   "metadata": {},
   "source": [
    "В таблице представлено количество уникальных пользователей, совершивших каждое из действий, а также конверсия каждого \"шага\" и общая конверсия."
   ]
  },
  {
   "cell_type": "code",
   "execution_count": 41,
   "id": "7cd02231",
   "metadata": {},
   "outputs": [
    {
     "data": {
      "image/png": "[encoded data removed]",
      "text/plain": [
       "<Figure size 720x360 with 1 Axes>"
      ]
     },
     "metadata": {
      "needs_background": "light"
     },
     "output_type": "display_data"
    }
   ],
   "source": [
    "pivot_event_type_users = pivot_event_type_users.sort_values(by='step_users', ascending=True)\n",
    "\n",
    "x = pivot_event_type_users.index\n",
    "y = pivot_event_type_users['step_users_percent']\n",
    "\n",
    "plt.figure(figsize=(10,5))\n",
    "\n",
    "plt.title('Конверсия пользователей относительно предыдущего шага')\n",
    "plt.xlabel('Процент пользователей (относительно предыдущего шага)')\n",
    "plt.ylabel('Тип события')\n",
    "\n",
    "colors = plt.cm.YlGn(np.linspace(0, 1, len(x)))\n",
    "\n",
    "plt.barh(x, y, color=colors, edgecolor = \"black\", alpha=0.7)\n",
    "plt.show()"
   ]
  },
  {
   "cell_type": "code",
   "execution_count": 42,
   "id": "77353ea1",
   "metadata": {},
   "outputs": [
    {
     "data": {
      "image/png": "[encoded data removed]",
      "text/plain": [
       "<Figure size 720x360 with 1 Axes>"
      ]
     },
     "metadata": {
      "needs_background": "light"
     },
     "output_type": "display_data"
    }
   ],
   "source": [
    "pivot_event_type_users = pivot_event_type_users.sort_values(by='step_users', ascending=True)\n",
    "\n",
    "x = pivot_event_type_users.index\n",
    "y = pivot_event_type_users['total_users_percent']\n",
    "\n",
    "plt.figure(figsize=(10,5))\n",
    "\n",
    "plt.title('Конверсия пользователей относительно первого шага')\n",
    "plt.xlabel('Процент пользователей (относительно первого шага)')\n",
    "plt.ylabel('Тип события')\n",
    "\n",
    "colors = plt.cm.YlGn(np.linspace(0, 1, len(x)))\n",
    "\n",
    "plt.barh(x, y, color=colors, edgecolor = \"black\", alpha=0.7)\n",
    "plt.show()"
   ]
  },
  {
   "cell_type": "markdown",
   "id": "112e456b",
   "metadata": {},
   "source": [
    "### Вывод"
   ]
  },
  {
   "cell_type": "markdown",
   "id": "3b436fa6",
   "metadata": {},
   "source": [
    "Маршрут пользователя при оформлении заказа состоит из 4 шагов:  \n",
    "`Главная страница` - `Страница товара` - `Корзина` - `Подтверждение оплаты заказа`.   \n",
    "  \n",
    "Общая конверсия пользователей при посещении сайта составляет около 50%.  \n",
    "Худший показатель имеет этап перехода с главной страницы к странице товара (около 60%).  \n",
    "Далее более 80% пользоватей, выбравших товар завершают оформление и оплату заказа."
   ]
  },
  {
   "cell_type": "markdown",
   "id": "439899e2",
   "metadata": {},
   "source": [
    "## Изучение результатов эксперимента"
   ]
  },
  {
   "cell_type": "markdown",
   "id": "2bb99b6c",
   "metadata": {},
   "source": [
    "### Сравнение показателей конверсии между группами"
   ]
  },
  {
   "cell_type": "code",
   "execution_count": 43,
   "id": "d1919cf5",
   "metadata": {},
   "outputs": [],
   "source": [
    "def whirpool (data, group):\n",
    "\n",
    "    pivot_event_type_users_query = data.query('group == @group').pivot_table(index='event_type', \n",
    "                                  values='user_id', \n",
    "                                  aggfunc='nunique').sort_values(by='user_id', \n",
    "                                                               ascending=True)\n",
    "    pivot_event_type_users_query.columns = ['step_users']\n",
    "\n",
    "    pivot_event_type_users_query = pivot_event_type_users_query.drop('Tutorial')\n",
    "\n",
    "    pivot_event_type_users_query = pivot_event_type_users_query.sort_values(by='step_users', ascending=False)\n",
    "\n",
    "    pivot_event_type_users_query.insert(0, 'step_number', range(len(pivot_event_type_users_query.index)))\n",
    "\n",
    "    pivot_event_type_users_query['prev_step_users'] = pivot_event_type_users_query['step_users'].shift(1)\n",
    "    pivot_event_type_users_query['prev_step_users'][0] = pivot_event_type_users_query['step_users'][0]\n",
    "    pivot_event_type_users_query['prev_step_users'] = pivot_event_type_users_query['prev_step_users'].astype(int)\n",
    "\n",
    "    pivot_event_type_users_query['step_users_percent'] = round(pivot_event_type_users_query['step_users'] \\\n",
    "                                                / pivot_event_type_users_query['prev_step_users'] *100 , 2)\n",
    "\n",
    "    pivot_event_type_users_query['total_users_percent'] = round(pivot_event_type_users_query['step_users'] \\\n",
    "                                                / pivot_event_type_users_query['step_users'][0] *100 , 2)\n",
    "\n",
    "    return pivot_event_type_users_query"
   ]
  },
  {
   "cell_type": "markdown",
   "id": "a5fa2e6c",
   "metadata": {},
   "source": [
    "С помошью вышеописанной функции создаем сводные таблицы с данными о пользователях и конверсии каждого шага, а также общей конверсии."
   ]
  },
  {
   "cell_type": "code",
   "execution_count": 44,
   "id": "b32e0cde",
   "metadata": {},
   "outputs": [
    {
     "data": {
      "text/html": [
       "<div>\n",
       "<style scoped>\n",
       "    .dataframe tbody tr th:only-of-type {\n",
       "        vertical-align: middle;\n",
       "    }\n",
       "\n",
       "    .dataframe tbody tr th {\n",
       "        vertical-align: top;\n",
       "    }\n",
       "\n",
       "    .dataframe thead th {\n",
       "        text-align: right;\n",
       "    }\n",
       "</style>\n",
       "<table border=\"1\" class=\"dataframe\">\n",
       "  <thead>\n",
       "    <tr style=\"text-align: right;\">\n",
       "      <th></th>\n",
       "      <th>step_number</th>\n",
       "      <th>step_users</th>\n",
       "      <th>prev_step_users</th>\n",
       "      <th>step_users_percent</th>\n",
       "      <th>total_users_percent</th>\n",
       "    </tr>\n",
       "    <tr>\n",
       "      <th>event_type</th>\n",
       "      <th></th>\n",
       "      <th></th>\n",
       "      <th></th>\n",
       "      <th></th>\n",
       "      <th></th>\n",
       "    </tr>\n",
       "  </thead>\n",
       "  <tbody>\n",
       "    <tr>\n",
       "      <th>MainScreenAppear</th>\n",
       "      <td>0</td>\n",
       "      <td>2450</td>\n",
       "      <td>2450</td>\n",
       "      <td>100.00</td>\n",
       "      <td>100.00</td>\n",
       "    </tr>\n",
       "    <tr>\n",
       "      <th>OffersScreenAppear</th>\n",
       "      <td>1</td>\n",
       "      <td>1542</td>\n",
       "      <td>2450</td>\n",
       "      <td>62.94</td>\n",
       "      <td>62.94</td>\n",
       "    </tr>\n",
       "    <tr>\n",
       "      <th>CartScreenAppear</th>\n",
       "      <td>2</td>\n",
       "      <td>1266</td>\n",
       "      <td>1542</td>\n",
       "      <td>82.10</td>\n",
       "      <td>51.67</td>\n",
       "    </tr>\n",
       "    <tr>\n",
       "      <th>PaymentScreenSuccessful</th>\n",
       "      <td>3</td>\n",
       "      <td>1200</td>\n",
       "      <td>1266</td>\n",
       "      <td>94.79</td>\n",
       "      <td>48.98</td>\n",
       "    </tr>\n",
       "  </tbody>\n",
       "</table>\n",
       "</div>"
      ],
      "text/plain": [
       "                         step_number  step_users  prev_step_users  \\\n",
       "event_type                                                          \n",
       "MainScreenAppear                   0        2450             2450   \n",
       "OffersScreenAppear                 1        1542             2450   \n",
       "CartScreenAppear                   2        1266             1542   \n",
       "PaymentScreenSuccessful            3        1200             1266   \n",
       "\n",
       "                         step_users_percent  total_users_percent  \n",
       "event_type                                                        \n",
       "MainScreenAppear                     100.00               100.00  \n",
       "OffersScreenAppear                    62.94                62.94  \n",
       "CartScreenAppear                      82.10                51.67  \n",
       "PaymentScreenSuccessful               94.79                48.98  "
      ]
     },
     "execution_count": 44,
     "metadata": {},
     "output_type": "execute_result"
    }
   ],
   "source": [
    "pivot_A1 = whirpool (df, 'A1')\n",
    "\n",
    "pivot_A1"
   ]
  },
  {
   "cell_type": "code",
   "execution_count": 45,
   "id": "0ec68e52",
   "metadata": {},
   "outputs": [
    {
     "data": {
      "text/html": [
       "<div>\n",
       "<style scoped>\n",
       "    .dataframe tbody tr th:only-of-type {\n",
       "        vertical-align: middle;\n",
       "    }\n",
       "\n",
       "    .dataframe tbody tr th {\n",
       "        vertical-align: top;\n",
       "    }\n",
       "\n",
       "    .dataframe thead th {\n",
       "        text-align: right;\n",
       "    }\n",
       "</style>\n",
       "<table border=\"1\" class=\"dataframe\">\n",
       "  <thead>\n",
       "    <tr style=\"text-align: right;\">\n",
       "      <th></th>\n",
       "      <th>step_number</th>\n",
       "      <th>step_users</th>\n",
       "      <th>prev_step_users</th>\n",
       "      <th>step_users_percent</th>\n",
       "      <th>total_users_percent</th>\n",
       "    </tr>\n",
       "    <tr>\n",
       "      <th>event_type</th>\n",
       "      <th></th>\n",
       "      <th></th>\n",
       "      <th></th>\n",
       "      <th></th>\n",
       "      <th></th>\n",
       "    </tr>\n",
       "  </thead>\n",
       "  <tbody>\n",
       "    <tr>\n",
       "      <th>MainScreenAppear</th>\n",
       "      <td>0</td>\n",
       "      <td>2476</td>\n",
       "      <td>2476</td>\n",
       "      <td>100.00</td>\n",
       "      <td>100.00</td>\n",
       "    </tr>\n",
       "    <tr>\n",
       "      <th>OffersScreenAppear</th>\n",
       "      <td>1</td>\n",
       "      <td>1520</td>\n",
       "      <td>2476</td>\n",
       "      <td>61.39</td>\n",
       "      <td>61.39</td>\n",
       "    </tr>\n",
       "    <tr>\n",
       "      <th>CartScreenAppear</th>\n",
       "      <td>2</td>\n",
       "      <td>1238</td>\n",
       "      <td>1520</td>\n",
       "      <td>81.45</td>\n",
       "      <td>50.00</td>\n",
       "    </tr>\n",
       "    <tr>\n",
       "      <th>PaymentScreenSuccessful</th>\n",
       "      <td>3</td>\n",
       "      <td>1158</td>\n",
       "      <td>1238</td>\n",
       "      <td>93.54</td>\n",
       "      <td>46.77</td>\n",
       "    </tr>\n",
       "  </tbody>\n",
       "</table>\n",
       "</div>"
      ],
      "text/plain": [
       "                         step_number  step_users  prev_step_users  \\\n",
       "event_type                                                          \n",
       "MainScreenAppear                   0        2476             2476   \n",
       "OffersScreenAppear                 1        1520             2476   \n",
       "CartScreenAppear                   2        1238             1520   \n",
       "PaymentScreenSuccessful            3        1158             1238   \n",
       "\n",
       "                         step_users_percent  total_users_percent  \n",
       "event_type                                                        \n",
       "MainScreenAppear                     100.00               100.00  \n",
       "OffersScreenAppear                    61.39                61.39  \n",
       "CartScreenAppear                      81.45                50.00  \n",
       "PaymentScreenSuccessful               93.54                46.77  "
      ]
     },
     "execution_count": 45,
     "metadata": {},
     "output_type": "execute_result"
    }
   ],
   "source": [
    "pivot_A2 = whirpool (df, 'A2')\n",
    "\n",
    "pivot_A2"
   ]
  },
  {
   "cell_type": "code",
   "execution_count": 46,
   "id": "6f6f983f",
   "metadata": {},
   "outputs": [
    {
     "data": {
      "text/html": [
       "<div>\n",
       "<style scoped>\n",
       "    .dataframe tbody tr th:only-of-type {\n",
       "        vertical-align: middle;\n",
       "    }\n",
       "\n",
       "    .dataframe tbody tr th {\n",
       "        vertical-align: top;\n",
       "    }\n",
       "\n",
       "    .dataframe thead th {\n",
       "        text-align: right;\n",
       "    }\n",
       "</style>\n",
       "<table border=\"1\" class=\"dataframe\">\n",
       "  <thead>\n",
       "    <tr style=\"text-align: right;\">\n",
       "      <th></th>\n",
       "      <th>step_number</th>\n",
       "      <th>step_users</th>\n",
       "      <th>prev_step_users</th>\n",
       "      <th>step_users_percent</th>\n",
       "      <th>total_users_percent</th>\n",
       "    </tr>\n",
       "    <tr>\n",
       "      <th>event_type</th>\n",
       "      <th></th>\n",
       "      <th></th>\n",
       "      <th></th>\n",
       "      <th></th>\n",
       "      <th></th>\n",
       "    </tr>\n",
       "  </thead>\n",
       "  <tbody>\n",
       "    <tr>\n",
       "      <th>MainScreenAppear</th>\n",
       "      <td>0</td>\n",
       "      <td>2493</td>\n",
       "      <td>2493</td>\n",
       "      <td>100.00</td>\n",
       "      <td>100.00</td>\n",
       "    </tr>\n",
       "    <tr>\n",
       "      <th>OffersScreenAppear</th>\n",
       "      <td>1</td>\n",
       "      <td>1531</td>\n",
       "      <td>2493</td>\n",
       "      <td>61.41</td>\n",
       "      <td>61.41</td>\n",
       "    </tr>\n",
       "    <tr>\n",
       "      <th>CartScreenAppear</th>\n",
       "      <td>2</td>\n",
       "      <td>1230</td>\n",
       "      <td>1531</td>\n",
       "      <td>80.34</td>\n",
       "      <td>49.34</td>\n",
       "    </tr>\n",
       "    <tr>\n",
       "      <th>PaymentScreenSuccessful</th>\n",
       "      <td>3</td>\n",
       "      <td>1181</td>\n",
       "      <td>1230</td>\n",
       "      <td>96.02</td>\n",
       "      <td>47.37</td>\n",
       "    </tr>\n",
       "  </tbody>\n",
       "</table>\n",
       "</div>"
      ],
      "text/plain": [
       "                         step_number  step_users  prev_step_users  \\\n",
       "event_type                                                          \n",
       "MainScreenAppear                   0        2493             2493   \n",
       "OffersScreenAppear                 1        1531             2493   \n",
       "CartScreenAppear                   2        1230             1531   \n",
       "PaymentScreenSuccessful            3        1181             1230   \n",
       "\n",
       "                         step_users_percent  total_users_percent  \n",
       "event_type                                                        \n",
       "MainScreenAppear                     100.00               100.00  \n",
       "OffersScreenAppear                    61.41                61.41  \n",
       "CartScreenAppear                      80.34                49.34  \n",
       "PaymentScreenSuccessful               96.02                47.37  "
      ]
     },
     "execution_count": 46,
     "metadata": {},
     "output_type": "execute_result"
    }
   ],
   "source": [
    "pivot_B = whirpool (df, 'B')\n",
    "\n",
    "pivot_B"
   ]
  },
  {
   "cell_type": "markdown",
   "id": "5dc38cb8",
   "metadata": {},
   "source": [
    "Далее совмещаем полученные данные графически."
   ]
  },
  {
   "cell_type": "code",
   "execution_count": 47,
   "id": "ece6ef6b",
   "metadata": {},
   "outputs": [
    {
     "data": {
      "image/png": "[encoded data removed]",
      "text/plain": [
       "<Figure size 720x360 with 1 Axes>"
      ]
     },
     "metadata": {
      "needs_background": "light"
     },
     "output_type": "display_data"
    }
   ],
   "source": [
    "plt.figure(figsize=(10,5))\n",
    "\n",
    "plt.ylabel('Процент пользователей (относительно первого шага)')\n",
    "plt.xlabel('Тип события')\n",
    "\n",
    "x = pivot_A1.index\n",
    "y = pivot_A1['total_users_percent']\n",
    "colors = 'b'\n",
    "\n",
    "plt.plot(x, y, color=colors, alpha=0.7, label = 'A1')\n",
    "\n",
    "x = pivot_A2.index\n",
    "y = pivot_A2['total_users_percent']\n",
    "colors = 'g'\n",
    "plt.plot(x, y, color=colors, alpha=0.7, label = 'A2')\n",
    "\n",
    "x = pivot_B.index\n",
    "y = pivot_B['total_users_percent']\n",
    "colors = 'r'\n",
    "plt.plot(x, y, color=colors, alpha=0.7, label = 'B')\n",
    "\n",
    "plt.legend()\n",
    "\n",
    "plt.show()"
   ]
  },
  {
   "cell_type": "markdown",
   "id": "b1898779",
   "metadata": {},
   "source": [
    "Как видно из графика, различия между группами есть, но они минимальны.\n",
    "\n",
    "Необходимо оценить, являются ли эти различия статистически значимыми."
   ]
  },
  {
   "cell_type": "markdown",
   "id": "71d821c1",
   "metadata": {},
   "source": [
    "### Оценка статистической значимости"
   ]
  },
  {
   "cell_type": "markdown",
   "id": "2646ccd2",
   "metadata": {},
   "source": [
    "Для оценки различий между выборками необходимо посчитать количество пользователей в каждой группе на протяжении эксперимента  \n",
    "  \n",
    "Далее следует выяснить, какая доля пользователей каждой группы соверщила значимое действие (в данном случае - перешла на страницу товара)  \n",
    "  \n",
    "Затем проверить, удовлетворяют ли полученные данные гипотезам:  \n",
    "**H0** - Контрольные группы A1 и A2 одинаковы  \n",
    "**H1** - Контрольные группы отличаются (имеются ошибки в распределении трафика)\n",
    "\n",
    "**H0** - Конверсия пользователей группы B не отличается от контрольных групп  \n",
    "**H1** - Конверсия группы B отличается"
   ]
  },
  {
   "cell_type": "code",
   "execution_count": 48,
   "id": "0f4e8f8c",
   "metadata": {},
   "outputs": [],
   "source": [
    "tmp = df.query('group == \"A1\"')\n",
    "tmp = tmp.query('event_type == \"MainScreenAppear\"')\n",
    "\n",
    "visitors_A1 = tmp.pivot_table(index='date', values='user_id', aggfunc='nunique')\n",
    "visitors_A1.columns = ['visitors_A1']\n",
    "\n",
    "visitors_A1['visitors_A1_cumm'] = visitors_A1['visitors_A1'].cumsum()"
   ]
  },
  {
   "cell_type": "code",
   "execution_count": 49,
   "id": "811d952b",
   "metadata": {},
   "outputs": [],
   "source": [
    "tmp = df.query('group == \"A2\"')\n",
    "tmp = tmp.query('event_type == \"MainScreenAppear\"')\n",
    "\n",
    "visitors_A2 = tmp.pivot_table(index='date', values='user_id', aggfunc='nunique')\n",
    "visitors_A2.columns = ['visitors_A2']\n",
    "\n",
    "visitors_A2['visitors_A2_cumm'] = visitors_A2['visitors_A2'].cumsum()"
   ]
  },
  {
   "cell_type": "code",
   "execution_count": 50,
   "id": "51fbfa15",
   "metadata": {},
   "outputs": [],
   "source": [
    "tmp = df[np.logical_or(df['group'] == 'A1', df['group'] == 'A2')]\n",
    "tmp = tmp.query('event_type == \"MainScreenAppear\"')\n",
    "\n",
    "visitors_A1_A2 = tmp.pivot_table(index='date', values='user_id', aggfunc='nunique')\n",
    "visitors_A1_A2.columns = ['visitors_A1_A2']\n",
    "\n",
    "visitors_A1_A2['visitors_A1_A2_cumm'] = visitors_A1_A2['visitors_A1_A2'].cumsum()"
   ]
  },
  {
   "cell_type": "code",
   "execution_count": 51,
   "id": "7e93641f",
   "metadata": {},
   "outputs": [],
   "source": [
    "tmp = df.query('group == \"B\"')\n",
    "tmp = tmp.query('event_type == \"MainScreenAppear\"')\n",
    "\n",
    "visitors_B = tmp.pivot_table(index='date', values='user_id', aggfunc='nunique')\n",
    "visitors_B.columns = ['visitors_B']\n",
    "\n",
    "visitors_B['visitors_B_cumm'] = visitors_B['visitors_B'].cumsum()"
   ]
  },
  {
   "cell_type": "code",
   "execution_count": 52,
   "id": "3e4cc7ce",
   "metadata": {},
   "outputs": [],
   "source": [
    "data = (\n",
    "    visitors_A1\\\n",
    "    .merge(visitors_A2, left_on='date', right_on='date', how='left')\n",
    "    .merge(visitors_A1_A2, left_on='date', right_on='date', how='left')\n",
    "    .merge(visitors_B, left_on='date', right_on='date', how='left')\n",
    ")"
   ]
  },
  {
   "cell_type": "code",
   "execution_count": 53,
   "id": "990cacb7",
   "metadata": {},
   "outputs": [
    {
     "data": {
      "text/html": [
       "<div>\n",
       "<style scoped>\n",
       "    .dataframe tbody tr th:only-of-type {\n",
       "        vertical-align: middle;\n",
       "    }\n",
       "\n",
       "    .dataframe tbody tr th {\n",
       "        vertical-align: top;\n",
       "    }\n",
       "\n",
       "    .dataframe thead th {\n",
       "        text-align: right;\n",
       "    }\n",
       "</style>\n",
       "<table border=\"1\" class=\"dataframe\">\n",
       "  <thead>\n",
       "    <tr style=\"text-align: right;\">\n",
       "      <th></th>\n",
       "      <th>visitors_A1</th>\n",
       "      <th>visitors_A1_cumm</th>\n",
       "      <th>visitors_A2</th>\n",
       "      <th>visitors_A2_cumm</th>\n",
       "      <th>visitors_A1_A2</th>\n",
       "      <th>visitors_A1_A2_cumm</th>\n",
       "      <th>visitors_B</th>\n",
       "      <th>visitors_B_cumm</th>\n",
       "    </tr>\n",
       "    <tr>\n",
       "      <th>date</th>\n",
       "      <th></th>\n",
       "      <th></th>\n",
       "      <th></th>\n",
       "      <th></th>\n",
       "      <th></th>\n",
       "      <th></th>\n",
       "      <th></th>\n",
       "      <th></th>\n",
       "    </tr>\n",
       "  </thead>\n",
       "  <tbody>\n",
       "    <tr>\n",
       "      <th>2019-08-01</th>\n",
       "      <td>1140</td>\n",
       "      <td>1140</td>\n",
       "      <td>1216</td>\n",
       "      <td>1216</td>\n",
       "      <td>2356</td>\n",
       "      <td>2356</td>\n",
       "      <td>1189</td>\n",
       "      <td>1189</td>\n",
       "    </tr>\n",
       "    <tr>\n",
       "      <th>2019-08-02</th>\n",
       "      <td>1144</td>\n",
       "      <td>2284</td>\n",
       "      <td>1167</td>\n",
       "      <td>2383</td>\n",
       "      <td>2311</td>\n",
       "      <td>4667</td>\n",
       "      <td>1174</td>\n",
       "      <td>2363</td>\n",
       "    </tr>\n",
       "    <tr>\n",
       "      <th>2019-08-03</th>\n",
       "      <td>1079</td>\n",
       "      <td>3363</td>\n",
       "      <td>1117</td>\n",
       "      <td>3500</td>\n",
       "      <td>2196</td>\n",
       "      <td>6863</td>\n",
       "      <td>1105</td>\n",
       "      <td>3468</td>\n",
       "    </tr>\n",
       "    <tr>\n",
       "      <th>2019-08-04</th>\n",
       "      <td>1113</td>\n",
       "      <td>4476</td>\n",
       "      <td>1105</td>\n",
       "      <td>4605</td>\n",
       "      <td>2218</td>\n",
       "      <td>9081</td>\n",
       "      <td>1136</td>\n",
       "      <td>4604</td>\n",
       "    </tr>\n",
       "    <tr>\n",
       "      <th>2019-08-05</th>\n",
       "      <td>1209</td>\n",
       "      <td>5685</td>\n",
       "      <td>1185</td>\n",
       "      <td>5790</td>\n",
       "      <td>2394</td>\n",
       "      <td>11475</td>\n",
       "      <td>1214</td>\n",
       "      <td>5818</td>\n",
       "    </tr>\n",
       "    <tr>\n",
       "      <th>2019-08-06</th>\n",
       "      <td>1215</td>\n",
       "      <td>6900</td>\n",
       "      <td>1271</td>\n",
       "      <td>7061</td>\n",
       "      <td>2486</td>\n",
       "      <td>13961</td>\n",
       "      <td>1280</td>\n",
       "      <td>7098</td>\n",
       "    </tr>\n",
       "    <tr>\n",
       "      <th>2019-08-07</th>\n",
       "      <td>1143</td>\n",
       "      <td>8043</td>\n",
       "      <td>1158</td>\n",
       "      <td>8219</td>\n",
       "      <td>2301</td>\n",
       "      <td>16262</td>\n",
       "      <td>1181</td>\n",
       "      <td>8279</td>\n",
       "    </tr>\n",
       "  </tbody>\n",
       "</table>\n",
       "</div>"
      ],
      "text/plain": [
       "            visitors_A1  visitors_A1_cumm  visitors_A2  visitors_A2_cumm  \\\n",
       "date                                                                       \n",
       "2019-08-01         1140              1140         1216              1216   \n",
       "2019-08-02         1144              2284         1167              2383   \n",
       "2019-08-03         1079              3363         1117              3500   \n",
       "2019-08-04         1113              4476         1105              4605   \n",
       "2019-08-05         1209              5685         1185              5790   \n",
       "2019-08-06         1215              6900         1271              7061   \n",
       "2019-08-07         1143              8043         1158              8219   \n",
       "\n",
       "            visitors_A1_A2  visitors_A1_A2_cumm  visitors_B  visitors_B_cumm  \n",
       "date                                                                          \n",
       "2019-08-01            2356                 2356        1189             1189  \n",
       "2019-08-02            2311                 4667        1174             2363  \n",
       "2019-08-03            2196                 6863        1105             3468  \n",
       "2019-08-04            2218                 9081        1136             4604  \n",
       "2019-08-05            2394                11475        1214             5818  \n",
       "2019-08-06            2486                13961        1280             7098  \n",
       "2019-08-07            2301                16262        1181             8279  "
      ]
     },
     "execution_count": 53,
     "metadata": {},
     "output_type": "execute_result"
    }
   ],
   "source": [
    "data"
   ]
  },
  {
   "cell_type": "markdown",
   "id": "aad4df47",
   "metadata": {},
   "source": [
    "В таблице содержатся данные о количестве уникальных пользователей, просмотревших главную страницу сайта."
   ]
  },
  {
   "cell_type": "markdown",
   "id": "88d40410",
   "metadata": {},
   "source": [
    "По собранным результатам оценивается статистическая значимость различий между выборками."
   ]
  },
  {
   "cell_type": "code",
   "execution_count": 54,
   "id": "2d90946b",
   "metadata": {},
   "outputs": [],
   "source": [
    "def test_data (event_type):\n",
    "    visitors_A1_from_all = (\n",
    "    df[(df['group'] == 'A1') & (df['event_type'] == event_type)]\n",
    "    .groupby('user_id', as_index=False)\n",
    "    .agg({'event_type': 'count'})\n",
    ")\n",
    "    visitors_A2_from_all = (\n",
    "    df[(df['group'] == 'A2') & (df['event_type'] == event_type)]\n",
    "    .groupby('user_id', as_index=False)\n",
    "    .agg({'event_type': 'count'})\n",
    ")\n",
    "    visitors_A1_A2_from_all = (\n",
    "    df[np.logical_or(df['group'] == 'A1', df['group'] == 'A2') & (df['event_type'] == event_type)]\n",
    "    .groupby('user_id', as_index=False)\n",
    "    .agg({'event_type': 'count'})\n",
    ")\n",
    "    visitors_B_from_all = (\n",
    "    df[(df['group'] == 'B') & (df['event_type'] == event_type)]\n",
    "    .groupby('user_id', as_index=False)\n",
    "    .agg({'event_type': 'count'})\n",
    ")\n",
    "    sampleA1 = pd.concat([visitors_A1_from_all['event_type'], \n",
    "                     pd.Series(0, \n",
    "                               index=np.arange(data['visitors_A1'].sum() \\\n",
    "                                                  - len(visitors_A1_from_all['event_type'])), \n",
    "                               name='visitors_A1_from_all')],axis=0)\n",
    "\n",
    "    sampleA2 = pd.concat([visitors_A2_from_all['event_type'], \n",
    "                     pd.Series(0, \n",
    "                               index=np.arange(data['visitors_A2'].sum() \\\n",
    "                                                  - len(visitors_A2_from_all['event_type'])), \n",
    "                               name='visitors_A2_from_all')],axis=0)\n",
    "\n",
    "    sampleA1_A2 = pd.concat([visitors_A1_A2_from_all['event_type'], \n",
    "                     pd.Series(0, \n",
    "                               index=np.arange(data['visitors_A1_A2'].sum() \\\n",
    "                                                  - len(visitors_A2_from_all['event_type'])), \n",
    "                               name='visitors_A1_A2_from_all')],axis=0)\n",
    "\n",
    "    sampleB = pd.concat([visitors_B_from_all['event_type'], \n",
    "                     pd.Series(0, \n",
    "                               index=np.arange(data['visitors_B'].sum() \\\n",
    "                                                  - len(visitors_A2_from_all['event_type'])), \n",
    "                               name='visitors_B_from_all')],axis=0)\n",
    "    return sampleA1, sampleA2, sampleA1_A2, sampleB"
   ]
  },
  {
   "cell_type": "markdown",
   "id": "085e214e",
   "metadata": {},
   "source": [
    "Вышеописанная функция подготавливает выборки для сравнения путем проведения z-теста."
   ]
  },
  {
   "cell_type": "markdown",
   "id": "a3eccbf1",
   "metadata": {},
   "source": [
    "#### Событие 1 - Посещение главной страницы"
   ]
  },
  {
   "cell_type": "code",
   "execution_count": 55,
   "id": "b4c4bdf3",
   "metadata": {},
   "outputs": [],
   "source": [
    "samples = test_data('MainScreenAppear')\n",
    "\n",
    "alpha = 0.05"
   ]
  },
  {
   "cell_type": "markdown",
   "id": "8177cee8",
   "metadata": {},
   "source": [
    "**Сравнение контрольных групп (A1 / A2)**"
   ]
  },
  {
   "cell_type": "code",
   "execution_count": 56,
   "id": "2cec74ac",
   "metadata": {},
   "outputs": [
    {
     "name": "stdout",
     "output_type": "stream",
     "text": [
      "p-value = 0.687\n",
      "Не получилось отвергнуть нулевую гипотезу, выборки не отличаются\n"
     ]
    }
   ],
   "source": [
    "pvalue = ztest(samples[0], samples[1])[1]\n",
    "\n",
    "print(\"p-value = {0:.3f}\".format(pvalue)) #A1 / A2\n",
    "\n",
    "if pvalue < alpha:\n",
    "    print(\"Отвергаем нулевую гипотезу, выборки отличаются\")\n",
    "else:\n",
    "    print(\"Не получилось отвергнуть нулевую гипотезу, выборки не отличаются\") "
   ]
  },
  {
   "cell_type": "markdown",
   "id": "8253009b",
   "metadata": {},
   "source": [
    "**Вывод** Значение p-value достаточно, чтобы утверждать, что выборки одинаковые.  \n",
    "Гипотеза **H0** о равенстве контрольных групп подтверждена."
   ]
  },
  {
   "cell_type": "markdown",
   "id": "949db848",
   "metadata": {},
   "source": [
    "**Сравнение групп A1 / B**"
   ]
  },
  {
   "cell_type": "code",
   "execution_count": 57,
   "id": "583b792c",
   "metadata": {},
   "outputs": [
    {
     "name": "stdout",
     "output_type": "stream",
     "text": [
      "p-value = 0.247\n",
      "Не получилось отвергнуть нулевую гипотезу, выборки не отличаются\n"
     ]
    }
   ],
   "source": [
    "pvalue = ztest(samples[0], samples[3])[1]\n",
    "\n",
    "print(\"p-value = {0:.3f}\".format(pvalue)) #A1 / B\n",
    "\n",
    "if pvalue < alpha:\n",
    "    print(\"Отвергаем нулевую гипотезу, выборки отличаются\")\n",
    "else:\n",
    "    print(\"Не получилось отвергнуть нулевую гипотезу, выборки не отличаются\") "
   ]
  },
  {
   "cell_type": "markdown",
   "id": "e4603791",
   "metadata": {},
   "source": [
    "**Сравнение групп A2 / B**"
   ]
  },
  {
   "cell_type": "code",
   "execution_count": 58,
   "id": "2705f141",
   "metadata": {},
   "outputs": [
    {
     "name": "stdout",
     "output_type": "stream",
     "text": [
      "p-value = 0.461\n",
      "Не получилось отвергнуть нулевую гипотезу, выборки не отличаются\n"
     ]
    }
   ],
   "source": [
    "pvalue = ztest(samples[1], samples[3])[1]\n",
    "\n",
    "print(\"p-value = {0:.3f}\".format(pvalue)) #A2 / B\n",
    "\n",
    "if pvalue < alpha:\n",
    "    print(\"Отвергаем нулевую гипотезу, выборки отличаются\")\n",
    "else:\n",
    "    print(\"Не получилось отвергнуть нулевую гипотезу, выборки не отличаются\") "
   ]
  },
  {
   "cell_type": "markdown",
   "id": "eaff2d15",
   "metadata": {},
   "source": [
    "**Сравнение групп A1+A2 / B**"
   ]
  },
  {
   "cell_type": "code",
   "execution_count": 59,
   "id": "f558f90c",
   "metadata": {},
   "outputs": [
    {
     "name": "stdout",
     "output_type": "stream",
     "text": [
      "p-value = 0.000\n",
      "Отвергаем нулевую гипотезу, выборки отличаются\n"
     ]
    }
   ],
   "source": [
    "pvalue = ztest(samples[2], samples[3])[1]\n",
    "\n",
    "print(\"p-value = {0:.3f}\".format(pvalue)) #A1+A2 / B\n",
    "\n",
    "if pvalue < alpha:\n",
    "    print(\"Отвергаем нулевую гипотезу, выборки отличаются\")\n",
    "else:\n",
    "    print(\"Не получилось отвергнуть нулевую гипотезу, выборки не отличаются\") "
   ]
  },
  {
   "cell_type": "markdown",
   "id": "9cef515c",
   "metadata": {},
   "source": [
    "**Вывод** Значение p-value достаточно, чтобы утверждать, что группа B не отличается от контрольных групп.  \n",
    "Суммарное количество пользователей групп A1 и A2 разумеется, отличается, от группы B."
   ]
  },
  {
   "cell_type": "markdown",
   "id": "ee71987a",
   "metadata": {},
   "source": [
    "#### Событие 2 - Посещение страницы товара"
   ]
  },
  {
   "cell_type": "code",
   "execution_count": 60,
   "id": "57bd0f81",
   "metadata": {},
   "outputs": [],
   "source": [
    "samples = test_data('OffersScreenAppear')\n",
    "\n",
    "alpha = 0.05"
   ]
  },
  {
   "cell_type": "markdown",
   "id": "e24553c8",
   "metadata": {},
   "source": [
    "**Сравнение контрольных групп (A1 / A2)**"
   ]
  },
  {
   "cell_type": "code",
   "execution_count": 61,
   "id": "9f98b27c",
   "metadata": {},
   "outputs": [
    {
     "name": "stdout",
     "output_type": "stream",
     "text": [
      "p-value = 0.923\n",
      "Не получилось отвергнуть нулевую гипотезу, выборки не отличаются\n"
     ]
    }
   ],
   "source": [
    "pvalue = ztest(samples[0], samples[1])[1]\n",
    "\n",
    "print(\"p-value = {0:.3f}\".format(pvalue)) #A1 / A2\n",
    "\n",
    "if pvalue < alpha:\n",
    "    print(\"Отвергаем нулевую гипотезу, выборки отличаются\")\n",
    "else:\n",
    "    print(\"Не получилось отвергнуть нулевую гипотезу, выборки не отличаются\") "
   ]
  },
  {
   "cell_type": "markdown",
   "id": "2763d6da",
   "metadata": {},
   "source": [
    "**Вывод** Значение p-value достаточно, чтобы утверждать, что выборки одинаковые.  \n",
    "Гипотеза **H0** о равенстве контрольных групп подтверждена."
   ]
  },
  {
   "cell_type": "markdown",
   "id": "02e724c7",
   "metadata": {},
   "source": [
    "**Сравнение групп A1 / B**"
   ]
  },
  {
   "cell_type": "code",
   "execution_count": 62,
   "id": "3b3e99e0",
   "metadata": {},
   "outputs": [
    {
     "name": "stdout",
     "output_type": "stream",
     "text": [
      "p-value = 0.263\n",
      "Не получилось отвергнуть нулевую гипотезу, выборки не отличаются\n"
     ]
    }
   ],
   "source": [
    "pvalue = ztest(samples[0], samples[3])[1]\n",
    "\n",
    "print(\"p-value = {0:.3f}\".format(pvalue)) #A1 / B\n",
    "\n",
    "if pvalue < alpha:\n",
    "    print(\"Отвергаем нулевую гипотезу, выборки отличаются\")\n",
    "else:\n",
    "    print(\"Не получилось отвергнуть нулевую гипотезу, выборки не отличаются\") "
   ]
  },
  {
   "cell_type": "markdown",
   "id": "ca723a56",
   "metadata": {},
   "source": [
    "**Сравнение групп A2 / B**"
   ]
  },
  {
   "cell_type": "code",
   "execution_count": 63,
   "id": "afa2328d",
   "metadata": {},
   "outputs": [
    {
     "name": "stdout",
     "output_type": "stream",
     "text": [
      "p-value = 0.330\n",
      "Не получилось отвергнуть нулевую гипотезу, выборки не отличаются\n"
     ]
    }
   ],
   "source": [
    "pvalue = ztest(samples[1], samples[3])[1]\n",
    "\n",
    "print(\"p-value = {0:.3f}\".format(pvalue)) #A2 / B\n",
    "\n",
    "if pvalue < alpha:\n",
    "    print(\"Отвергаем нулевую гипотезу, выборки отличаются\")\n",
    "else:\n",
    "    print(\"Не получилось отвергнуть нулевую гипотезу, выборки не отличаются\") "
   ]
  },
  {
   "cell_type": "markdown",
   "id": "9a3dc9d5",
   "metadata": {},
   "source": [
    "**Сравнение групп A1+A2 / B**"
   ]
  },
  {
   "cell_type": "code",
   "execution_count": 64,
   "id": "98f6cc3b",
   "metadata": {},
   "outputs": [
    {
     "name": "stdout",
     "output_type": "stream",
     "text": [
      "p-value = 0.004\n",
      "Отвергаем нулевую гипотезу, выборки отличаются\n"
     ]
    }
   ],
   "source": [
    "pvalue = ztest(samples[2], samples[3])[1]\n",
    "\n",
    "print(\"p-value = {0:.3f}\".format(pvalue)) #A1+A2 / B\n",
    "\n",
    "if pvalue < alpha:\n",
    "    print(\"Отвергаем нулевую гипотезу, выборки отличаются\")\n",
    "else:\n",
    "    print(\"Не получилось отвергнуть нулевую гипотезу, выборки не отличаются\") "
   ]
  },
  {
   "cell_type": "markdown",
   "id": "587cc0f3",
   "metadata": {},
   "source": [
    "**Вывод** Значение p-value достаточно, чтобы утверждать, что группа B не отличается от контрольных групп.  \n",
    "Конверсия пользователей не изменилась.  \n",
    "Суммарное количество пользователей групп A1 и A2, посетивших страницу товара, отличается от количества пользователей группы B"
   ]
  },
  {
   "cell_type": "markdown",
   "id": "58809020",
   "metadata": {},
   "source": [
    "#### Событие 3 - Добавление товара в корзину"
   ]
  },
  {
   "cell_type": "code",
   "execution_count": 65,
   "id": "1894bc30",
   "metadata": {},
   "outputs": [],
   "source": [
    "samples = test_data('CartScreenAppear')\n",
    "\n",
    "alpha = 0.05"
   ]
  },
  {
   "cell_type": "markdown",
   "id": "98fc8c6f",
   "metadata": {},
   "source": [
    "**Сравнение контрольных групп (A1 / A2)**"
   ]
  },
  {
   "cell_type": "code",
   "execution_count": 66,
   "id": "3d513722",
   "metadata": {},
   "outputs": [
    {
     "name": "stdout",
     "output_type": "stream",
     "text": [
      "p-value = 0.166\n",
      "Не получилось отвергнуть нулевую гипотезу, выборки не отличаются\n"
     ]
    }
   ],
   "source": [
    "pvalue = ztest(samples[0], samples[1])[1]\n",
    "\n",
    "print(\"p-value = {0:.3f}\".format(pvalue)) #A1 / A2\n",
    "\n",
    "if pvalue < alpha:\n",
    "    print(\"Отвергаем нулевую гипотезу, выборки отличаются\")\n",
    "else:\n",
    "    print(\"Не получилось отвергнуть нулевую гипотезу, выборки не отличаются\") "
   ]
  },
  {
   "cell_type": "markdown",
   "id": "fb6255b4",
   "metadata": {},
   "source": [
    "**Вывод** Значение p-value достаточно, чтобы утверждать, что выборки одинаковые.  \n",
    "Гипотеза **H0** о равенстве контрольных групп подтверждена."
   ]
  },
  {
   "cell_type": "markdown",
   "id": "3233f8a8",
   "metadata": {},
   "source": [
    "**Сравнение групп A1 / B**"
   ]
  },
  {
   "cell_type": "code",
   "execution_count": 67,
   "id": "b31b4b98",
   "metadata": {},
   "outputs": [
    {
     "name": "stdout",
     "output_type": "stream",
     "text": [
      "p-value = 0.973\n",
      "Не получилось отвергнуть нулевую гипотезу, выборки не отличаются\n"
     ]
    }
   ],
   "source": [
    "pvalue = ztest(samples[0], samples[3])[1]\n",
    "\n",
    "print(\"p-value = {0:.3f}\".format(pvalue)) #A1 / B\n",
    "\n",
    "if pvalue < alpha:\n",
    "    print(\"Отвергаем нулевую гипотезу, выборки отличаются\")\n",
    "else:\n",
    "    print(\"Не получилось отвергнуть нулевую гипотезу, выборки не отличаются\") "
   ]
  },
  {
   "cell_type": "markdown",
   "id": "64f3e578",
   "metadata": {},
   "source": [
    "**Сравнение групп A2 / B**"
   ]
  },
  {
   "cell_type": "code",
   "execution_count": 68,
   "id": "5ffb179a",
   "metadata": {},
   "outputs": [
    {
     "name": "stdout",
     "output_type": "stream",
     "text": [
      "p-value = 0.172\n",
      "Не получилось отвергнуть нулевую гипотезу, выборки не отличаются\n"
     ]
    }
   ],
   "source": [
    "pvalue = ztest(samples[1], samples[3])[1]\n",
    "\n",
    "print(\"p-value = {0:.3f}\".format(pvalue)) #A2 / B\n",
    "\n",
    "if pvalue < alpha:\n",
    "    print(\"Отвергаем нулевую гипотезу, выборки отличаются\")\n",
    "else:\n",
    "    print(\"Не получилось отвергнуть нулевую гипотезу, выборки не отличаются\") "
   ]
  },
  {
   "cell_type": "markdown",
   "id": "f95a8713",
   "metadata": {},
   "source": [
    "**Сравнение групп A1+A2 / B**"
   ]
  },
  {
   "cell_type": "code",
   "execution_count": 69,
   "id": "be3aa0d4",
   "metadata": {},
   "outputs": [
    {
     "name": "stdout",
     "output_type": "stream",
     "text": [
      "p-value = 0.150\n",
      "Не получилось отвергнуть нулевую гипотезу, выборки не отличаются\n"
     ]
    }
   ],
   "source": [
    "pvalue = ztest(samples[2], samples[3])[1]\n",
    "\n",
    "print(\"p-value = {0:.3f}\".format(pvalue)) #A1+A2 / B\n",
    "\n",
    "if pvalue < alpha:\n",
    "    print(\"Отвергаем нулевую гипотезу, выборки отличаются\")\n",
    "else:\n",
    "    print(\"Не получилось отвергнуть нулевую гипотезу, выборки не отличаются\") "
   ]
  },
  {
   "cell_type": "markdown",
   "id": "dc6d21a8",
   "metadata": {},
   "source": [
    "**Вывод** Значение p-value достаточно, чтобы утверждать, что группа B не отличается от контрольных групп."
   ]
  },
  {
   "cell_type": "markdown",
   "id": "46d3157f",
   "metadata": {},
   "source": [
    "#### Событие 4 - Успешная оплата заказа"
   ]
  },
  {
   "cell_type": "code",
   "execution_count": 70,
   "id": "131c6339",
   "metadata": {},
   "outputs": [],
   "source": [
    "samples = test_data('PaymentScreenSuccessful')\n",
    "\n",
    "alpha = 0.05"
   ]
  },
  {
   "cell_type": "markdown",
   "id": "8cbca588",
   "metadata": {},
   "source": [
    "**Сравнение контрольных групп (A1 / A2)**"
   ]
  },
  {
   "cell_type": "code",
   "execution_count": 71,
   "id": "b096a087",
   "metadata": {},
   "outputs": [
    {
     "name": "stdout",
     "output_type": "stream",
     "text": [
      "p-value = 0.220\n",
      "Не получилось отвергнуть нулевую гипотезу, выборки не отличаются\n"
     ]
    }
   ],
   "source": [
    "pvalue = ztest(samples[0], samples[1])[1]\n",
    "\n",
    "print(\"p-value = {0:.3f}\".format(pvalue)) #A1 / A2\n",
    "\n",
    "if pvalue < alpha:\n",
    "    print(\"Отвергаем нулевую гипотезу, выборки отличаются\")\n",
    "else:\n",
    "    print(\"Не получилось отвергнуть нулевую гипотезу, выборки не отличаются\") "
   ]
  },
  {
   "cell_type": "markdown",
   "id": "5314ff96",
   "metadata": {},
   "source": [
    "**Вывод** Значение p-value достаточно, чтобы утверждать, что выборки одинаковые.  \n",
    "Гипотеза **H0** о равенстве контрольных групп подтверждена."
   ]
  },
  {
   "cell_type": "markdown",
   "id": "0b636293",
   "metadata": {},
   "source": [
    "**Сравнение групп A1 / B**"
   ]
  },
  {
   "cell_type": "code",
   "execution_count": 72,
   "id": "6014fb9a",
   "metadata": {},
   "outputs": [
    {
     "name": "stdout",
     "output_type": "stream",
     "text": [
      "p-value = 0.940\n",
      "Не получилось отвергнуть нулевую гипотезу, выборки не отличаются\n"
     ]
    }
   ],
   "source": [
    "pvalue = ztest(samples[0], samples[3])[1]\n",
    "\n",
    "print(\"p-value = {0:.3f}\".format(pvalue)) #A1 / B\n",
    "\n",
    "if pvalue < alpha:\n",
    "    print(\"Отвергаем нулевую гипотезу, выборки отличаются\")\n",
    "else:\n",
    "    print(\"Не получилось отвергнуть нулевую гипотезу, выборки не отличаются\") "
   ]
  },
  {
   "cell_type": "markdown",
   "id": "8a6f297b",
   "metadata": {},
   "source": [
    "**Сравнение групп A2 / B**"
   ]
  },
  {
   "cell_type": "code",
   "execution_count": 73,
   "id": "643a7fe4",
   "metadata": {},
   "outputs": [
    {
     "name": "stdout",
     "output_type": "stream",
     "text": [
      "p-value = 0.275\n",
      "Не получилось отвергнуть нулевую гипотезу, выборки не отличаются\n"
     ]
    }
   ],
   "source": [
    "pvalue = ztest(samples[1], samples[3])[1]\n",
    "\n",
    "print(\"p-value = {0:.3f}\".format(pvalue)) #A2 / B\n",
    "\n",
    "if pvalue < alpha:\n",
    "    print(\"Отвергаем нулевую гипотезу, выборки отличаются\")\n",
    "else:\n",
    "    print(\"Не получилось отвергнуть нулевую гипотезу, выборки не отличаются\") "
   ]
  },
  {
   "cell_type": "markdown",
   "id": "2afdcbcf",
   "metadata": {},
   "source": [
    "**Сравнение групп A1+A2 / B**"
   ]
  },
  {
   "cell_type": "code",
   "execution_count": 74,
   "id": "88c44143",
   "metadata": {},
   "outputs": [
    {
     "name": "stdout",
     "output_type": "stream",
     "text": [
      "p-value = 0.271\n",
      "Не получилось отвергнуть нулевую гипотезу, выборки не отличаются\n"
     ]
    }
   ],
   "source": [
    "pvalue = ztest(samples[2], samples[3])[1]\n",
    "\n",
    "print(\"p-value = {0:.3f}\".format(pvalue)) #A1+A2 / B\n",
    "\n",
    "if pvalue < alpha:\n",
    "    print(\"Отвергаем нулевую гипотезу, выборки отличаются\")\n",
    "else:\n",
    "    print(\"Не получилось отвергнуть нулевую гипотезу, выборки не отличаются\") "
   ]
  },
  {
   "cell_type": "markdown",
   "id": "f4888935",
   "metadata": {},
   "source": [
    "**Вывод** Значение p-value достаточно, чтобы утверждать, что группа B не отличается от контрольных групп.  "
   ]
  },
  {
   "cell_type": "markdown",
   "id": "ce2f0c86",
   "metadata": {},
   "source": [
    "## Выводы"
   ]
  },
  {
   "cell_type": "markdown",
   "id": "dcf1fbaf",
   "metadata": {},
   "source": [
    "В процессе исследования данных был составлен маршрут пользователя при оформлении заказа, а также было выяснено, что:\n",
    "1. Данные между группами распределяются корректно, без повторяющихся пользователей.\n",
    "2. Различий между контрольными группами не обнаружено.\n",
    "\n",
    "Тем не менее, в ходе недельного тестирования не было замечено значимых отличий группы B (с обновленным интерфейсом) от двух контрольных групп.  \n",
    "\n",
    "Можно сделать вывод, что обновленный интерфейс не повлиял на посещаемость сайта и конверсию."
   ]
  }
 ],
 "metadata": {
  "ExecuteTimeLog": [
   {
    "duration": 1135,
    "start_time": "2023-01-20T08:26:30.406Z"
   },
   {
    "duration": 144,
    "start_time": "2023-01-20T08:26:31.543Z"
   },
   {
    "duration": 0,
    "start_time": "2023-01-20T08:26:31.694Z"
   },
   {
    "duration": 0,
    "start_time": "2023-01-20T08:26:31.699Z"
   },
   {
    "duration": 0,
    "start_time": "2023-01-20T08:26:31.700Z"
   },
   {
    "duration": 0,
    "start_time": "2023-01-20T08:26:31.701Z"
   },
   {
    "duration": 1,
    "start_time": "2023-01-20T08:26:31.701Z"
   },
   {
    "duration": 0,
    "start_time": "2023-01-20T08:26:31.702Z"
   },
   {
    "duration": 0,
    "start_time": "2023-01-20T08:26:31.703Z"
   },
   {
    "duration": 0,
    "start_time": "2023-01-20T08:26:31.704Z"
   },
   {
    "duration": 0,
    "start_time": "2023-01-20T08:26:31.705Z"
   },
   {
    "duration": 0,
    "start_time": "2023-01-20T08:26:31.706Z"
   },
   {
    "duration": 0,
    "start_time": "2023-01-20T08:26:31.706Z"
   },
   {
    "duration": 0,
    "start_time": "2023-01-20T08:26:31.707Z"
   },
   {
    "duration": 0,
    "start_time": "2023-01-20T08:26:31.708Z"
   },
   {
    "duration": 0,
    "start_time": "2023-01-20T08:26:31.709Z"
   },
   {
    "duration": 0,
    "start_time": "2023-01-20T08:26:31.710Z"
   },
   {
    "duration": 0,
    "start_time": "2023-01-20T08:26:31.711Z"
   },
   {
    "duration": 0,
    "start_time": "2023-01-20T08:26:31.713Z"
   },
   {
    "duration": 0,
    "start_time": "2023-01-20T08:26:31.714Z"
   },
   {
    "duration": 0,
    "start_time": "2023-01-20T08:26:31.715Z"
   },
   {
    "duration": 0,
    "start_time": "2023-01-20T08:26:31.716Z"
   },
   {
    "duration": 0,
    "start_time": "2023-01-20T08:26:31.717Z"
   },
   {
    "duration": 0,
    "start_time": "2023-01-20T08:26:31.718Z"
   },
   {
    "duration": 0,
    "start_time": "2023-01-20T08:26:31.719Z"
   },
   {
    "duration": 0,
    "start_time": "2023-01-20T08:26:31.720Z"
   },
   {
    "duration": 0,
    "start_time": "2023-01-20T08:26:31.721Z"
   },
   {
    "duration": 0,
    "start_time": "2023-01-20T08:26:31.722Z"
   },
   {
    "duration": 0,
    "start_time": "2023-01-20T08:26:31.723Z"
   },
   {
    "duration": 0,
    "start_time": "2023-01-20T08:26:31.724Z"
   },
   {
    "duration": 0,
    "start_time": "2023-01-20T08:26:31.726Z"
   },
   {
    "duration": 0,
    "start_time": "2023-01-20T08:26:31.727Z"
   },
   {
    "duration": 0,
    "start_time": "2023-01-20T08:26:31.728Z"
   },
   {
    "duration": 0,
    "start_time": "2023-01-20T08:26:31.729Z"
   },
   {
    "duration": 0,
    "start_time": "2023-01-20T08:26:31.730Z"
   },
   {
    "duration": 1,
    "start_time": "2023-01-20T08:26:31.730Z"
   },
   {
    "duration": 0,
    "start_time": "2023-01-20T08:26:31.732Z"
   },
   {
    "duration": 0,
    "start_time": "2023-01-20T08:26:31.733Z"
   },
   {
    "duration": 0,
    "start_time": "2023-01-20T08:26:31.734Z"
   },
   {
    "duration": 0,
    "start_time": "2023-01-20T08:26:31.735Z"
   },
   {
    "duration": 0,
    "start_time": "2023-01-20T08:26:31.736Z"
   },
   {
    "duration": 0,
    "start_time": "2023-01-20T08:26:31.737Z"
   },
   {
    "duration": 0,
    "start_time": "2023-01-20T08:26:31.739Z"
   },
   {
    "duration": 0,
    "start_time": "2023-01-20T08:26:31.739Z"
   },
   {
    "duration": 0,
    "start_time": "2023-01-20T08:26:31.792Z"
   },
   {
    "duration": 0,
    "start_time": "2023-01-20T08:26:31.793Z"
   },
   {
    "duration": 0,
    "start_time": "2023-01-20T08:26:31.799Z"
   },
   {
    "duration": 0,
    "start_time": "2023-01-20T08:26:31.799Z"
   },
   {
    "duration": 0,
    "start_time": "2023-01-20T08:26:31.800Z"
   },
   {
    "duration": 0,
    "start_time": "2023-01-20T08:26:31.801Z"
   },
   {
    "duration": 0,
    "start_time": "2023-01-20T08:26:31.801Z"
   },
   {
    "duration": 0,
    "start_time": "2023-01-20T08:26:31.802Z"
   },
   {
    "duration": 0,
    "start_time": "2023-01-20T08:26:31.803Z"
   },
   {
    "duration": 0,
    "start_time": "2023-01-20T08:26:31.803Z"
   },
   {
    "duration": 0,
    "start_time": "2023-01-20T08:26:31.804Z"
   },
   {
    "duration": 0,
    "start_time": "2023-01-20T08:26:31.805Z"
   },
   {
    "duration": 0,
    "start_time": "2023-01-20T08:26:31.805Z"
   },
   {
    "duration": 0,
    "start_time": "2023-01-20T08:26:31.806Z"
   },
   {
    "duration": 0,
    "start_time": "2023-01-20T08:26:31.814Z"
   },
   {
    "duration": 45,
    "start_time": "2023-01-20T08:27:43.577Z"
   },
   {
    "duration": 759,
    "start_time": "2023-01-20T08:28:49.851Z"
   },
   {
    "duration": 1152,
    "start_time": "2023-01-20T08:29:00.017Z"
   },
   {
    "duration": 188,
    "start_time": "2023-01-20T08:29:01.171Z"
   },
   {
    "duration": 12,
    "start_time": "2023-01-20T08:29:01.361Z"
   },
   {
    "duration": 46,
    "start_time": "2023-01-20T08:29:01.374Z"
   },
   {
    "duration": 38,
    "start_time": "2023-01-20T08:29:01.423Z"
   },
   {
    "duration": 87,
    "start_time": "2023-01-20T08:29:01.463Z"
   },
   {
    "duration": 64,
    "start_time": "2023-01-20T08:29:01.552Z"
   },
   {
    "duration": 67,
    "start_time": "2023-01-20T08:29:01.619Z"
   },
   {
    "duration": 54,
    "start_time": "2023-01-20T08:29:01.688Z"
   },
   {
    "duration": 67,
    "start_time": "2023-01-20T08:29:01.745Z"
   },
   {
    "duration": 141,
    "start_time": "2023-01-20T08:29:01.817Z"
   },
   {
    "duration": 112,
    "start_time": "2023-01-20T08:29:01.960Z"
   },
   {
    "duration": 34,
    "start_time": "2023-01-20T08:29:02.074Z"
   },
   {
    "duration": 51,
    "start_time": "2023-01-20T08:29:02.115Z"
   },
   {
    "duration": 66,
    "start_time": "2023-01-20T08:29:02.168Z"
   },
   {
    "duration": 3,
    "start_time": "2023-01-20T08:29:02.236Z"
   },
   {
    "duration": 76,
    "start_time": "2023-01-20T08:29:02.241Z"
   },
   {
    "duration": 14,
    "start_time": "2023-01-20T08:29:02.320Z"
   },
   {
    "duration": 10,
    "start_time": "2023-01-20T08:29:02.336Z"
   },
   {
    "duration": 59,
    "start_time": "2023-01-20T08:29:02.348Z"
   },
   {
    "duration": 17,
    "start_time": "2023-01-20T08:29:02.416Z"
   },
   {
    "duration": 15,
    "start_time": "2023-01-20T08:29:02.435Z"
   },
   {
    "duration": 555,
    "start_time": "2023-01-20T08:29:02.451Z"
   },
   {
    "duration": 33,
    "start_time": "2023-01-20T08:29:03.007Z"
   },
   {
    "duration": 15,
    "start_time": "2023-01-20T08:29:03.041Z"
   },
   {
    "duration": 52,
    "start_time": "2023-01-20T08:29:03.058Z"
   },
   {
    "duration": 19,
    "start_time": "2023-01-20T08:29:03.113Z"
   },
   {
    "duration": 443,
    "start_time": "2023-01-20T08:29:03.134Z"
   },
   {
    "duration": 52,
    "start_time": "2023-01-20T08:29:03.579Z"
   },
   {
    "duration": 8,
    "start_time": "2023-01-20T08:29:03.632Z"
   },
   {
    "duration": 140,
    "start_time": "2023-01-20T08:29:03.642Z"
   },
   {
    "duration": 187,
    "start_time": "2023-01-20T08:29:03.784Z"
   },
   {
    "duration": 73,
    "start_time": "2023-01-20T08:29:03.973Z"
   },
   {
    "duration": 175,
    "start_time": "2023-01-20T08:29:04.048Z"
   },
   {
    "duration": 4,
    "start_time": "2023-01-20T08:29:04.225Z"
   },
   {
    "duration": 112,
    "start_time": "2023-01-20T08:29:04.231Z"
   },
   {
    "duration": 36,
    "start_time": "2023-01-20T08:29:04.345Z"
   },
   {
    "duration": 183,
    "start_time": "2023-01-20T08:29:04.383Z"
   },
   {
    "duration": 67,
    "start_time": "2023-01-20T08:29:04.568Z"
   },
   {
    "duration": 11,
    "start_time": "2023-01-20T08:29:04.638Z"
   },
   {
    "duration": 162,
    "start_time": "2023-01-20T08:29:04.654Z"
   },
   {
    "duration": 146,
    "start_time": "2023-01-20T08:29:04.820Z"
   },
   {
    "duration": 6,
    "start_time": "2023-01-20T08:29:04.968Z"
   },
   {
    "duration": 90,
    "start_time": "2023-01-20T08:29:04.975Z"
   },
   {
    "duration": 50,
    "start_time": "2023-01-20T08:29:05.066Z"
   },
   {
    "duration": 45,
    "start_time": "2023-01-20T08:29:05.118Z"
   },
   {
    "duration": 184,
    "start_time": "2023-01-20T08:29:05.165Z"
   },
   {
    "duration": 48,
    "start_time": "2023-01-20T08:29:05.351Z"
   },
   {
    "duration": 47,
    "start_time": "2023-01-20T08:29:05.401Z"
   },
   {
    "duration": 47,
    "start_time": "2023-01-20T08:29:05.450Z"
   },
   {
    "duration": 15,
    "start_time": "2023-01-20T08:29:05.500Z"
   },
   {
    "duration": 11,
    "start_time": "2023-01-20T08:29:05.520Z"
   },
   {
    "duration": 38,
    "start_time": "2023-01-20T08:29:05.533Z"
   },
   {
    "duration": 44,
    "start_time": "2023-01-20T08:29:05.573Z"
   },
   {
    "duration": 150,
    "start_time": "2023-01-20T08:29:05.618Z"
   },
   {
    "duration": 104,
    "start_time": "2023-01-20T08:29:05.769Z"
   },
   {
    "duration": 164,
    "start_time": "2023-01-20T08:29:05.874Z"
   },
   {
    "duration": 36,
    "start_time": "2023-01-20T08:29:06.040Z"
   },
   {
    "duration": 171,
    "start_time": "2023-01-20T08:29:06.078Z"
   }
  ],
  "kernelspec": {
   "display_name": "Python 3 (ipykernel)",
   "language": "python",
   "name": "python3"
  },
  "language_info": {
   "codemirror_mode": {
    "name": "ipython",
    "version": 3
   },
   "file_extension": ".py",
   "mimetype": "text/x-python",
   "name": "python",
   "nbconvert_exporter": "python",
   "pygments_lexer": "ipython3",
   "version": "3.9.12"
  },
  "toc": {
   "base_numbering": 1,
   "nav_menu": {
    "height": "312px",
    "width": "395px"
   },
   "number_sections": true,
   "sideBar": true,
   "skip_h1_title": true,
   "title_cell": "Оглавление",
   "title_sidebar": "Оглавление",
   "toc_cell": true,
   "toc_position": {
    "height": "calc(100% - 180px)",
    "left": "10px",
    "top": "150px",
    "width": "387.2px"
   },
   "toc_section_display": true,
   "toc_window_display": true
  }
 },
 "nbformat": 4,
 "nbformat_minor": 5
}
